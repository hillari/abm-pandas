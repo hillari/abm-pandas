{
 "cells": [
  {
   "cell_type": "code",
   "execution_count": 1,
   "metadata": {
    "collapsed": true
   },
   "outputs": [],
   "source": [
    "import pandas as pd\n",
    "import matplotlib\n",
    "import matplotlib.pyplot as plt"
   ]
  },
  {
   "cell_type": "code",
   "execution_count": 4,
   "outputs": [
    {
     "name": "stdout",
     "output_type": "stream",
     "text": [
      "1 0.01\n",
      "2 0.01\n",
      "3 0.01\n",
      "4 0.01\n",
      "5 0.01\n",
      "6 0.01\n",
      "7 0.01\n",
      "8 0.01\n",
      "9 0.01\n",
      "10 0.01\n",
      "11 0.03\n",
      "12 0.03\n",
      "13 0.03\n",
      "14 0.03\n",
      "15 0.03\n",
      "16 0.03\n",
      "17 0.03\n",
      "18 0.03\n",
      "19 0.03\n",
      "20 0.03\n",
      "21 0.05\n",
      "22 0.05\n",
      "23 0.05\n",
      "24 0.05\n",
      "25 0.05\n",
      "26 0.05\n",
      "27 0.05\n",
      "28 0.05\n",
      "29 0.05\n",
      "30 0.05\n",
      "31 0.07\n",
      "32 0.07\n",
      "33 0.07\n",
      "34 0.07\n",
      "35 0.07\n",
      "36 0.07\n",
      "37 0.07\n",
      "38 0.07\n",
      "39 0.07\n",
      "40 0.07\n",
      "41 0.1\n",
      "42 0.1\n",
      "43 0.1\n",
      "44 0.1\n",
      "45 0.1\n",
      "46 0.1\n",
      "47 0.1\n",
      "48 0.1\n",
      "49 0.1\n",
      "50 0.1\n"
     ]
    }
   ],
   "source": [
    "# habitat_dict ( run -> habitat)\n",
    "# Parses param file to create a dictionary that maps the run# to host_density { run#: habitat_suitability }\n",
    "\n",
    "paramfile = \"/media/hill/DATA-LINUX/abm-data/habitat-suitability/params-sept1-hab7\"\n",
    "paramd = {}\n",
    "with open(paramfile, 'r') as file:\n",
    "    for line in file:\n",
    "        result = line.replace(\"\\t\",\",\").split(',')\n",
    "        # attempt to add the density value to run, if it doesn't exist, create it\n",
    "        try:\n",
    "            paramd[int(result[0])].append(float(result[8]))\n",
    "        except KeyError:\n",
    "            paramd[int(result[0])] = float(result[8])  # { run#: host_density }\n",
    "\n",
    "for k, v in paramd.items():\n",
    "    print(k,v)"
   ],
   "metadata": {
    "collapsed": false,
    "pycharm": {
     "name": "#%%\n"
    }
   }
  },
  {
   "cell_type": "code",
   "execution_count": 12,
   "outputs": [
    {
     "name": "stderr",
     "output_type": "stream",
     "text": [
      "/home/hill/anaconda3/envs/abm/lib/python3.7/site-packages/IPython/core/interactiveshell.py:3063: DtypeWarning: Columns (0,1) have mixed types.Specify dtype option on import or set low_memory=False.\n",
      "  interactivity=interactivity, compiler=compiler, result=result)\n"
     ]
    },
    {
     "data": {
      "text/plain": "Index(['run', 'tick', 'lifestate', 'name'], dtype='object')"
     },
     "execution_count": 12,
     "metadata": {},
     "output_type": "execute_result"
    }
   ],
   "source": [
    "# colnames = ['run', 'tick', 'lifestate', 'name']\n",
    "# actual_run=\"/media/hill/DATA-LINUX/abm-data/habitat-suitability/habitat-suitability.2020.Sep.01_hab5\"\n",
    "# d = pd.read_csv(actual_run,\n",
    "#                 names=colnames, error_bad_lines=False)"
   ],
   "metadata": {
    "collapsed": false,
    "pycharm": {
     "name": "#%%\n"
    }
   }
  },
  {
   "cell_type": "code",
   "execution_count": 13,
   "outputs": [
    {
     "data": {
      "text/plain": "array(['lifestate', 'egg', 'adult', 'larva', 'nymph'], dtype=object)"
     },
     "execution_count": 13,
     "metadata": {},
     "output_type": "execute_result"
    }
   ],
   "source": [
    "# d.lifestate.unique()"
   ],
   "metadata": {
    "collapsed": false,
    "pycharm": {
     "name": "#%%\n"
    }
   }
  },
  {
   "cell_type": "code",
   "execution_count": 4,
   "outputs": [
    {
     "data": {
      "text/plain": "   run  tick lifestate    name\n0    1   1.0     adult  Tick 1\n1    1   1.0     adult  Tick 9\n3    1   1.0     adult  Tick 3\n4    1   1.0     nymph  Tick 0\n5    1   1.0     adult  Tick 8",
      "text/html": "<div>\n<style scoped>\n    .dataframe tbody tr th:only-of-type {\n        vertical-align: middle;\n    }\n\n    .dataframe tbody tr th {\n        vertical-align: top;\n    }\n\n    .dataframe thead th {\n        text-align: right;\n    }\n</style>\n<table border=\"1\" class=\"dataframe\">\n  <thead>\n    <tr style=\"text-align: right;\">\n      <th></th>\n      <th>run</th>\n      <th>tick</th>\n      <th>lifestate</th>\n      <th>name</th>\n    </tr>\n  </thead>\n  <tbody>\n    <tr>\n      <th>0</th>\n      <td>1</td>\n      <td>1.0</td>\n      <td>adult</td>\n      <td>Tick 1</td>\n    </tr>\n    <tr>\n      <th>1</th>\n      <td>1</td>\n      <td>1.0</td>\n      <td>adult</td>\n      <td>Tick 9</td>\n    </tr>\n    <tr>\n      <th>3</th>\n      <td>1</td>\n      <td>1.0</td>\n      <td>adult</td>\n      <td>Tick 3</td>\n    </tr>\n    <tr>\n      <th>4</th>\n      <td>1</td>\n      <td>1.0</td>\n      <td>nymph</td>\n      <td>Tick 0</td>\n    </tr>\n    <tr>\n      <th>5</th>\n      <td>1</td>\n      <td>1.0</td>\n      <td>adult</td>\n      <td>Tick 8</td>\n    </tr>\n  </tbody>\n</table>\n</div>"
     },
     "execution_count": 4,
     "metadata": {},
     "output_type": "execute_result"
    }
   ],
   "source": [
    "\n",
    "\n",
    "\n",
    "csv_file = \"/media/hill/DATA-LINUX/abm-data/habitat-suitability/testdf-agg\"\n",
    "colnames = ['run', 'tick', 'lifestate', 'name']\n",
    "data = pd.read_csv(csv_file, names=colnames, header=None, error_bad_lines=False)\n",
    "\n",
    "# drop egg, larva\n",
    "# filter rows w/egg,nymph and store the indexes, then drop these rows\n",
    "index_lifestates = data[(data['lifestate'] == 'egg') | (data['lifestate'] == 'larva')].index\n",
    "data.drop(index_lifestates, inplace=True)"
   ],
   "metadata": {
    "collapsed": false,
    "pycharm": {
     "name": "#%%\n"
    }
   }
  },
  {
   "cell_type": "code",
   "execution_count": 7,
   "outputs": [
    {
     "data": {
      "text/plain": "1    105\n0     17\nName: lifestate_adult, dtype: int64"
     },
     "execution_count": 7,
     "metadata": {},
     "output_type": "execute_result"
    }
   ],
   "source": [
    "# Handle categoricals for lifestate\n",
    "dummies_df = pd.get_dummies(data, columns=['lifestate'])\n",
    "dummies_df['lifestate_adult'].value_counts()\n",
    "# NEXT - get count of these to create total_nymph, total_adult\n"
   ],
   "metadata": {
    "collapsed": false,
    "pycharm": {
     "name": "#%%\n"
    }
   }
  },
  {
   "cell_type": "code",
   "execution_count": null,
   "outputs": [],
   "source": [
    "# total_ixodes_dict (run# -> total_ixodes)\n",
    "# Parse Repast data file to create a dictionary that maps the run# to total ixodes { run#: total_adult, total_nymph }\n",
    "ixodes_count_dict = {}\n",
    "# colnames = ['run', 'tick', 'lifestate', 'name']\n",
    "# csv_file = \"../data/host-density/new-model-agg/testdf-agg\"\n",
    "# df = pd.read_csv(csv_file, names=colnames, header=None, error_bad_lines=False)\n",
    "# for run in df.groupby('run'):\n",
    "#     current_df = run[1]\n",
    "#     ixodes_count_dict[run[0]] = len(current_df['name'].unique())\n"
   ],
   "metadata": {
    "collapsed": false,
    "pycharm": {
     "name": "#%%\n"
    }
   }
  },
  {
   "cell_type": "code",
   "execution_count": null,
   "outputs": [],
   "source": [
    "# # Creating a data frame from the total_ixodes dict generated above\n",
    "# df_final = pd.DataFrame(ixodes_count_dict.items(), columns=['run', 'total_ixodes'])\n",
    "# df_final['habitat_suitability'] = 0\n",
    "# df_final.dtypes\n"
   ],
   "metadata": {
    "collapsed": false,
    "pycharm": {
     "name": "#%%\n"
    }
   }
  },
  {
   "cell_type": "code",
   "execution_count": null,
   "outputs": [],
   "source": [
    "# Iterate through habitat dictionary and add the habitat suitability value to the df\n",
    "for key, value in paramd.items():\n",
    "    for i in range(len(paramd)):\n",
    "        df_final.loc[df_final['run']==key, 'habitat_suitability'] = value # 'run'==key ensures we are adding it to the correct column\n"
   ],
   "metadata": {
    "collapsed": false,
    "pycharm": {
     "name": "#%%\n"
    }
   }
  }
 ],
 "metadata": {
  "kernelspec": {
   "display_name": "Python 3",
   "language": "python",
   "name": "python3"
  },
  "language_info": {
   "codemirror_mode": {
    "name": "ipython",
    "version": 2
   },
   "file_extension": ".py",
   "mimetype": "text/x-python",
   "name": "python",
   "nbconvert_exporter": "python",
   "pygments_lexer": "ipython2",
   "version": "2.7.6"
  }
 },
 "nbformat": 4,
 "nbformat_minor": 0
}