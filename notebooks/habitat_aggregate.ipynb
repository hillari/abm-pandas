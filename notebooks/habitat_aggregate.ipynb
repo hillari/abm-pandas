{
 "cells": [
  {
   "cell_type": "code",
   "execution_count": null,
   "metadata": {
    "collapsed": true
   },
   "outputs": [],
   "source": [
    "import pandas as pd\n",
    "import matplotlib\n",
    "import matplotlib.pyplot as plt"
   ]
  },
  {
   "cell_type": "code",
   "execution_count": null,
   "outputs": [],
   "source": [
    "# habitat_dict ( run -> habitat)\n",
    "# Parses param file to create a dictionary that maps the run# to host_density { run#: habitat_suitability }\n",
    "\n",
    "paramfile = \"/media/hill/DATA-LINUX/abm-data/habitat-suitability/params-sept1-hab7\"\n",
    "paramd = {}\n",
    "with open(paramfile, 'r') as file:\n",
    "    for line in file:\n",
    "        result = line.replace(\"\\t\",\",\").split(',')\n",
    "        # attempt to add the density value to run, if it doesn't exist, create it\n",
    "        try:\n",
    "            paramd[int(result[0])].append(float(result[8]))\n",
    "        except KeyError:\n",
    "            paramd[int(result[0])] = float(result[8])  # { run#: host_density }\n",
    "\n",
    "for k, v in paramd.items():\n",
    "    print(k,v)"
   ],
   "metadata": {
    "collapsed": false,
    "pycharm": {
     "name": "#%%\n"
    }
   }
  },
  {
   "cell_type": "code",
   "execution_count": null,
   "outputs": [],
   "source": [
    "# colnames = ['run', 'tick', 'lifestate', 'name']\n",
    "# actual_run=\"/DATA-LINUX/abm-data/habitat-suitability/habitat-suitability.2020.Sep.01_hab5\"\n",
    "# d = pd.read_csv(actual_run,\n",
    "#                 names=colnames, error_bad_lines=False)"
   ],
   "metadata": {
    "collapsed": false,
    "pycharm": {
     "name": "#%%\n"
    }
   }
  },
  {
   "cell_type": "code",
   "execution_count": null,
   "outputs": [],
   "source": [
    "# d.lifestate.unique()"
   ],
   "metadata": {
    "collapsed": false,
    "pycharm": {
     "name": "#%%\n"
    }
   }
  },
  {
   "cell_type": "code",
   "execution_count": null,
   "outputs": [],
   "source": [
    "csv_file = \"/media/hill/DATA-LINUX/abm-data/habitat-suitability/testdf-agg\"\n",
    "colnames = ['run', 'tick', 'lifestate', 'name']\n",
    "data = pd.read_csv(csv_file, names=colnames, header=None, error_bad_lines=False)\n",
    "\n",
    "# drop egg, larva\n",
    "# filter rows w/egg,nymph and store the indexes, then drop these rows\n",
    "index_lifestates = data[(data['lifestate'] == 'egg') | (data['lifestate'] == 'larva')].index\n",
    "data.drop(index_lifestates, inplace=True)"
   ],
   "metadata": {
    "collapsed": false,
    "pycharm": {
     "name": "#%%\n"
    }
   }
  },
  {
   "cell_type": "code",
   "execution_count": null,
   "outputs": [],
   "source": [
    "# Handle categoricals for lifestate\n",
    "dummies_df = pd.get_dummies(data, columns=['lifestate'])\n",
    "dummies_df['lifestate_adult'].value_counts()\n",
    "# NEXT - get count of these to create total_nymph, total_adult\n"
   ],
   "metadata": {
    "collapsed": false,
    "pycharm": {
     "name": "#%%\n"
    }
   }
  },
  {
   "cell_type": "code",
   "execution_count": null,
   "outputs": [],
   "source": [
    "# total_ixodes_dict (run# -> total_ixodes)\n",
    "# Parse Repast data file to create a dictionary that maps the run# to total ixodes { run#: total_adult, total_nymph }\n",
    "# ixodes_count_dict = {}\n",
    "# colnames = ['run', 'tick', 'lifestate', 'name']\n",
    "# csv_file = \"../data/host-density/new-model-agg/testdf-agg\"\n",
    "# df = pd.read_csv(csv_file, names=colnames, header=None, error_bad_lines=False)\n",
    "# for run in df.groupby('run'):\n",
    "#     current_df = run[1]\n",
    "#     ixodes_count_dict[run[0]] = len(current_df['name'].unique())\n"
   ],
   "metadata": {
    "collapsed": false,
    "pycharm": {
     "name": "#%%\n"
    }
   }
  },
  {
   "cell_type": "code",
   "execution_count": null,
   "outputs": [],
   "source": [
    "# # Creating a data frame from the total_ixodes dict generated above\n",
    "# df_final = pd.DataFrame(ixodes_count_dict.items(), columns=['run', 'total_ixodes'])\n",
    "# df_final['habitat_suitability'] = 0\n",
    "# df_final.dtypes\n"
   ],
   "metadata": {
    "collapsed": false,
    "pycharm": {
     "name": "#%%\n"
    }
   }
  },
  {
   "cell_type": "code",
   "execution_count": null,
   "outputs": [],
   "source": [
    "# Iterate through habitat dictionary and add the habitat suitability value to the df\n",
    "for key, value in paramd.items():\n",
    "    for i in range(len(paramd)):\n",
    "        df_final.loc[df_final['run']==key, 'habitat_suitability'] = value # 'run'==key ensures we are adding it to the correct column\n"
   ],
   "metadata": {
    "collapsed": false,
    "pycharm": {
     "name": "#%%\n"
    }
   }
  }
 ],
 "metadata": {
  "kernelspec": {
   "display_name": "Python 3",
   "language": "python",
   "name": "python3"
  },
  "language_info": {
   "codemirror_mode": {
    "name": "ipython",
    "version": 2
   },
   "file_extension": ".py",
   "mimetype": "text/x-python",
   "name": "python",
   "nbconvert_exporter": "python",
   "pygments_lexer": "ipython2",
   "version": "2.7.6"
  }
 },
 "nbformat": 4,
 "nbformat_minor": 0
}