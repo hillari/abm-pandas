{
 "cells": [
  {
   "cell_type": "code",
   "execution_count": 1,
   "metadata": {
    "collapsed": true
   },
   "outputs": [],
   "source": [
    "import pandas as pd\n",
    "import matplotlib.pyplot as plt\n",
    "import os\n",
    "import numpy as np"
   ]
  },
  {
   "cell_type": "code",
   "execution_count": 2,
   "metadata": {
    "pycharm": {
     "name": "#%%\n"
    }
   },
   "outputs": [
    {
     "data": {
      "text/plain": [
       "density       float64\n",
       "totalIxode      int64\n",
       "dtype: object"
      ]
     },
     "execution_count": 2,
     "metadata": {},
     "output_type": "execute_result"
    }
   ],
   "source": [
    "# TODO - clean up & build helper functions\n",
    "# Helpers:\n",
    "# script to rename files & move them to correct directory structure\n",
    "#\n",
    "#\n",
    "\n",
    "# Build dataframes to test plotting:\n",
    "hab01data = {'density':[0.1, 0.2, 0.4, 0.6, 0.8, 1.0],\n",
    "      'totalIxode':[84, 87, 54, 85, 57, 124]}\n",
    "hab01df = pd.DataFrame(hab01data)\n",
    "\n",
    "hab02data = {'density':[0.1, 0.2, 0.4, 0.6, 0.8, 1.0],\n",
    "      'totalIxode':[114, 87, 184, 185, 222, 224]}\n",
    "hab02df = pd.DataFrame(hab02data)\n",
    "\n",
    "hab03data = {'density':[0.1, 0.2, 0.4, 0.6, 0.8, 1.0],\n",
    "      'totalIxode':[464, 587, 484, 385, 457, 424]}\n",
    "hab03df = pd.DataFrame(hab03data)\n",
    "\n",
    "hab03df.dtypes"
   ]
  },
  {
   "cell_type": "code",
   "execution_count": 3,
   "metadata": {
    "pycharm": {
     "name": "#%%\n"
    }
   },
   "outputs": [
    {
     "data": {
      "image/png": "[encoded data removed]",
      "text/plain": [
       "<Figure size 432x288 with 1 Axes>"
      ]
     },
     "metadata": {
      "needs_background": "light"
     },
     "output_type": "display_data"
    }
   ],
   "source": [
    "# Plot test dataframes\n",
    "fig = plt.figure()\n",
    "plt.plot('density', 'totalIxode', data=hab01df, marker='o', label='0.01')\n",
    "plt.plot('density', 'totalIxode', data=hab02df, marker='o', label='0.02')\n",
    "plt.plot('density', 'totalIxode', data=hab03df, marker='o', label='0.03')\n",
    "plt.legend(title=\"Habitat Suitability\")\n",
    "plt.show()\n",
    "# fig.savefig(\"[root-directory]/data/plots/000.png\")"
   ]
  },
  {
   "cell_type": "code",
   "execution_count": 13,
   "metadata": {
    "pycharm": {
     "name": "#%%\n"
    }
   },
   "outputs": [
    {
     "data": {
      "text/html": [
       "<div>\n",
       "<style scoped>\n",
       "    .dataframe tbody tr th:only-of-type {\n",
       "        vertical-align: middle;\n",
       "    }\n",
       "\n",
       "    .dataframe tbody tr th {\n",
       "        vertical-align: top;\n",
       "    }\n",
       "\n",
       "    .dataframe thead th {\n",
       "        text-align: right;\n",
       "    }\n",
       "</style>\n",
       "<table border=\"1\" class=\"dataframe\">\n",
       "  <thead>\n",
       "    <tr style=\"text-align: right;\">\n",
       "      <th></th>\n",
       "      <th>run</th>\n",
       "      <th>tick</th>\n",
       "      <th>Lifestate</th>\n",
       "      <th>habitat_sample</th>\n",
       "      <th>Name</th>\n",
       "    </tr>\n",
       "  </thead>\n",
       "  <tbody>\n",
       "    <tr>\n",
       "      <th>0</th>\n",
       "      <td>5</td>\n",
       "      <td>1.0</td>\n",
       "      <td>adult</td>\n",
       "      <td>0.05</td>\n",
       "      <td>Tick 1</td>\n",
       "    </tr>\n",
       "    <tr>\n",
       "      <th>1</th>\n",
       "      <td>5</td>\n",
       "      <td>1.0</td>\n",
       "      <td>adult</td>\n",
       "      <td>0.05</td>\n",
       "      <td>Tick 2</td>\n",
       "    </tr>\n",
       "    <tr>\n",
       "      <th>2</th>\n",
       "      <td>5</td>\n",
       "      <td>1.0</td>\n",
       "      <td>adult</td>\n",
       "      <td>0.05</td>\n",
       "      <td>Tick 3</td>\n",
       "    </tr>\n",
       "    <tr>\n",
       "      <th>3</th>\n",
       "      <td>5</td>\n",
       "      <td>1.0</td>\n",
       "      <td>adult</td>\n",
       "      <td>0.05</td>\n",
       "      <td>Tick 4</td>\n",
       "    </tr>\n",
       "    <tr>\n",
       "      <th>4</th>\n",
       "      <td>5</td>\n",
       "      <td>6.0</td>\n",
       "      <td>egg</td>\n",
       "      <td>0.05</td>\n",
       "      <td>Child 375 of Tick 2</td>\n",
       "    </tr>\n",
       "  </tbody>\n",
       "</table>\n",
       "</div>"
      ],
      "text/plain": [
       "   run  tick Lifestate  habitat_sample                 Name\n",
       "0    5   1.0     adult            0.05               Tick 1\n",
       "1    5   1.0     adult            0.05               Tick 2\n",
       "2    5   1.0     adult            0.05               Tick 3\n",
       "3    5   1.0     adult            0.05               Tick 4\n",
       "4    5   6.0       egg            0.05  Child 375 of Tick 2"
      ]
     },
     "execution_count": 13,
     "metadata": {},
     "output_type": "execute_result"
    }
   ],
   "source": [
    "data = pd.read_csv(\"\")\n",
    "data.head()"
   ]
  },
  {
   "cell_type": "code",
   "execution_count": 34,
   "metadata": {
    "pycharm": {
     "name": "#%%\n"
    }
   },
   "outputs": [
    {
     "data": {
      "text/plain": [
       "22987"
      ]
     },
     "execution_count": 34,
     "metadata": {},
     "output_type": "execute_result"
    }
   ],
   "source": [
    "# data['Name'].value_counts().count()\n",
    "len(data['Name'].unique())"
   ]
  },
  {
   "cell_type": "code",
   "execution_count": 38,
   "metadata": {
    "pycharm": {
     "name": "#%%\n"
    }
   },
   "outputs": [
    {
     "name": "stdout",
     "output_type": "stream",
     "text": [
      "Run 5 went 446.0 days w/ 2987 Ixodes\n",
      "Run 13 went 450.0 days w/ 2990 Ixodes\n",
      "Run 21 went 450.0 days w/ 5975 Ixodes\n",
      "Run 29 went 396.0 days w/ 11049 Ixodes\n"
     ]
    }
   ],
   "source": [
    "\n",
    "for run in data.groupby('run'):\n",
    "    df = run[1]\n",
    "    print(\"Run {} went {} days w/ {} Ixodes\".format(run[0], df['tick'].max(), len(df['Name'].unique())))\n"
   ]
  },
  {
   "cell_type": "code",
   "execution_count": 19,
   "metadata": {
    "pycharm": {
     "name": "#%%\n"
    }
   },
   "outputs": [
    {
     "name": "stdout",
     "output_type": "stream",
     "text": [
      "Exception occured\n",
      "Adding 0.01\n",
      "\n",
      "Exception occured\n",
      "Adding 0.09\n",
      "\n",
      "Exception occured\n",
      "Adding 0.07\n",
      "\n",
      "Exception occured\n",
      "Adding 0.05\n",
      "\n",
      "Exception occured\n",
      "Adding 0.03\n",
      "\n",
      "{'0.01\\n': [['1', '41', '41', '81', '81'], ['0.1', '0.5', '0.5', '0.9', '0.9']], '0.09\\n': [['9', '49', '49', '89', '89'], ['0.1', '0.5', '0.5', '0.9', '0.9']], '0.07\\n': [['17', '57', '57', '97', '97'], ['0.2', '0.6', '0.6', '1.0', '1.0']], '0.05\\n': [['25', '65', '65'], ['0.3', '0.7', '0.7']], '0.03\\n': [['33', '73', '73'], ['0.4', '0.8', '0.8']]}\n",
      "0.01\n",
      " [['1', '41', '41', '81', '81'], ['0.1', '0.5', '0.5', '0.9', '0.9']]\n",
      "0.09\n",
      " [['9', '49', '49', '89', '89'], ['0.1', '0.5', '0.5', '0.9', '0.9']]\n",
      "0.07\n",
      " [['17', '57', '57', '97', '97'], ['0.2', '0.6', '0.6', '1.0', '1.0']]\n",
      "0.05\n",
      " [['25', '65', '65'], ['0.3', '0.7', '0.7']]\n",
      "0.03\n",
      " [['33', '73', '73'], ['0.4', '0.8', '0.8']]\n"
     ]
    }
   ],
   "source": [
    "# rough-draft code to create param dict\n",
    "# paramfile = \"../data/host-density/adult-runs/param_inputi1.txt\"\n",
    "# # plist = []\n",
    "# # with open(paramfile, 'r') as f:\n",
    "# #     for line in f:\n",
    "# #         plist.extend(line.replace(\"\\t\", \",\").split(','))\n",
    "# #         print(plist)\n",
    "# paramdict = {}\n",
    "# with open(paramfile, 'r') as file:\n",
    "#     for line in file:\n",
    "#         result = line.replace(\"\\t\",\",\").split(',')\n",
    "#         # print(result)\n",
    "#         try:\n",
    "#             paramdict[result[8]][0].append(result[0])\n",
    "#             paramdict[result[8]][1].append(result[4])\n",
    "#         except:\n",
    "#             print(\"Exception occured\")\n",
    "#         if result[8] in paramdict.keys():\n",
    "#             # Key already in dict\n",
    "#             # FIXME --- make try/catch\n",
    "#             if result[0] in paramdict.values():\n",
    "#                 print(\"run already in\")\n",
    "#             else: #Key not in dict\n",
    "#                 paramdict[result[8]][0].append(result[0])\n",
    "#                 paramdict[result[8]][1].append(result[4])\n",
    "#         else: # new habitat value, add it and the lines run# and density as values\n",
    "#             print(\"Adding\",result[8])\n",
    "#             paramdict[result[8]] = [[result[0]], [result[4]]]\n",
    "# print(paramdict)\n",
    "# for k, v in paramdict.items():\n",
    "#     print(k,v)\n"
   ]
  },
  {
   "cell_type": "code",
   "execution_count": 2,
   "metadata": {
    "pycharm": {
     "name": "#%%\n"
    }
   },
   "outputs": [
    {
     "name": "stdout",
     "output_type": "stream",
     "text": [
      "0.01 [[1, 11, 21, 31, 41, 51, 61, 71, 81, 91], [0.1, 0.2, 0.3, 0.4, 0.5, 0.6, 0.7, 0.8, 0.9, 1.0]]\n",
      "0.02 [[2, 12, 22, 32, 42, 52, 62, 72, 82, 92], [0.1, 0.2, 0.3, 0.4, 0.5, 0.6, 0.7, 0.8, 0.9, 1.0]]\n",
      "0.03 [[3, 13, 23, 33, 43, 53, 63, 73, 83, 93], [0.1, 0.2, 0.3, 0.4, 0.5, 0.6, 0.7, 0.8, 0.9, 1.0]]\n",
      "0.04 [[4, 14, 24, 34, 44, 54, 64, 74, 84, 94], [0.1, 0.2, 0.3, 0.4, 0.5, 0.6, 0.7, 0.8, 0.9, 1.0]]\n",
      "0.05 [[5, 15, 25, 35, 45, 55, 65, 75, 85, 95], [0.1, 0.2, 0.3, 0.4, 0.5, 0.6, 0.7, 0.8, 0.9, 1.0]]\n",
      "0.06 [[6, 16, 26, 36, 46, 56, 66, 76, 86, 96], [0.1, 0.2, 0.3, 0.4, 0.5, 0.6, 0.7, 0.8, 0.9, 1.0]]\n",
      "0.07 [[7, 17, 27, 37, 47, 57, 67, 77, 87, 97], [0.1, 0.2, 0.3, 0.4, 0.5, 0.6, 0.7, 0.8, 0.9, 1.0]]\n",
      "0.08 [[8, 18, 28, 38, 48, 58, 68, 78, 88, 98], [0.1, 0.2, 0.3, 0.4, 0.5, 0.6, 0.7, 0.8, 0.9, 1.0]]\n",
      "0.09 [[9, 19, 29, 39, 49, 59, 69, 79, 89, 99], [0.1, 0.2, 0.3, 0.4, 0.5, 0.6, 0.7, 0.8, 0.9, 1.0]]\n",
      "0.1 [[10, 20, 30, 40, 50, 60, 70, 80, 90, 100], [0.1, 0.2, 0.3, 0.4, 0.5, 0.6, 0.7, 0.8, 0.9, 1.0]]\n"
     ]
    }
   ],
   "source": [
    "#\n",
    "# This code parses the parameter txt and creates a dictionary that maps the habitat_suitability value with the\n",
    "# corresponding run_number and host_density values\n",
    "#\n",
    "# { habitat: [ [run_number], [host_density] ] }\n",
    "#\n",
    "paramfile = \"../data/host-density/adult-runs/instances/param_inputi1.txt\"\n",
    "paramd = {}\n",
    "with open(paramfile, 'r') as file:\n",
    "    for line in file:\n",
    "        result = line.replace(\"\\t\",\",\").split(',')\n",
    "# Try to add the values to the key, if that key does not exist, create it\n",
    "        try:\n",
    "            paramd[float(result[8])][0].append(int(result[0])) # add run number\n",
    "            paramd[float(result[8])][1].append(float(result[4])) # add host density\n",
    "        except KeyError:\n",
    "            paramd[float(result[8])] = [[int(result[0])], [float(result[4])]]\n",
    "\n",
    "for k, v in paramd.items():\n",
    "    print(k,v)\n"
   ]
  },
  {
   "cell_type": "code",
   "execution_count": 4,
   "metadata": {
    "pycharm": {
     "name": "#%%\n"
    }
   },
   "outputs": [
    {
     "name": "stdout",
     "output_type": "stream",
     "text": [
      "Found directory: ../data/host-density/adult-runs\n",
      "Found file: debug.log\n",
      "Found file: status_output.properties\n",
      "Found file: unrolledParamFile.txt\n",
      "Found file: config.props\n",
      "Found file: MessageCenter.log4j.properties\n",
      "Found file: local_batch_run.properties\n",
      "Found directory: ../data/host-density/adult-runs/data-files\n",
      "Found file: data-survival.i3.2020.May.27.03_06_35\n",
      "Found file: data-survival.i2.2020.May.27.03_06_36\n",
      "Found file: data-survival.i5.2020.May.27.03_06_35\n",
      "Found file: data-survival.i6.2020.May.27.03_06_36\n",
      "Found file: data-survival.i4.2020.May.27.03_06_36\n",
      "Found file: data-survival.i7.2020.May.27.03_06_36\n",
      "Found file: data-survival.i8.2020.May.27.03_06_35\n",
      "Found file: data-survival.i1.2020.May.27.03_06_35\n"
     ]
    }
   ],
   "source": [
    "# # Helper - recursively list directories and files\n",
    "# directory = \"../data/host-density/adult-runs\"\n",
    "# for dir_name, subdir, files in os.walk(directory):\n",
    "#     print(\"Found directory: %s\" % dir_name)\n",
    "#     for fname in files:\n",
    "#         print(\"Found file: %s\" % fname)"
   ]
  },
  {
   "cell_type": "code",
   "execution_count": null,
   "metadata": {
    "pycharm": {
     "is_executing": true,
     "name": "#%%\n"
    }
   },
   "outputs": [
    {
     "name": "stdout",
     "output_type": "stream",
     "text": [
      "data-survival.i3.2020.May.27.03_06_35\n",
      "Run 3 went 86.0 days w/ 10 Ixodes\n",
      "Run 11 went 450.0 days w/ 2154 Ixodes\n",
      "Run 19 went 450.0 days w/ 53551 Ixodes\n",
      "Run 27 went 86.0 days w/ 10 Ixodes\n",
      "Run 35 went 450.0 days w/ 53200 Ixodes\n",
      "Run 43 went 450.0 days w/ 35395 Ixodes\n",
      "Run 51 went 450.0 days w/ 18580 Ixodes\n",
      "Run 59 went 450.0 days w/ 32827 Ixodes\n",
      "Run 67 went 450.0 days w/ 19230 Ixodes\n",
      "Run 75 went 450.0 days w/ 12302 Ixodes\n",
      "Run 83 went 450.0 days w/ 3449 Ixodes\n",
      "Run 91 went 450.0 days w/ 29669 Ixodes\n",
      "Run 99 went 450.0 days w/ 34711 Ixodes\n",
      "param_inputi1.txt\n",
      "data-survival.i2.2020.May.27.03_06_36\n"
     ]
    }
   ],
   "source": [
    "# TODO - Read all files in directory and create a dict to map run number to how many total ixode\n",
    "# ixode_count_dict = {}\n",
    "# path = \"../data/host-density/adult-runs/data-files/\"\n",
    "# for filename in os.listdir(path):\n",
    "#     print(filename)\n",
    "#     if not '.txt' in filename:\n",
    "#         df = pd.read_csv(str(path + filename))\n",
    "#         for run in df.groupby('run'):\n",
    "#             df = run[1]\n",
    "#             ixode_count_dict[run[0]] = len(current_df['name'].unique())\n",
    "#             print(\"Run {} went {} days w/ {} Ixodes\".format(run[0], df['tick'].max(), len(df['name'].unique())))"
   ]
  },
  {
   "cell_type": "code",
   "execution_count": null,
   "metadata": {
    "pycharm": {
     "is_executing": true,
     "name": "#%%\n"
    }
   },
   "outputs": [],
   "source": [
    "# # Read 1 specified file and create a dictionary from it that maps the number of ixode to each run\n",
    "ixode_count_dict = {}\n",
    "df = pd.read_csv(\"../data/host-density/adult-runs/instances/data-survival.i1.2020.May.27.03_06_35\")\n",
    "for run in df.groupby('run'):\n",
    "    current_df = run[1]\n",
    "    ixode_count_dict[run[0]] = len(current_df['name'].unique())\n",
    "    print(\"Run {}\".format(run[0]))"
   ]
  },
  {
   "cell_type": "code",
   "execution_count": null,
   "metadata": {
    "pycharm": {
     "is_executing": true,
     "name": "#%%\n"
    }
   },
   "outputs": [],
   "source": [
    "# Create a data frame from the above generated dictionary\n",
    "df_final = pd.DataFrame(ixode_count_dict.items(), columns=['run', 'total_ixode'])\n",
    "df_final['host_density'] = 0\n",
    "df_final.dtypes"
   ]
  },
  {
   "cell_type": "code",
   "execution_count": 8,
   "metadata": {
    "pycharm": {
     "name": "#%%\n"
    }
   },
   "outputs": [],
   "source": [
    "# Iterate through parameter dictionary and use loc to find the row with the run number we want. Once we have this, add\n",
    "# the host density value for that associated run\n",
    "for key, value in paramd.items():\n",
    "    for i in range(len(value[0])):\n",
    "        # Both of these techniques work, but loc is preferred over chained indexing\n",
    "        # df_final['host_density'][df_final['run'] == value[0][i]] = value[1][i]\n",
    "        df_final.loc[df_final['run']==value[0][i], 'host_density'] = value[1][i]\n",
    "        df_final.loc[df_final['run']==value[0][i], 'habitat_suitability'] = key"
   ]
  },
  {
   "cell_type": "code",
   "execution_count": 9,
   "metadata": {
    "pycharm": {
     "name": "#%%\n"
    }
   },
   "outputs": [
    {
     "data": {
      "image/png": "[encoded data removed]",
      "text/plain": [
       "<Figure size 432x288 with 1 Axes>"
      ]
     },
     "metadata": {
      "needs_background": "light"
     },
     "output_type": "display_data"
    }
   ],
   "source": [
    "# TODO labels for each host density value (sort?), axis labels\n",
    "fig = plt.figure()\n",
    "for hab in df_final.groupby('habitat_suitability'):\n",
    "    dat = hab[1]\n",
    "    plt.plot('host_density', 'total_ixode' , data=dat, marker='o')\n",
    "plt.show()\n",
    "\n"
   ]
  }
 ],
 "metadata": {
  "kernelspec": {
   "display_name": "Python 3",
   "language": "python",
   "name": "python3"
  },
  "language_info": {
   "codemirror_mode": {
    "name": "ipython",
    "version": 3
   },
   "file_extension": ".py",
   "mimetype": "text/x-python",
   "name": "python",
   "nbconvert_exporter": "python",
   "pygments_lexer": "ipython3",
   "version": "3.7.7"
  }
 },
 "nbformat": 4,
 "nbformat_minor": 1
}