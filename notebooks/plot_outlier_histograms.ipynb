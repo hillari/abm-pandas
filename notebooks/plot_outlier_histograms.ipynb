{
 "cells": [
  {
   "cell_type": "code",
   "execution_count": 1,
   "metadata": {
    "collapsed": true
   },
   "outputs": [],
   "source": [
    "import pandas as pd\n",
    "import matplotlib\n",
    "matplotlib.use('Qt5Agg')\n",
    "import matplotlib.pyplot as plt\n",
    "from collections import OrderedDict"
   ]
  },
  {
   "cell_type": "code",
   "execution_count": 8,
   "outputs": [
    {
     "data": {
      "text/plain": "   Unnamed: 0  run  total_ixodes  tick  host_density  habitat_suitability\n0           3    4            10  89.0           0.1                 0.01\n1           6    7            10  90.0           0.1                 0.01\n2          27   28            10  89.0           0.3                 0.01\n3          40   41            10  90.0           0.5                 0.01\n4          47   48            10  38.0           0.5                 0.01",
      "text/html": "<div>\n<style scoped>\n    .dataframe tbody tr th:only-of-type {\n        vertical-align: middle;\n    }\n\n    .dataframe tbody tr th {\n        vertical-align: top;\n    }\n\n    .dataframe thead th {\n        text-align: right;\n    }\n</style>\n<table border=\"1\" class=\"dataframe\">\n  <thead>\n    <tr style=\"text-align: right;\">\n      <th></th>\n      <th>Unnamed: 0</th>\n      <th>run</th>\n      <th>total_ixodes</th>\n      <th>tick</th>\n      <th>host_density</th>\n      <th>habitat_suitability</th>\n    </tr>\n  </thead>\n  <tbody>\n    <tr>\n      <th>0</th>\n      <td>3</td>\n      <td>4</td>\n      <td>10</td>\n      <td>89.0</td>\n      <td>0.1</td>\n      <td>0.01</td>\n    </tr>\n    <tr>\n      <th>1</th>\n      <td>6</td>\n      <td>7</td>\n      <td>10</td>\n      <td>90.0</td>\n      <td>0.1</td>\n      <td>0.01</td>\n    </tr>\n    <tr>\n      <th>2</th>\n      <td>27</td>\n      <td>28</td>\n      <td>10</td>\n      <td>89.0</td>\n      <td>0.3</td>\n      <td>0.01</td>\n    </tr>\n    <tr>\n      <th>3</th>\n      <td>40</td>\n      <td>41</td>\n      <td>10</td>\n      <td>90.0</td>\n      <td>0.5</td>\n      <td>0.01</td>\n    </tr>\n    <tr>\n      <th>4</th>\n      <td>47</td>\n      <td>48</td>\n      <td>10</td>\n      <td>38.0</td>\n      <td>0.5</td>\n      <td>0.01</td>\n    </tr>\n  </tbody>\n</table>\n</div>"
     },
     "execution_count": 8,
     "metadata": {},
     "output_type": "execute_result"
    }
   ],
   "source": [
    "df = pd.read_csv('/media/hill/DATA-LINUX/abm-data/host-density-olderruns/new-model/aggregate-runs/host_outlier-df')\n",
    "df.head()"
   ],
   "metadata": {
    "collapsed": false,
    "pycharm": {
     "name": "#%%\n"
    }
   }
  },
  {
   "cell_type": "code",
   "execution_count": null,
   "outputs": [],
   "source": [
    "# df.groupby('habitat_suitability').size() # This returns a Series"
   ],
   "metadata": {
    "collapsed": false,
    "pycharm": {
     "name": "#%%\n"
    }
   }
  },
  {
   "cell_type": "code",
   "execution_count": 9,
   "outputs": [],
   "source": [
    "df_lessthan = df.loc[df['host_density'] < 0.5]\n",
    "df_greaterthan = df.loc[df['host_density'] >= 0.5]\n"
   ],
   "metadata": {
    "collapsed": false,
    "pycharm": {
     "name": "#%%\n"
    }
   }
  },
  {
   "cell_type": "code",
   "execution_count": 10,
   "outputs": [],
   "source": [
    "# n_ticks = n_ticks.agg(total_ixodes=pd.NamedAgg(column='name', aggfunc='nunique')) # namedAgg example\n",
    "d1 = df_lessthan.groupby('habitat_suitability')\n",
    "d1 = d1.agg(counted_lt=pd.NamedAgg(column='habitat_suitability', aggfunc='count'))\n",
    "d2 = df_greaterthan.groupby('habitat_suitability')\n",
    "d2 = d2.agg(counted_gt=pd.NamedAgg(column='habitat_suitability', aggfunc='count'))"
   ],
   "metadata": {
    "collapsed": false,
    "pycharm": {
     "name": "#%%\n"
    }
   }
  },
  {
   "cell_type": "code",
   "execution_count": 11,
   "outputs": [
    {
     "data": {
      "text/plain": "                     counted_lt  counted_gt\nhabitat_suitability                        \n0.01                          3           4\n0.03                          2           1\n0.05                          1           2",
      "text/html": "<div>\n<style scoped>\n    .dataframe tbody tr th:only-of-type {\n        vertical-align: middle;\n    }\n\n    .dataframe tbody tr th {\n        vertical-align: top;\n    }\n\n    .dataframe thead th {\n        text-align: right;\n    }\n</style>\n<table border=\"1\" class=\"dataframe\">\n  <thead>\n    <tr style=\"text-align: right;\">\n      <th></th>\n      <th>counted_lt</th>\n      <th>counted_gt</th>\n    </tr>\n    <tr>\n      <th>habitat_suitability</th>\n      <th></th>\n      <th></th>\n    </tr>\n  </thead>\n  <tbody>\n    <tr>\n      <th>0.01</th>\n      <td>3</td>\n      <td>4</td>\n    </tr>\n    <tr>\n      <th>0.03</th>\n      <td>2</td>\n      <td>1</td>\n    </tr>\n    <tr>\n      <th>0.05</th>\n      <td>1</td>\n      <td>2</td>\n    </tr>\n  </tbody>\n</table>\n</div>"
     },
     "execution_count": 11,
     "metadata": {},
     "output_type": "execute_result"
    }
   ],
   "source": [
    "merged_df = pd.merge(d1, d2, on='habitat_suitability')\n",
    "# merged_df.set_index('habitat_suitability', inplace=True)\n",
    "merged_df.head()\n"
   ],
   "metadata": {
    "collapsed": false,
    "pycharm": {
     "name": "#%%\n"
    }
   }
  },
  {
   "cell_type": "code",
   "execution_count": null,
   "outputs": [],
   "source": [
    "# THIS IS WORKING - now test it on full runs\n",
    "ax = merged_df.plot(kind='bar')\n",
    "matplotlib.use('Qt5Agg')\n",
    "plt.show(block=True)\n",
    "\n"
   ],
   "metadata": {
    "collapsed": false,
    "pycharm": {
     "name": "#%%\n",
     "is_executing": true
    }
   }
  }
 ],
 "metadata": {
  "kernelspec": {
   "display_name": "Python 3",
   "language": "python",
   "name": "python3"
  },
  "language_info": {
   "codemirror_mode": {
    "name": "ipython",
    "version": 2
   },
   "file_extension": ".py",
   "mimetype": "text/x-python",
   "name": "python",
   "nbconvert_exporter": "python",
   "pygments_lexer": "ipython2",
   "version": "2.7.6"
  }
 },
 "nbformat": 4,
 "nbformat_minor": 0
}