{
 "cells": [
  {
   "cell_type": "code",
   "execution_count": null,
   "outputs": [],
   "source": [
    "import pandas as pd\n",
    "import matplotlib\n",
    "import matplotlib.pyplot as plt\n"
   ],
   "metadata": {
    "collapsed": false,
    "pycharm": {
     "name": "#%%\n"
    }
   }
  },
  {
   "cell_type": "code",
   "execution_count": null,
   "outputs": [],
   "source": [
    "# Use error_bad_lines=False arg to omit params for runs where the params got concatenated with run data\n",
    "data = pd.read_csv(\"../data/survivability/nymph/data-habitat.2020.May.28.20_08_56\", error_bad_lines=False)\n",
    "data.head()"
   ],
   "metadata": {
    "collapsed": false,
    "pycharm": {
     "name": "#%%\n"
    }
   }
  },
  {
   "cell_type": "code",
   "execution_count": null,
   "outputs": [],
   "source": [
    "# Loop through groupby and print different parts\n",
    "# for name, group in grouped_data:\n",
    "#     print(\"Run:\", name[:1], \"Tick:\", name[1:])\n",
    "#     print(\"Group:\\n\",group)\n",
    "#     valcounts= group['Lifestate'].value_counts().to_dict()\n",
    "#     print(valcounts)\n",
    "#     lk_vals = [[k,v] for k, v in valcounts.items()]"
   ],
   "metadata": {
    "collapsed": false,
    "pycharm": {
     "name": "#%%\n"
    }
   }
  },
  {
   "cell_type": "code",
   "execution_count": null,
   "outputs": [],
   "source": [
    "by_run = data.groupby('run')\n",
    "runs = data['run'].unique()\n",
    "runs"
   ],
   "metadata": {
    "collapsed": false,
    "pycharm": {
     "name": "#%%\n"
    }
   }
  },
  {
   "cell_type": "code",
   "execution_count": null,
   "outputs": [],
   "source": [
    "#by_run['tick'].count()\n",
    "\n",
    "for group in data.groupby('run'):\n",
    "    df = group[1]\n",
    "    print(\"Run {} made it {} 'days'\".format(group[0], df['tick'].max()))\n"
   ],
   "metadata": {
    "collapsed": false,
    "pycharm": {
     "name": "#%%\n"
    }
   }
  },
  {
   "cell_type": "code",
   "execution_count": null,
   "outputs": [],
   "source": [
    "# get a single group to work with\n",
    "group1 = by_run.get_group(1)\n",
    "counts = group1['Lifestate'].value_counts().to_frame() # can also add .to_dict()\n",
    "counts"
   ],
   "metadata": {
    "collapsed": false,
    "pycharm": {
     "name": "#%%\n"
    }
   }
  },
  {
   "cell_type": "code",
   "execution_count": null,
   "outputs": [],
   "source": [
    "# drop the columns we don't care about for this particular plot\n",
    "group1 = group1[group1.Lifestate != \"egg\"]\n",
    "g1_df = group1.drop([\"Lat\", \"Long\", \"habitat_sample\", \"run\"], axis=1)\n",
    "# g1_df = group1.drop([ \"habitat_sample\", \"run\"], axis=1)\n",
    "g1_df.head()"
   ],
   "metadata": {
    "collapsed": false,
    "pycharm": {
     "name": "#%%\n"
    }
   }
  },
  {
   "cell_type": "code",
   "execution_count": null,
   "outputs": [],
   "source": [
    "# create a column for days\n",
    "g1_df['day'] = g1_df.apply(lambda x: (x['tick'] + (x['tick'] // 90) * 275), axis=1)\n",
    "\n",
    "# g1_df['day'] = g1_df.apply(lambda x: x['tick'] + 275 if x['tick'] > 90 else x['tick'], axis=1)  # NO, only good for 2 years"
   ],
   "metadata": {
    "collapsed": false,
    "pycharm": {
     "name": "#%%\n"
    }
   }
  },
  {
   "cell_type": "code",
   "execution_count": null,
   "outputs": [],
   "source": [
    "# Create the plot\n",
    "# https://stackoverflow.com/questions/5656798/python-matplotlib-is-there-a-way-to-make-a-discontinuous-axis\n",
    "# https://matplotlib.org/devdocs/gallery/subplots_axes_and_figures/broken_axis.html\n",
    "\n",
    "matplotlib.use('Qt5Agg')\n",
    "\n",
    "d = g1_df.drop('tick', axis=1)\n",
    "days_df = pd.get_dummies(d, columns=['Lifestate'])\n",
    "by_day = days_df.groupby('day')\n",
    "\n",
    "fig, (ax1, ax2, ax3) = plt.subplots(1,3,figsize=(12,7), sharey=True)\n",
    "by_day.sum().plot(logy=True, ax=ax1)\n",
    "by_day.sum().plot(logy=True, ax=ax2, legend=False)\n",
    "by_day.sum().plot(logy=True, ax=ax3, legend=False)\n",
    "# by_day.sum().plot(logy=True, ax=ax4, legend=False)\n",
    "min = days_df['day'].max() / 90\n",
    "# ax1.set_xlim(0,90)\n",
    "# ax2.set_xlim(365,)\n",
    "ax1.set_xlim(0,90)\n",
    "ax2.set_xlim(367,456)\n",
    "ax3.set_xlim(732,)\n",
    "# ax4.set_xlim(1095,)\n",
    "# ax5.set_xlim(1185,1275)\n",
    "\n",
    "# Now we want to hide spines and ticks\n",
    "ax1.spines['right'].set_visible(False)\n",
    "ax2.spines['left'].set_visible(False)\n",
    "ax2.spines['right'].set_visible(False)\n",
    "ax3.spines['left'].set_visible(False)\n",
    "# ax3.spines['right'].set_visible(False)\n",
    "# ax4.spines['left'].set_visible(False)\n",
    "\n",
    "ax1.x_label.set_visible(False)\n",
    "ax3.x_label.set_visible(False)\n",
    "\n",
    "ax1.yaxis.tick_left()\n",
    "ax3.yaxis.tick_right()  # TODO hide the ticks on ax2\n",
    "\n",
    "# make the gap between axes smaller\n",
    "plt.subplots_adjust(wspace=0.05)\n",
    "\n",
    "# add cutout lines\n",
    "d = 0.015\n",
    "kwargs = dict(transform=ax1.transAxes, color='k', clip_on=False)\n",
    "ax1.plot((1-d, 1+d), (-d, +d), **kwargs)\n",
    "ax1.plot((1-d, 1+d), (1-d, 1+d), **kwargs)\n",
    "\n",
    "kwargs.update(transform=ax2.transAxes)\n",
    "ax2.plot((-d,d),(-d,+d), **kwargs) # top-right diagonal\n",
    "ax2.plot((-d,d),(1-d,1+d), **kwargs) # bottom-right diagonal\n",
    "\n",
    "plt.show(block=True)  # Another way to get popup to stay (https://stackoverflow.com/questions/33062762/plot-in-pandas-immediately-closes/33062819)\n"
   ],
   "metadata": {
    "collapsed": false,
    "pycharm": {
     "name": "#%%\n"
    }
   }
  },
  {
   "cell_type": "code",
   "execution_count": null,
   "outputs": [],
   "source": [
    "# Handle categoricals by getting dummy variables for them\n",
    "# matplotlib.use('Qt5Agg')  # Force default backend for matplotlib to get plot as a popup\n",
    "d = pd.get_dummies(g1_df, columns=['Lifestate']) # create a new dataframe with dummy variables\n",
    "# d.head()\n",
    "gr = d.groupby('tick')\n",
    "plot = gr.sum().plot(logy=True, title=\"Ixode Survivability\")\n",
    "plot.set_xlabel(\"days\")\n",
    "plot.set_ylabel(\"Lifestate count\")\n"
   ],
   "metadata": {
    "collapsed": false,
    "pycharm": {
     "name": "#%%\n"
    }
   }
  },
  {
   "cell_type": "code",
   "execution_count": null,
   "outputs": [],
   "source": [
    "params = \" Lifestage: {}\\n Host Density: {}\\n Ixode Count: {}\\n Habitat Suitability: {}\".format(\n",
    "                  \"nymph\", 0.5, 4, 0.05)\n",
    "fig,ax = plt.subplots(figsize=(12,7)) # ax is the plot, plt is the figure the plot goes in\n",
    "gr.sum().plot(logy=True, title=\"AAAAAAAAAAASurvivability\", ax=ax)\n",
    "ax.set_title(\"Survivability\", fontsize=16, fontweight='bold')\n",
    "ax.set_xlabel(\"Days\", fontsize=12)\n",
    "ax.set_ylabel(\"Lifestate count\", fontsize=12)\n",
    "# props = dict(boxstyle='round', facecolor='wheat', alpha=0.5)\n",
    "props = dict( facecolor='wheat', alpha=0.5)\n",
    "ax.text(17,1100, params, fontsize=10, bbox=props)\n",
    "postfix = 00\n",
    "fig.savefig('/home/hillari/PycharmProjects/tick-ABMs/data/plots/testplot' + str(postfix) + '.png')\n"
   ],
   "metadata": {
    "collapsed": false,
    "pycharm": {
     "name": "#%%\n"
    }
   }
  },
  {
   "cell_type": "code",
   "execution_count": null,
   "outputs": [],
   "source": [
    "# calculating 'days' (90 day skips)\n",
    "# tick_nums = [1, 70, 145, 185, 215, 375, 450]\n",
    "# day_nums = [x + ( (x // 90) * 275 ) for x in tick_nums]\n",
    "# print(day_nums)"
   ],
   "metadata": {
    "collapsed": false,
    "pycharm": {
     "name": "#%%\n"
    }
   }
  }
 ],
 "metadata": {
  "kernelspec": {
   "name": "python3",
   "language": "python",
   "display_name": "Python 3"
  },
  "language_info": {
   "codemirror_mode": {
    "name": "ipython",
    "version": 2
   },
   "file_extension": ".py",
   "mimetype": "text/x-python",
   "name": "python",
   "nbconvert_exporter": "python",
   "pygments_lexer": "ipython2",
   "version": "2.7.6"
  }
 },
 "nbformat": 4,
 "nbformat_minor": 0
}