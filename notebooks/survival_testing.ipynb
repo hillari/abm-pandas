{
 "cells": [
  {
   "cell_type": "code",
   "execution_count": 1,
   "outputs": [],
   "source": [
    "import pandas as pd\n",
    "import matplotlib\n",
    "import matplotlib.pyplot as plt\n"
   ],
   "metadata": {
    "collapsed": false,
    "pycharm": {
     "name": "#%%\n"
    }
   }
  },
  {
   "cell_type": "code",
   "execution_count": 3,
   "outputs": [
    {
     "name": "stderr",
     "output_type": "stream",
     "text": [
      "b'Skipping line 8378: expected 4 fields, saw 6\\nSkipping line 8379: expected 4 fields, saw 6\\nSkipping line 8380: expected 4 fields, saw 6\\nSkipping line 8381: expected 4 fields, saw 6\\nSkipping line 8382: expected 4 fields, saw 6\\nSkipping line 8383: expected 4 fields, saw 6\\nSkipping line 8384: expected 4 fields, saw 6\\nSkipping line 8385: expected 4 fields, saw 6\\nSkipping line 8386: expected 4 fields, saw 6\\nSkipping line 8387: expected 4 fields, saw 6\\nSkipping line 8388: expected 4 fields, saw 6\\nSkipping line 8389: expected 4 fields, saw 6\\nSkipping line 8390: expected 4 fields, saw 6\\nSkipping line 16061: expected 4 fields, saw 6\\nSkipping line 16062: expected 4 fields, saw 6\\nSkipping line 16063: expected 4 fields, saw 6\\nSkipping line 16064: expected 4 fields, saw 6\\nSkipping line 16065: expected 4 fields, saw 6\\nSkipping line 16066: expected 4 fields, saw 6\\nSkipping line 16067: expected 4 fields, saw 6\\nSkipping line 16068: expected 4 fields, saw 6\\nSkipping line 16069: expected 4 fields, saw 6\\nSkipping line 16070: expected 4 fields, saw 6\\nSkipping line 16071: expected 4 fields, saw 6\\nSkipping line 16072: expected 4 fields, saw 6\\nSkipping line 16073: expected 4 fields, saw 6\\nSkipping line 23070: expected 4 fields, saw 6\\nSkipping line 23071: expected 4 fields, saw 6\\nSkipping line 23072: expected 4 fields, saw 6\\nSkipping line 23073: expected 4 fields, saw 6\\nSkipping line 23074: expected 4 fields, saw 6\\nSkipping line 23075: expected 4 fields, saw 6\\nSkipping line 23076: expected 4 fields, saw 6\\nSkipping line 23077: expected 4 fields, saw 6\\nSkipping line 23078: expected 4 fields, saw 6\\nSkipping line 23079: expected 4 fields, saw 6\\nSkipping line 23080: expected 4 fields, saw 6\\nSkipping line 23081: expected 4 fields, saw 6\\n'\n",
      "b'Skipping line 288011: expected 4 fields, saw 6\\nSkipping line 288012: expected 4 fields, saw 6\\nSkipping line 288013: expected 4 fields, saw 6\\nSkipping line 288014: expected 4 fields, saw 6\\nSkipping line 288015: expected 4 fields, saw 6\\nSkipping line 288016: expected 4 fields, saw 6\\nSkipping line 288017: expected 4 fields, saw 6\\nSkipping line 288018: expected 4 fields, saw 6\\nSkipping line 288019: expected 4 fields, saw 6\\nSkipping line 288020: expected 4 fields, saw 6\\nSkipping line 288021: expected 4 fields, saw 6\\nSkipping line 288022: expected 4 fields, saw 6\\nSkipping line 295905: expected 4 fields, saw 6\\nSkipping line 295906: expected 4 fields, saw 6\\nSkipping line 295907: expected 4 fields, saw 6\\nSkipping line 295908: expected 4 fields, saw 6\\nSkipping line 295909: expected 4 fields, saw 6\\nSkipping line 295910: expected 4 fields, saw 6\\nSkipping line 295911: expected 4 fields, saw 6\\nSkipping line 295912: expected 4 fields, saw 6\\nSkipping line 295913: expected 4 fields, saw 6\\nSkipping line 295914: expected 4 fields, saw 6\\nSkipping line 295915: expected 4 fields, saw 6\\nSkipping line 295916: expected 4 fields, saw 6\\n'\n",
      "b'Skipping line 830411: expected 4 fields, saw 6\\nSkipping line 830412: expected 4 fields, saw 6\\nSkipping line 830413: expected 4 fields, saw 6\\nSkipping line 830414: expected 4 fields, saw 6\\nSkipping line 830415: expected 4 fields, saw 6\\nSkipping line 830416: expected 4 fields, saw 6\\nSkipping line 830417: expected 4 fields, saw 6\\nSkipping line 830418: expected 4 fields, saw 6\\nSkipping line 830419: expected 4 fields, saw 6\\nSkipping line 830420: expected 4 fields, saw 6\\nSkipping line 830421: expected 4 fields, saw 6\\nSkipping line 830422: expected 4 fields, saw 6\\nSkipping line 837529: expected 4 fields, saw 6\\nSkipping line 837530: expected 4 fields, saw 6\\nSkipping line 837531: expected 4 fields, saw 6\\nSkipping line 837532: expected 4 fields, saw 6\\nSkipping line 837533: expected 4 fields, saw 6\\nSkipping line 837534: expected 4 fields, saw 6\\nSkipping line 837535: expected 4 fields, saw 6\\nSkipping line 837536: expected 4 fields, saw 6\\nSkipping line 837537: expected 4 fields, saw 6\\nSkipping line 837538: expected 4 fields, saw 6\\nSkipping line 837539: expected 4 fields, saw 6\\nSkipping line 837540: expected 4 fields, saw 6\\nSkipping line 845896: expected 4 fields, saw 6\\nSkipping line 845897: expected 4 fields, saw 6\\nSkipping line 845898: expected 4 fields, saw 6\\nSkipping line 845899: expected 4 fields, saw 6\\nSkipping line 845900: expected 4 fields, saw 6\\nSkipping line 845901: expected 4 fields, saw 6\\nSkipping line 845902: expected 4 fields, saw 6\\nSkipping line 845903: expected 4 fields, saw 6\\nSkipping line 845904: expected 4 fields, saw 6\\nSkipping line 845905: expected 4 fields, saw 6\\nSkipping line 845906: expected 4 fields, saw 6\\nSkipping line 845907: expected 4 fields, saw 6\\nSkipping line 845908: expected 4 fields, saw 6\\n'\n"
     ]
    },
    {
     "data": {
      "text/plain": "   run  tick lifestate    name\n0    1   1.0     nymph  Tick 1\n1    1   1.0     nymph  Tick 0\n2    1   2.0     nymph  Tick 1\n3    1   2.0     nymph  Tick 0\n4    1   3.0     nymph  Tick 1",
      "text/html": "<div>\n<style scoped>\n    .dataframe tbody tr th:only-of-type {\n        vertical-align: middle;\n    }\n\n    .dataframe tbody tr th {\n        vertical-align: top;\n    }\n\n    .dataframe thead th {\n        text-align: right;\n    }\n</style>\n<table border=\"1\" class=\"dataframe\">\n  <thead>\n    <tr style=\"text-align: right;\">\n      <th></th>\n      <th>run</th>\n      <th>tick</th>\n      <th>lifestate</th>\n      <th>name</th>\n    </tr>\n  </thead>\n  <tbody>\n    <tr>\n      <th>0</th>\n      <td>1</td>\n      <td>1.0</td>\n      <td>nymph</td>\n      <td>Tick 1</td>\n    </tr>\n    <tr>\n      <th>1</th>\n      <td>1</td>\n      <td>1.0</td>\n      <td>nymph</td>\n      <td>Tick 0</td>\n    </tr>\n    <tr>\n      <th>2</th>\n      <td>1</td>\n      <td>2.0</td>\n      <td>nymph</td>\n      <td>Tick 1</td>\n    </tr>\n    <tr>\n      <th>3</th>\n      <td>1</td>\n      <td>2.0</td>\n      <td>nymph</td>\n      <td>Tick 0</td>\n    </tr>\n    <tr>\n      <th>4</th>\n      <td>1</td>\n      <td>3.0</td>\n      <td>nymph</td>\n      <td>Tick 1</td>\n    </tr>\n  </tbody>\n</table>\n</div>"
     },
     "execution_count": 3,
     "metadata": {},
     "output_type": "execute_result"
    }
   ],
   "source": [
    "# Use error_bad_lines=False arg to omit params for runs where the params got concatenated with run data\n",
    "data = pd.read_csv(\"../data/survivability/nymph/data-habitat.2020.May.28.20_08_56\", error_bad_lines=False)\n",
    "data.head()"
   ],
   "metadata": {
    "collapsed": false,
    "pycharm": {
     "name": "#%%\n"
    }
   }
  },
  {
   "cell_type": "code",
   "execution_count": null,
   "outputs": [],
   "source": [
    "# Loop through groupby and print different parts\n",
    "# for name, group in grouped_data:\n",
    "#     print(\"Run:\", name[:1], \"Tick:\", name[1:])\n",
    "#     print(\"Group:\\n\",group)\n",
    "#     valcounts= group['Lifestate'].value_counts().to_dict()\n",
    "#     print(valcounts)\n",
    "#     lk_vals = [[k,v] for k, v in valcounts.items()]"
   ],
   "metadata": {
    "collapsed": false,
    "pycharm": {
     "name": "#%%\n"
    }
   }
  },
  {
   "cell_type": "code",
   "execution_count": 4,
   "outputs": [
    {
     "data": {
      "text/plain": "array([ 1,  9, 17, 25, 33, 41, 49, 57, 65, 73, 81, 89, 97,  3, 11, 19, 27,\n       35, 43, 51, 59, 67, 75, 83, 91, 99,  5, 13, 21, 29, 37, 45, 53, 61,\n       69, 77, 85, 93,  4, 12, 20, 28, 36, 44, 52, 60, 68, 76, 84, 92,  6,\n       14, 22, 30, 38, 46, 54, 62, 70, 78, 86, 94,  7, 15, 23, 31, 39, 47,\n       55, 63, 71, 79, 87, 95,  8, 16, 24, 32, 40, 48, 56, 64, 72, 80, 88,\n       96,  2, 10, 18, 26, 34, 42, 50, 58, 66, 74, 82, 90, 98])"
     },
     "execution_count": 4,
     "metadata": {},
     "output_type": "execute_result"
    }
   ],
   "source": [
    "by_run = data.groupby('run')\n",
    "runs = data['run'].unique()\n",
    "runs"
   ],
   "metadata": {
    "collapsed": false,
    "pycharm": {
     "name": "#%%\n"
    }
   }
  },
  {
   "cell_type": "code",
   "execution_count": 8,
   "outputs": [
    {
     "name": "stdout",
     "output_type": "stream",
     "text": [
      "Run 1 made it 86.0 'days'\n",
      "Run 9 made it 86.0 'days'\n",
      "Run 17 made it 450.0 'days'\n",
      "Run 25 made it 366.0 'days'\n"
     ]
    }
   ],
   "source": [
    "#by_run['tick'].count()\n",
    "\n",
    "for group in data.groupby('run'):\n",
    "    df = group[1]\n",
    "    print(\"Run {} made it {} 'days'\".format(group[0], df['tick'].max()))\n"
   ],
   "metadata": {
    "collapsed": false,
    "pycharm": {
     "name": "#%%\n"
    }
   }
  },
  {
   "cell_type": "code",
   "execution_count": 9,
   "outputs": [
    {
     "data": {
      "text/plain": "       Lifestate\nadult         90",
      "text/html": "<div>\n<style scoped>\n    .dataframe tbody tr th:only-of-type {\n        vertical-align: middle;\n    }\n\n    .dataframe tbody tr th {\n        vertical-align: top;\n    }\n\n    .dataframe thead th {\n        text-align: right;\n    }\n</style>\n<table border=\"1\" class=\"dataframe\">\n  <thead>\n    <tr style=\"text-align: right;\">\n      <th></th>\n      <th>Lifestate</th>\n    </tr>\n  </thead>\n  <tbody>\n    <tr>\n      <th>adult</th>\n      <td>90</td>\n    </tr>\n  </tbody>\n</table>\n</div>"
     },
     "execution_count": 9,
     "metadata": {},
     "output_type": "execute_result"
    }
   ],
   "source": [
    "# get a single group to work with\n",
    "group1 = by_run.get_group(1)\n",
    "counts = group1['Lifestate'].value_counts().to_frame() # can also add .to_dict()\n",
    "counts\n",
    "#----------------------------------------------------------------------------------\n"
   ],
   "metadata": {
    "collapsed": false,
    "pycharm": {
     "name": "#%%\n"
    }
   }
  },
  {
   "cell_type": "code",
   "execution_count": 7,
   "outputs": [
    {
     "data": {
      "text/plain": "      tick Lifestate\n4634   1.0     nymph\n4635   1.0     nymph\n4636   1.0     nymph\n4637   1.0     nymph\n4638   1.0     nymph",
      "text/html": "<div>\n<style scoped>\n    .dataframe tbody tr th:only-of-type {\n        vertical-align: middle;\n    }\n\n    .dataframe tbody tr th {\n        vertical-align: top;\n    }\n\n    .dataframe thead th {\n        text-align: right;\n    }\n</style>\n<table border=\"1\" class=\"dataframe\">\n  <thead>\n    <tr style=\"text-align: right;\">\n      <th></th>\n      <th>tick</th>\n      <th>Lifestate</th>\n    </tr>\n  </thead>\n  <tbody>\n    <tr>\n      <th>4634</th>\n      <td>1.0</td>\n      <td>nymph</td>\n    </tr>\n    <tr>\n      <th>4635</th>\n      <td>1.0</td>\n      <td>nymph</td>\n    </tr>\n    <tr>\n      <th>4636</th>\n      <td>1.0</td>\n      <td>nymph</td>\n    </tr>\n    <tr>\n      <th>4637</th>\n      <td>1.0</td>\n      <td>nymph</td>\n    </tr>\n    <tr>\n      <th>4638</th>\n      <td>1.0</td>\n      <td>nymph</td>\n    </tr>\n  </tbody>\n</table>\n</div>"
     },
     "execution_count": 7,
     "metadata": {},
     "output_type": "execute_result"
    }
   ],
   "source": [
    "# drop the columns we don't care about for this particular plot\n",
    "group1 = group1[group1.Lifestate != \"egg\"]\n",
    "g1_df = group1.drop([\"Lat\", \"Long\", \"habitat_sample\", \"run\"], axis=1)\n",
    "# g1_df = group1.drop([ \"habitat_sample\", \"run\"], axis=1)\n",
    "g1_df.head()"
   ],
   "metadata": {
    "collapsed": false,
    "pycharm": {
     "name": "#%%\n"
    }
   }
  },
  {
   "cell_type": "code",
   "execution_count": 8,
   "outputs": [],
   "source": [
    "# create a column for days\n",
    "g1_df['day'] = g1_df.apply(lambda x: (x['tick'] + (x['tick'] // 90) * 275), axis=1)\n",
    "\n",
    "# g1_df['day'] = g1_df.apply(lambda x: x['tick'] + 275 if x['tick'] > 90 else x['tick'], axis=1)  # NO, only good for 2 years"
   ],
   "metadata": {
    "collapsed": false,
    "pycharm": {
     "name": "#%%\n"
    }
   }
  },
  {
   "cell_type": "code",
   "execution_count": 1,
   "outputs": [
    {
     "ename": "NameError",
     "evalue": "name 'matplotlib' is not defined",
     "output_type": "error",
     "traceback": [
      "\u001B[0;31m---------------------------------------------------------------------------\u001B[0m",
      "\u001B[0;31mNameError\u001B[0m                                 Traceback (most recent call last)",
      "\u001B[0;32m<ipython-input-1-6225a0b228e7>\u001B[0m in \u001B[0;36m<module>\u001B[0;34m\u001B[0m\n\u001B[0;32m----> 1\u001B[0;31m \u001B[0mmatplotlib\u001B[0m\u001B[0;34m.\u001B[0m\u001B[0muse\u001B[0m\u001B[0;34m(\u001B[0m\u001B[0;34m'Qt5Agg'\u001B[0m\u001B[0;34m)\u001B[0m\u001B[0;34m\u001B[0m\u001B[0;34m\u001B[0m\u001B[0m\n\u001B[0m\u001B[1;32m      2\u001B[0m \u001B[0;31m# https://stackoverflow.com/questions/5656798/python-matplotlib-is-there-a-way-to-make-a-discontinuous-axis\u001B[0m\u001B[0;34m\u001B[0m\u001B[0;34m\u001B[0m\u001B[0;34m\u001B[0m\u001B[0m\n\u001B[1;32m      3\u001B[0m \u001B[0;34m\u001B[0m\u001B[0m\n\u001B[1;32m      4\u001B[0m \u001B[0md\u001B[0m \u001B[0;34m=\u001B[0m \u001B[0mg1_df\u001B[0m\u001B[0;34m.\u001B[0m\u001B[0mdrop\u001B[0m\u001B[0;34m(\u001B[0m\u001B[0;34m'tick'\u001B[0m\u001B[0;34m,\u001B[0m \u001B[0maxis\u001B[0m\u001B[0;34m=\u001B[0m\u001B[0;36m1\u001B[0m\u001B[0;34m)\u001B[0m\u001B[0;34m\u001B[0m\u001B[0;34m\u001B[0m\u001B[0m\n\u001B[1;32m      5\u001B[0m \u001B[0mdays_df\u001B[0m \u001B[0;34m=\u001B[0m \u001B[0mpd\u001B[0m\u001B[0;34m.\u001B[0m\u001B[0mget_dummies\u001B[0m\u001B[0;34m(\u001B[0m\u001B[0md\u001B[0m\u001B[0;34m,\u001B[0m \u001B[0mcolumns\u001B[0m\u001B[0;34m=\u001B[0m\u001B[0;34m[\u001B[0m\u001B[0;34m'Lifestate'\u001B[0m\u001B[0;34m]\u001B[0m\u001B[0;34m)\u001B[0m\u001B[0;34m\u001B[0m\u001B[0;34m\u001B[0m\u001B[0m\n",
      "\u001B[0;31mNameError\u001B[0m: name 'matplotlib' is not defined"
     ]
    }
   ],
   "source": [
    "# Create the plot\n",
    "# https://stackoverflow.com/questions/5656798/python-matplotlib-is-there-a-way-to-make-a-discontinuous-axis\n",
    "# https://matplotlib.org/devdocs/gallery/subplots_axes_and_figures/broken_axis.html\n",
    "\n",
    "matplotlib.use('Qt5Agg')\n",
    "\n",
    "d = g1_df.drop('tick', axis=1)\n",
    "days_df = pd.get_dummies(d, columns=['Lifestate'])\n",
    "by_day = days_df.groupby('day')\n",
    "\n",
    "fig, (ax1, ax2, ax3) = plt.subplots(1,3,figsize=(12,7), sharey=True)\n",
    "by_day.sum().plot(logy=True, ax=ax1)\n",
    "by_day.sum().plot(logy=True, ax=ax2, legend=False)\n",
    "by_day.sum().plot(logy=True, ax=ax3, legend=False)\n",
    "# by_day.sum().plot(logy=True, ax=ax4, legend=False)\n",
    "min = days_df['day'].max() / 90\n",
    "# ax1.set_xlim(0,90)\n",
    "# ax2.set_xlim(365,)\n",
    "ax1.set_xlim(0,90)\n",
    "ax2.set_xlim(367,456)\n",
    "ax3.set_xlim(732,)\n",
    "# ax4.set_xlim(1095,)\n",
    "# ax5.set_xlim(1185,1275)\n",
    "\n",
    "# Now we want to hide spines and ticks\n",
    "ax1.spines['right'].set_visible(False)\n",
    "ax2.spines['left'].set_visible(False)\n",
    "ax2.spines['right'].set_visible(False)\n",
    "ax3.spines['left'].set_visible(False)\n",
    "# ax3.spines['right'].set_visible(False)\n",
    "# ax4.spines['left'].set_visible(False)\n",
    "\n",
    "ax1.x_label.set_visible(False)\n",
    "ax3.x_label.set_visible(False)\n",
    "\n",
    "ax1.yaxis.tick_left()\n",
    "ax3.yaxis.tick_right()  # TODO hide the ticks on ax2\n",
    "\n",
    "# make the gap between axes smaller\n",
    "plt.subplots_adjust(wspace=0.05)\n",
    "\n",
    "# add cutout lines\n",
    "d = 0.015\n",
    "kwargs = dict(transform=ax1.transAxes, color='k', clip_on=False)\n",
    "ax1.plot((1-d, 1+d), (-d, +d), **kwargs)\n",
    "ax1.plot((1-d, 1+d), (1-d, 1+d), **kwargs)\n",
    "\n",
    "kwargs.update(transform=ax2.transAxes)\n",
    "ax2.plot((-d,d),(-d,+d), **kwargs) # top-right diagonal\n",
    "ax2.plot((-d,d),(1-d,1+d), **kwargs) # bottom-right diagonal\n",
    "\n",
    "plt.show(block=True)  # Another way to get popup to stay (https://stackoverflow.com/questions/33062762/plot-in-pandas-immediately-closes/33062819)\n"
   ],
   "metadata": {
    "collapsed": false,
    "pycharm": {
     "name": "#%%\n"
    }
   }
  },
  {
   "cell_type": "code",
   "execution_count": null,
   "outputs": [],
   "source": [
    "# Handle categoricals by getting dummy variables for them\n",
    "# matplotlib.use('Qt5Agg')  # Force default backend for matplotlib to get plot as a popup\n",
    "d = pd.get_dummies(g1_df, columns=['Lifestate']) # create a new dataframe with dummy variables\n",
    "# d.head()\n",
    "gr = d.groupby('tick')\n",
    "plot = gr.sum().plot(logy=True, title=\"Ixode Survivability\")\n",
    "plot.set_xlabel(\"days\")\n",
    "plot.set_ylabel(\"Lifestate count\")\n"
   ],
   "metadata": {
    "collapsed": false,
    "pycharm": {
     "name": "#%%\n"
    }
   }
  },
  {
   "cell_type": "code",
   "execution_count": null,
   "outputs": [],
   "source": [
    "params = \" Lifestage: {}\\n Host Density: {}\\n Ixode Count: {}\\n Habitat Suitability: {}\".format(\n",
    "                  \"nymph\", 0.5, 4, 0.05)\n",
    "fig,ax = plt.subplots(figsize=(12,7)) # ax is the plot, plt is the figure the plot goes in\n",
    "gr.sum().plot(logy=True, title=\"AAAAAAAAAAASurvivability\", ax=ax)\n",
    "ax.set_title(\"Survivability\", fontsize=16, fontweight='bold')\n",
    "ax.set_xlabel(\"Days\", fontsize=12)\n",
    "ax.set_ylabel(\"Lifestate count\", fontsize=12)\n",
    "# props = dict(boxstyle='round', facecolor='wheat', alpha=0.5)\n",
    "props = dict( facecolor='wheat', alpha=0.5)\n",
    "ax.text(17,1100, params, fontsize=10, bbox=props)\n",
    "postfix = 00\n",
    "fig.savefig('/home/hillari/PycharmProjects/tick-ABMs/data/plots/testplot' + str(postfix) + '.png')\n"
   ],
   "metadata": {
    "collapsed": false,
    "pycharm": {
     "name": "#%%\n"
    }
   }
  },
  {
   "cell_type": "code",
   "execution_count": null,
   "outputs": [],
   "source": [
    "# calculate something like this\n",
    "# tick_nums = [1, 70, 145, 185, 215, 375, 450]\n",
    "# day_nums = [x + ( (x // 90) * 275 ) for x in tick_nums]\n",
    "# print(day_nums)"
   ],
   "metadata": {
    "collapsed": false,
    "pycharm": {
     "name": "#%%\n"
    }
   }
  }
 ],
 "metadata": {
  "kernelspec": {
   "name": "python3",
   "language": "python",
   "display_name": "Python 3"
  },
  "language_info": {
   "codemirror_mode": {
    "name": "ipython",
    "version": 2
   },
   "file_extension": ".py",
   "mimetype": "text/x-python",
   "name": "python",
   "nbconvert_exporter": "python",
   "pygments_lexer": "ipython2",
   "version": "2.7.6"
  }
 },
 "nbformat": 4,
 "nbformat_minor": 0
}