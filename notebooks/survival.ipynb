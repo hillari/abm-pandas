{
 "cells": [
  {
   "cell_type": "code",
   "execution_count": 1,
   "outputs": [],
   "source": [
    "import pandas as pd\n",
    "import numpy as np\n",
    "import matplotlib\n",
    "import matplotlib.pyplot as plt\n",
    "import math\n"
   ],
   "metadata": {
    "collapsed": false,
    "pycharm": {
     "name": "#%%\n"
    }
   }
  },
  {
   "cell_type": "code",
   "execution_count": 3,
   "outputs": [
    {
     "data": {
      "text/plain": "   run  tick Lifestate        Lat        Long  habitat_sample\n0    4   1.0     larva  60.376412 -149.344133        0.046044\n1    4   1.0     larva  60.373102 -149.338457        0.046044\n2    4   1.0     larva  60.371465 -149.339165        0.046044\n3    4   1.0     larva  60.378938 -149.341841        0.046044\n4    4   1.0     larva  60.375406 -149.335621        0.046044",
      "text/html": "<div>\n<style scoped>\n    .dataframe tbody tr th:only-of-type {\n        vertical-align: middle;\n    }\n\n    .dataframe tbody tr th {\n        vertical-align: top;\n    }\n\n    .dataframe thead th {\n        text-align: right;\n    }\n</style>\n<table border=\"1\" class=\"dataframe\">\n  <thead>\n    <tr style=\"text-align: right;\">\n      <th></th>\n      <th>run</th>\n      <th>tick</th>\n      <th>Lifestate</th>\n      <th>Lat</th>\n      <th>Long</th>\n      <th>habitat_sample</th>\n    </tr>\n  </thead>\n  <tbody>\n    <tr>\n      <th>0</th>\n      <td>4</td>\n      <td>1.0</td>\n      <td>larva</td>\n      <td>60.376412</td>\n      <td>-149.344133</td>\n      <td>0.046044</td>\n    </tr>\n    <tr>\n      <th>1</th>\n      <td>4</td>\n      <td>1.0</td>\n      <td>larva</td>\n      <td>60.373102</td>\n      <td>-149.338457</td>\n      <td>0.046044</td>\n    </tr>\n    <tr>\n      <th>2</th>\n      <td>4</td>\n      <td>1.0</td>\n      <td>larva</td>\n      <td>60.371465</td>\n      <td>-149.339165</td>\n      <td>0.046044</td>\n    </tr>\n    <tr>\n      <th>3</th>\n      <td>4</td>\n      <td>1.0</td>\n      <td>larva</td>\n      <td>60.378938</td>\n      <td>-149.341841</td>\n      <td>0.046044</td>\n    </tr>\n    <tr>\n      <th>4</th>\n      <td>4</td>\n      <td>1.0</td>\n      <td>larva</td>\n      <td>60.375406</td>\n      <td>-149.335621</td>\n      <td>0.046044</td>\n    </tr>\n  </tbody>\n</table>\n</div>"
     },
     "execution_count": 3,
     "metadata": {},
     "output_type": "execute_result"
    }
   ],
   "source": [
    "data = pd.read_csv(\"/home/hill/Dropbox/School/tickABM/pycharm-project/abm-pycharm/data/failures/instance_4/TickNonAgg.2020.Apr.07.21_20_27\") # group 15 has a good range of all 3 lifestates, run 327 is good\n",
    "data.head()"
   ],
   "metadata": {
    "collapsed": false,
    "pycharm": {
     "name": "#%%\n"
    }
   }
  },
  {
   "cell_type": "code",
   "execution_count": null,
   "outputs": [],
   "source": [
    "# for name, group in grouped_data:\n",
    "#     print(\"Run:\", name[:1], \"Tick:\", name[1:])\n",
    "#     print(\"Group:\\n\",group)\n",
    "#     valcounts= group['Lifestate'].value_counts().to_dict()\n",
    "#     print(valcounts)\n",
    "#     lk_vals = [[k,v] for k, v in valcounts.items()]"
   ],
   "metadata": {
    "collapsed": false,
    "pycharm": {
     "name": "#%%\n"
    }
   }
  },
  {
   "cell_type": "code",
   "execution_count": 5,
   "outputs": [
    {
     "data": {
      "text/plain": "array([ 1,  9, 17, 25])"
     },
     "execution_count": 5,
     "metadata": {},
     "output_type": "execute_result"
    }
   ],
   "source": [
    "by_run = data.groupby('run')\n",
    "runs = data['run'].unique()\n",
    "runs"
   ],
   "metadata": {
    "collapsed": false,
    "pycharm": {
     "name": "#%%\n"
    }
   }
  },
  {
   "cell_type": "code",
   "execution_count": 8,
   "outputs": [
    {
     "name": "stdout",
     "output_type": "stream",
     "text": [
      "Run 1 made it 86.0 'days'\n",
      "Run 9 made it 86.0 'days'\n",
      "Run 17 made it 450.0 'days'\n",
      "Run 25 made it 366.0 'days'\n"
     ]
    }
   ],
   "source": [
    "#by_run['tick'].count()\n",
    "\n",
    "for group in data.groupby('run'):\n",
    "    df = group[1]\n",
    "    print(\"Run {} made it {} 'days'\".format(group[0], df['tick'].max()))\n"
   ],
   "metadata": {
    "collapsed": false,
    "pycharm": {
     "name": "#%%\n"
    }
   }
  },
  {
   "cell_type": "code",
   "execution_count": 9,
   "outputs": [
    {
     "data": {
      "text/plain": "       Lifestate\nadult         90",
      "text/html": "<div>\n<style scoped>\n    .dataframe tbody tr th:only-of-type {\n        vertical-align: middle;\n    }\n\n    .dataframe tbody tr th {\n        vertical-align: top;\n    }\n\n    .dataframe thead th {\n        text-align: right;\n    }\n</style>\n<table border=\"1\" class=\"dataframe\">\n  <thead>\n    <tr style=\"text-align: right;\">\n      <th></th>\n      <th>Lifestate</th>\n    </tr>\n  </thead>\n  <tbody>\n    <tr>\n      <th>adult</th>\n      <td>90</td>\n    </tr>\n  </tbody>\n</table>\n</div>"
     },
     "execution_count": 9,
     "metadata": {},
     "output_type": "execute_result"
    }
   ],
   "source": [
    "#--------------------------------------------------------------------------\n",
    "# TODO How to loop through each group so we can make plots for every run\n",
    "# Just put all the plotting code inside this loop?\n",
    "\n",
    "# for group in by_run:\n",
    "#     //do all the stuff\n",
    "#     //do more stuff\n",
    "\n",
    "#\n",
    "group1 = by_run.get_group(1)\n",
    "counts = group1['Lifestate'].value_counts().to_frame() # can also add .to_dict()\n",
    "counts\n",
    "#----------------------------------------------------------------------------------\n"
   ],
   "metadata": {
    "collapsed": false,
    "pycharm": {
     "name": "#%%\n"
    }
   }
  },
  {
   "cell_type": "code",
   "execution_count": 7,
   "outputs": [
    {
     "data": {
      "text/plain": "      tick Lifestate\n4634   1.0     nymph\n4635   1.0     nymph\n4636   1.0     nymph\n4637   1.0     nymph\n4638   1.0     nymph",
      "text/html": "<div>\n<style scoped>\n    .dataframe tbody tr th:only-of-type {\n        vertical-align: middle;\n    }\n\n    .dataframe tbody tr th {\n        vertical-align: top;\n    }\n\n    .dataframe thead th {\n        text-align: right;\n    }\n</style>\n<table border=\"1\" class=\"dataframe\">\n  <thead>\n    <tr style=\"text-align: right;\">\n      <th></th>\n      <th>tick</th>\n      <th>Lifestate</th>\n    </tr>\n  </thead>\n  <tbody>\n    <tr>\n      <th>4634</th>\n      <td>1.0</td>\n      <td>nymph</td>\n    </tr>\n    <tr>\n      <th>4635</th>\n      <td>1.0</td>\n      <td>nymph</td>\n    </tr>\n    <tr>\n      <th>4636</th>\n      <td>1.0</td>\n      <td>nymph</td>\n    </tr>\n    <tr>\n      <th>4637</th>\n      <td>1.0</td>\n      <td>nymph</td>\n    </tr>\n    <tr>\n      <th>4638</th>\n      <td>1.0</td>\n      <td>nymph</td>\n    </tr>\n  </tbody>\n</table>\n</div>"
     },
     "execution_count": 7,
     "metadata": {},
     "output_type": "execute_result"
    }
   ],
   "source": [
    "# drop the columns we don't care about for this particular plot\n",
    "group1 = group1[group1.Lifestate != \"egg\"]\n",
    "g1_df = group1.drop([\"Lat\", \"Long\", \"habitat_sample\", \"run\"], axis=1)\n",
    "# g1_df = group1.drop([ \"habitat_sample\", \"run\"], axis=1)\n",
    "g1_df.head()"
   ],
   "metadata": {
    "collapsed": false,
    "pycharm": {
     "name": "#%%\n"
    }
   }
  },
  {
   "cell_type": "code",
   "execution_count": 8,
   "outputs": [],
   "source": [
    "# create a column for days\n",
    "g1_df['day'] = g1_df.apply(lambda x: (x['tick'] + (x['tick'] // 90) * 275), axis=1)\n",
    "\n",
    "# g1_df['day'] = g1_df.apply(lambda x: x['tick'] + 275 if x['tick'] > 90 else x['tick'], axis=1)  # NO, only good for 2 years"
   ],
   "metadata": {
    "collapsed": false,
    "pycharm": {
     "name": "#%%\n"
    }
   }
  },
  {
   "cell_type": "code",
   "execution_count": 1,
   "outputs": [
    {
     "ename": "NameError",
     "evalue": "name 'matplotlib' is not defined",
     "output_type": "error",
     "traceback": [
      "\u001B[0;31m---------------------------------------------------------------------------\u001B[0m",
      "\u001B[0;31mNameError\u001B[0m                                 Traceback (most recent call last)",
      "\u001B[0;32m<ipython-input-1-6225a0b228e7>\u001B[0m in \u001B[0;36m<module>\u001B[0;34m\u001B[0m\n\u001B[0;32m----> 1\u001B[0;31m \u001B[0mmatplotlib\u001B[0m\u001B[0;34m.\u001B[0m\u001B[0muse\u001B[0m\u001B[0;34m(\u001B[0m\u001B[0;34m'Qt5Agg'\u001B[0m\u001B[0;34m)\u001B[0m\u001B[0;34m\u001B[0m\u001B[0;34m\u001B[0m\u001B[0m\n\u001B[0m\u001B[1;32m      2\u001B[0m \u001B[0;31m# https://stackoverflow.com/questions/5656798/python-matplotlib-is-there-a-way-to-make-a-discontinuous-axis\u001B[0m\u001B[0;34m\u001B[0m\u001B[0;34m\u001B[0m\u001B[0;34m\u001B[0m\u001B[0m\n\u001B[1;32m      3\u001B[0m \u001B[0;34m\u001B[0m\u001B[0m\n\u001B[1;32m      4\u001B[0m \u001B[0md\u001B[0m \u001B[0;34m=\u001B[0m \u001B[0mg1_df\u001B[0m\u001B[0;34m.\u001B[0m\u001B[0mdrop\u001B[0m\u001B[0;34m(\u001B[0m\u001B[0;34m'tick'\u001B[0m\u001B[0;34m,\u001B[0m \u001B[0maxis\u001B[0m\u001B[0;34m=\u001B[0m\u001B[0;36m1\u001B[0m\u001B[0;34m)\u001B[0m\u001B[0;34m\u001B[0m\u001B[0;34m\u001B[0m\u001B[0m\n\u001B[1;32m      5\u001B[0m \u001B[0mdays_df\u001B[0m \u001B[0;34m=\u001B[0m \u001B[0mpd\u001B[0m\u001B[0;34m.\u001B[0m\u001B[0mget_dummies\u001B[0m\u001B[0;34m(\u001B[0m\u001B[0md\u001B[0m\u001B[0;34m,\u001B[0m \u001B[0mcolumns\u001B[0m\u001B[0;34m=\u001B[0m\u001B[0;34m[\u001B[0m\u001B[0;34m'Lifestate'\u001B[0m\u001B[0;34m]\u001B[0m\u001B[0;34m)\u001B[0m\u001B[0;34m\u001B[0m\u001B[0;34m\u001B[0m\u001B[0m\n",
      "\u001B[0;31mNameError\u001B[0m: name 'matplotlib' is not defined"
     ]
    }
   ],
   "source": [
    "matplotlib.use('Qt5Agg')\n",
    "# https://stackoverflow.com/questions/5656798/python-matplotlib-is-there-a-way-to-make-a-discontinuous-axis\n",
    "\n",
    "d = g1_df.drop('tick', axis=1)\n",
    "days_df = pd.get_dummies(d, columns=['Lifestate'])\n",
    "by_day = days_df.groupby('day')\n",
    "\n",
    "fig, (ax1, ax2, ax3) = plt.subplots(1,3,figsize=(12,7), sharey=True)\n",
    "by_day.sum().plot(logy=True, ax=ax1)\n",
    "by_day.sum().plot(logy=True, ax=ax2, legend=False)\n",
    "by_day.sum().plot(logy=True, ax=ax3, legend=False)\n",
    "# by_day.sum().plot(logy=True, ax=ax4, legend=False)\n",
    "min = days_df['day'].max() / 90\n",
    "# ax1.set_xlim(0,90)\n",
    "# ax2.set_xlim(365,)\n",
    "ax1.set_xlim(0,90)\n",
    "ax2.set_xlim(367,456)\n",
    "ax3.set_xlim(732,)\n",
    "# ax4.set_xlim(1095,)\n",
    "# ax5.set_xlim(1185,1275)\n",
    "\n",
    "# Now we want to hide spines and ticks\n",
    "ax1.spines['right'].set_visible(False)\n",
    "ax2.spines['left'].set_visible(False)\n",
    "ax2.spines['right'].set_visible(False)\n",
    "ax3.spines['left'].set_visible(False)\n",
    "# ax3.spines['right'].set_visible(False)\n",
    "# ax4.spines['left'].set_visible(False)\n",
    "\n",
    "ax1.x_label.set_visible(False)\n",
    "ax3.x_label.set_visible(False)\n",
    "\n",
    "ax1.yaxis.tick_left()\n",
    "ax3.yaxis.tick_right()  # TODO hide the ticks on ax2\n",
    "\n",
    "# make the gap between axes smaller\n",
    "plt.subplots_adjust(wspace=0.05)\n",
    "\n",
    "# add cutout lines\n",
    "d = 0.015\n",
    "kwargs = dict(transform=ax1.transAxes, color='k', clip_on=False)\n",
    "ax1.plot((1-d, 1+d), (-d, +d), **kwargs)\n",
    "ax1.plot((1-d, 1+d), (1-d, 1+d), **kwargs)\n",
    "\n",
    "kwargs.update(transform=ax2.transAxes)\n",
    "ax2.plot((-d,d),(-d,+d), **kwargs) # top-right diagonal\n",
    "ax2.plot((-d,d),(1-d,1+d), **kwargs) # bottom-right diagonal\n",
    "\n",
    "plt.show(block=True)  # This is how we get popup to stay (https://stackoverflow.com/questions/33062762/plot-in-pandas-immediately-closes/33062819)\n"
   ],
   "metadata": {
    "collapsed": false,
    "pycharm": {
     "name": "#%%\n"
    }
   }
  },
  {
   "cell_type": "code",
   "execution_count": null,
   "outputs": [],
   "source": [
    "# Handle categoricals by getting dummy variables for them\n",
    "# matplotlib.use('Qt5Agg')  # FIXME Force default backend for matplotlib to get plot as a popup\n",
    "d = pd.get_dummies(g1_df, columns=['Lifestate']) # create a new dataframe with dummy variables\n",
    "# d.head()\n",
    "gr = d.groupby('tick')\n",
    "plot = gr.sum().plot(logy=True, title=\"Ixode Survivability\")\n",
    "plot.set_xlabel(\"days\")\n",
    "plot.set_ylabel(\"Lifestate count\")\n"
   ],
   "metadata": {
    "collapsed": false,
    "pycharm": {
     "name": "#%%\n"
    }
   }
  },
  {
   "cell_type": "code",
   "execution_count": null,
   "outputs": [],
   "source": [
    "params = \" Lifestage: {}\\n Host Density: {}\\n Ixode Count: {}\\n Habitat Suitability: {}\".format(\n",
    "                  \"nymph\", 0.5, 4, 0.05)\n",
    "fig,ax = plt.subplots(figsize=(12,7)) # ax is the plot, plt is the figure the plot goes in\n",
    "gr.sum().plot(logy=True, title=\"AAAAAAAAAAASurvivability\", ax=ax)\n",
    "ax.set_title(\"Survivability\", fontsize=16, fontweight='bold')\n",
    "ax.set_xlabel(\"Days\", fontsize=12)\n",
    "ax.set_ylabel(\"Lifestate count\", fontsize=12)\n",
    "# props = dict(boxstyle='round', facecolor='wheat', alpha=0.5)\n",
    "props = dict( facecolor='wheat', alpha=0.5)\n",
    "ax.text(17,1100, params, fontsize=10, bbox=props)\n",
    "postfix = 00\n",
    "fig.savefig('/home/hillari/PycharmProjects/tick-ABMs/data/plots/testplot' + str(postfix) + '.png')\n"
   ],
   "metadata": {
    "collapsed": false,
    "pycharm": {
     "name": "#%%\n"
    }
   }
  },
  {
   "cell_type": "code",
   "execution_count": null,
   "outputs": [],
   "source": [
    "#https://matplotlib.org/devdocs/gallery/subplots_axes_and_figures/broken_axis.html\n",
    "tick_nums = [1, 70, 145, 185, 215, 375, 450]\n",
    "day_nums = [x + ( (x // 90) * 275 ) for x in tick_nums]\n",
    "print(day_nums)"
   ],
   "metadata": {
    "collapsed": false,
    "pycharm": {
     "name": "#%%\n"
    }
   }
  }
 ],
 "metadata": {
  "kernelspec": {
   "name": "python3",
   "language": "python",
   "display_name": "Python 3"
  },
  "language_info": {
   "codemirror_mode": {
    "name": "ipython",
    "version": 2
   },
   "file_extension": ".py",
   "mimetype": "text/x-python",
   "name": "python",
   "nbconvert_exporter": "python",
   "pygments_lexer": "ipython2",
   "version": "2.7.6"
  }
 },
 "nbformat": 4,
 "nbformat_minor": 0
}