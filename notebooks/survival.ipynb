{
 "cells": [
  {
   "cell_type": "code",
   "execution_count": 1,
   "outputs": [],
   "source": [
    "import pandas as pd\n",
    "import matplotlib\n",
    "import matplotlib.pyplot as plt\n"
   ],
   "metadata": {
    "collapsed": false,
    "pycharm": {
     "name": "#%%\n"
    }
   }
  },
  {
   "cell_type": "code",
   "execution_count": 4,
   "outputs": [
    {
     "data": {
      "text/plain": "   run    randomSeed tick_lifestage large_host_density  tick_count  \\\n0    1  1.500214e+09          adult                1.0         2.0   \n1    9  1.502528e+09          adult                1.0         2.0   \n2   17  1.504877e+09          adult                1.0         3.0   \n3   25  1.507203e+09          adult                1.0         4.0   \n4   33  1.509553e+09          adult                1.0         4.0   \n\n   habitat_suitability  \n0                -1.00  \n1                 0.08  \n2                 0.05  \n3                 0.02  \n4                 0.10  ",
      "text/html": "<div>\n<style scoped>\n    .dataframe tbody tr th:only-of-type {\n        vertical-align: middle;\n    }\n\n    .dataframe tbody tr th {\n        vertical-align: top;\n    }\n\n    .dataframe thead th {\n        text-align: right;\n    }\n</style>\n<table border=\"1\" class=\"dataframe\">\n  <thead>\n    <tr style=\"text-align: right;\">\n      <th></th>\n      <th>run</th>\n      <th>randomSeed</th>\n      <th>tick_lifestage</th>\n      <th>large_host_density</th>\n      <th>tick_count</th>\n      <th>habitat_suitability</th>\n    </tr>\n  </thead>\n  <tbody>\n    <tr>\n      <th>0</th>\n      <td>1</td>\n      <td>1.500214e+09</td>\n      <td>adult</td>\n      <td>1.0</td>\n      <td>2.0</td>\n      <td>-1.00</td>\n    </tr>\n    <tr>\n      <th>1</th>\n      <td>9</td>\n      <td>1.502528e+09</td>\n      <td>adult</td>\n      <td>1.0</td>\n      <td>2.0</td>\n      <td>0.08</td>\n    </tr>\n    <tr>\n      <th>2</th>\n      <td>17</td>\n      <td>1.504877e+09</td>\n      <td>adult</td>\n      <td>1.0</td>\n      <td>3.0</td>\n      <td>0.05</td>\n    </tr>\n    <tr>\n      <th>3</th>\n      <td>25</td>\n      <td>1.507203e+09</td>\n      <td>adult</td>\n      <td>1.0</td>\n      <td>4.0</td>\n      <td>0.02</td>\n    </tr>\n    <tr>\n      <th>4</th>\n      <td>33</td>\n      <td>1.509553e+09</td>\n      <td>adult</td>\n      <td>1.0</td>\n      <td>4.0</td>\n      <td>0.10</td>\n    </tr>\n  </tbody>\n</table>\n</div>"
     },
     "execution_count": 4,
     "metadata": {},
     "output_type": "execute_result"
    }
   ],
   "source": [
    "# Use error_bad_lines=False arg to omit params for runs where the params got concatenated with run data\n",
    "data = pd.read_csv(\"../data/survivability/adult/data-habitat.2020.May.28.04_23_23\")\n",
    "data.head()"
   ],
   "metadata": {
    "collapsed": false,
    "pycharm": {
     "name": "#%%\n"
    }
   }
  },
  {
   "cell_type": "code",
   "execution_count": null,
   "outputs": [],
   "source": [
    "# Loop through groupby and print different parts\n",
    "# for name, group in grouped_data:\n",
    "#     print(\"Run:\", name[:1], \"Tick:\", name[1:])\n",
    "#     print(\"Group:\\n\",group)\n",
    "#     valcounts= group['Lifestate'].value_counts().to_dict()\n",
    "#     print(valcounts)\n",
    "#     lk_vals = [[k,v] for k, v in valcounts.items()]"
   ],
   "metadata": {
    "collapsed": false,
    "pycharm": {
     "name": "#%%\n"
    }
   }
  },
  {
   "cell_type": "code",
   "execution_count": 5,
   "outputs": [
    {
     "data": {
      "text/plain": "array([ 1,  9, 17, 25])"
     },
     "execution_count": 5,
     "metadata": {},
     "output_type": "execute_result"
    }
   ],
   "source": [
    "by_run = data.groupby('run')\n",
    "runs = data['run'].unique()\n",
    "runs"
   ],
   "metadata": {
    "collapsed": false,
    "pycharm": {
     "name": "#%%\n"
    }
   }
  },
  {
   "cell_type": "code",
   "execution_count": 8,
   "outputs": [
    {
     "name": "stdout",
     "output_type": "stream",
     "text": [
      "Run 1 made it 86.0 'days'\n",
      "Run 9 made it 86.0 'days'\n",
      "Run 17 made it 450.0 'days'\n",
      "Run 25 made it 366.0 'days'\n"
     ]
    }
   ],
   "source": [
    "#by_run['tick'].count()\n",
    "\n",
    "for group in data.groupby('run'):\n",
    "    df = group[1]\n",
    "    print(\"Run {} made it {} 'days'\".format(group[0], df['tick'].max()))\n"
   ],
   "metadata": {
    "collapsed": false,
    "pycharm": {
     "name": "#%%\n"
    }
   }
  },
  {
   "cell_type": "code",
   "execution_count": 9,
   "outputs": [
    {
     "data": {
      "text/plain": "       Lifestate\nadult         90",
      "text/html": "<div>\n<style scoped>\n    .dataframe tbody tr th:only-of-type {\n        vertical-align: middle;\n    }\n\n    .dataframe tbody tr th {\n        vertical-align: top;\n    }\n\n    .dataframe thead th {\n        text-align: right;\n    }\n</style>\n<table border=\"1\" class=\"dataframe\">\n  <thead>\n    <tr style=\"text-align: right;\">\n      <th></th>\n      <th>Lifestate</th>\n    </tr>\n  </thead>\n  <tbody>\n    <tr>\n      <th>adult</th>\n      <td>90</td>\n    </tr>\n  </tbody>\n</table>\n</div>"
     },
     "execution_count": 9,
     "metadata": {},
     "output_type": "execute_result"
    }
   ],
   "source": [
    "# get a single group to work with\n",
    "group1 = by_run.get_group(1)\n",
    "counts = group1['Lifestate'].value_counts().to_frame() # can also add .to_dict()\n",
    "counts\n",
    "#----------------------------------------------------------------------------------\n"
   ],
   "metadata": {
    "collapsed": false,
    "pycharm": {
     "name": "#%%\n"
    }
   }
  },
  {
   "cell_type": "code",
   "execution_count": 7,
   "outputs": [
    {
     "data": {
      "text/plain": "      tick Lifestate\n4634   1.0     nymph\n4635   1.0     nymph\n4636   1.0     nymph\n4637   1.0     nymph\n4638   1.0     nymph",
      "text/html": "<div>\n<style scoped>\n    .dataframe tbody tr th:only-of-type {\n        vertical-align: middle;\n    }\n\n    .dataframe tbody tr th {\n        vertical-align: top;\n    }\n\n    .dataframe thead th {\n        text-align: right;\n    }\n</style>\n<table border=\"1\" class=\"dataframe\">\n  <thead>\n    <tr style=\"text-align: right;\">\n      <th></th>\n      <th>tick</th>\n      <th>Lifestate</th>\n    </tr>\n  </thead>\n  <tbody>\n    <tr>\n      <th>4634</th>\n      <td>1.0</td>\n      <td>nymph</td>\n    </tr>\n    <tr>\n      <th>4635</th>\n      <td>1.0</td>\n      <td>nymph</td>\n    </tr>\n    <tr>\n      <th>4636</th>\n      <td>1.0</td>\n      <td>nymph</td>\n    </tr>\n    <tr>\n      <th>4637</th>\n      <td>1.0</td>\n      <td>nymph</td>\n    </tr>\n    <tr>\n      <th>4638</th>\n      <td>1.0</td>\n      <td>nymph</td>\n    </tr>\n  </tbody>\n</table>\n</div>"
     },
     "execution_count": 7,
     "metadata": {},
     "output_type": "execute_result"
    }
   ],
   "source": [
    "# drop the columns we don't care about for this particular plot\n",
    "group1 = group1[group1.Lifestate != \"egg\"]\n",
    "g1_df = group1.drop([\"Lat\", \"Long\", \"habitat_sample\", \"run\"], axis=1)\n",
    "# g1_df = group1.drop([ \"habitat_sample\", \"run\"], axis=1)\n",
    "g1_df.head()"
   ],
   "metadata": {
    "collapsed": false,
    "pycharm": {
     "name": "#%%\n"
    }
   }
  },
  {
   "cell_type": "code",
   "execution_count": null,
   "outputs": [],
   "source": [
    "# create a column for days\n",
    "g1_df['day'] = g1_df.apply(lambda x: (x['tick'] + (x['tick'] // 90) * 275), axis=1)\n",
    "\n",
    "# g1_df['day'] = g1_df.apply(lambda x: x['tick'] + 275 if x['tick'] > 90 else x['tick'], axis=1)  # NO, only good for 2 years"
   ],
   "metadata": {
    "collapsed": false,
    "pycharm": {
     "name": "#%%\n"
    }
   }
  },
  {
   "cell_type": "code",
   "execution_count": null,
   "outputs": [],
   "source": [
    "# Create the plot\n",
    "# https://stackoverflow.com/questions/5656798/python-matplotlib-is-there-a-way-to-make-a-discontinuous-axis\n",
    "# https://matplotlib.org/devdocs/gallery/subplots_axes_and_figures/broken_axis.html\n",
    "\n",
    "matplotlib.use('Qt5Agg')\n",
    "\n",
    "d = g1_df.drop('tick', axis=1)\n",
    "days_df = pd.get_dummies(d, columns=['Lifestate'])\n",
    "by_day = days_df.groupby('day')\n",
    "\n",
    "fig, (ax1, ax2, ax3) = plt.subplots(1,3,figsize=(12,7), sharey=True)\n",
    "by_day.sum().plot(logy=True, ax=ax1)\n",
    "by_day.sum().plot(logy=True, ax=ax2, legend=False)\n",
    "by_day.sum().plot(logy=True, ax=ax3, legend=False)\n",
    "# by_day.sum().plot(logy=True, ax=ax4, legend=False)\n",
    "min = days_df['day'].max() / 90\n",
    "# ax1.set_xlim(0,90)\n",
    "# ax2.set_xlim(365,)\n",
    "ax1.set_xlim(0,90)\n",
    "ax2.set_xlim(367,456)\n",
    "ax3.set_xlim(732,)\n",
    "# ax4.set_xlim(1095,)\n",
    "# ax5.set_xlim(1185,1275)\n",
    "\n",
    "# Now we want to hide spines and ticks\n",
    "ax1.spines['right'].set_visible(False)\n",
    "ax2.spines['left'].set_visible(False)\n",
    "ax2.spines['right'].set_visible(False)\n",
    "ax3.spines['left'].set_visible(False)\n",
    "# ax3.spines['right'].set_visible(False)\n",
    "# ax4.spines['left'].set_visible(False)\n",
    "\n",
    "ax1.x_label.set_visible(False)\n",
    "ax3.x_label.set_visible(False)\n",
    "\n",
    "ax1.yaxis.tick_left()\n",
    "ax3.yaxis.tick_right()  # TODO hide the ticks on ax2\n",
    "\n",
    "# make the gap between axes smaller\n",
    "plt.subplots_adjust(wspace=0.05)\n",
    "\n",
    "# add cutout lines\n",
    "d = 0.015\n",
    "kwargs = dict(transform=ax1.transAxes, color='k', clip_on=False)\n",
    "ax1.plot((1-d, 1+d), (-d, +d), **kwargs)\n",
    "ax1.plot((1-d, 1+d), (1-d, 1+d), **kwargs)\n",
    "\n",
    "kwargs.update(transform=ax2.transAxes)\n",
    "ax2.plot((-d,d),(-d,+d), **kwargs) # top-right diagonal\n",
    "ax2.plot((-d,d),(1-d,1+d), **kwargs) # bottom-right diagonal\n",
    "\n",
    "plt.show(block=True)  # Another way to get popup to stay (https://stackoverflow.com/questions/33062762/plot-in-pandas-immediately-closes/33062819)\n"
   ],
   "metadata": {
    "collapsed": false,
    "pycharm": {
     "name": "#%%\n"
    }
   }
  },
  {
   "cell_type": "code",
   "execution_count": null,
   "outputs": [],
   "source": [
    "# Handle categoricals by getting dummy variables for them\n",
    "# matplotlib.use('Qt5Agg')  # Force default backend for matplotlib to get plot as a popup\n",
    "d = pd.get_dummies(g1_df, columns=['Lifestate']) # create a new dataframe with dummy variables\n",
    "# d.head()\n",
    "gr = d.groupby('tick')\n",
    "plot = gr.sum().plot(logy=True, title=\"Ixode Survivability\")\n",
    "plot.set_xlabel(\"days\")\n",
    "plot.set_ylabel(\"Lifestate count\")\n"
   ],
   "metadata": {
    "collapsed": false,
    "pycharm": {
     "name": "#%%\n"
    }
   }
  },
  {
   "cell_type": "code",
   "execution_count": null,
   "outputs": [],
   "source": [
    "params = \" Lifestage: {}\\n Host Density: {}\\n Ixode Count: {}\\n Habitat Suitability: {}\".format(\n",
    "                  \"nymph\", 0.5, 4, 0.05)\n",
    "fig,ax = plt.subplots(figsize=(12,7)) # ax is the plot, plt is the figure the plot goes in\n",
    "gr.sum().plot(logy=True, title=\"AAAAAAAAAAASurvivability\", ax=ax)\n",
    "ax.set_title(\"Survivability\", fontsize=16, fontweight='bold')\n",
    "ax.set_xlabel(\"Days\", fontsize=12)\n",
    "ax.set_ylabel(\"Lifestate count\", fontsize=12)\n",
    "# props = dict(boxstyle='round', facecolor='wheat', alpha=0.5)\n",
    "props = dict( facecolor='wheat', alpha=0.5)\n",
    "ax.text(17,1100, params, fontsize=10, bbox=props)\n",
    "postfix = 00\n",
    "fig.savefig('/home/hillari/PycharmProjects/tick-ABMs/data/plots/testplot' + str(postfix) + '.png')\n"
   ],
   "metadata": {
    "collapsed": false,
    "pycharm": {
     "name": "#%%\n"
    }
   }
  },
  {
   "cell_type": "code",
   "execution_count": null,
   "outputs": [],
   "source": [
    "# calculate something like this\n",
    "# tick_nums = [1, 70, 145, 185, 215, 375, 450]\n",
    "# day_nums = [x + ( (x // 90) * 275 ) for x in tick_nums]\n",
    "# print(day_nums)"
   ],
   "metadata": {
    "collapsed": false,
    "pycharm": {
     "name": "#%%\n"
    }
   }
  },
  {
   "cell_type": "code",
   "execution_count": 8,
   "outputs": [],
   "source": [
    "# calculate something like this\n",
    "# tick_nums = [1, 70, 145, 185, 215, 375, 450]\n",
    "# day_nums = [x + ( (x // 90) * 275 ) for x in tick_nums]\n",
    "# print(day_nums)"
   ],
   "metadata": {
    "collapsed": false,
    "pycharm": {
     "name": "#%%\n"
    }
   }
  },
  {
   "cell_type": "code",
   "execution_count": 1,
   "outputs": [
    {
     "ename": "NameError",
     "evalue": "name 'matplotlib' is not defined",
     "output_type": "error",
     "traceback": [
      "\u001B[0;31m---------------------------------------------------------------------------\u001B[0m",
      "\u001B[0;31mNameError\u001B[0m                                 Traceback (most recent call last)",
      "\u001B[0;32m<ipython-input-1-6225a0b228e7>\u001B[0m in \u001B[0;36m<module>\u001B[0;34m\u001B[0m\n\u001B[0;32m----> 1\u001B[0;31m \u001B[0mmatplotlib\u001B[0m\u001B[0;34m.\u001B[0m\u001B[0muse\u001B[0m\u001B[0;34m(\u001B[0m\u001B[0;34m'Qt5Agg'\u001B[0m\u001B[0;34m)\u001B[0m\u001B[0;34m\u001B[0m\u001B[0;34m\u001B[0m\u001B[0m\n\u001B[0m\u001B[1;32m      2\u001B[0m \u001B[0;31m# https://stackoverflow.com/questions/5656798/python-matplotlib-is-there-a-way-to-make-a-discontinuous-axis\u001B[0m\u001B[0;34m\u001B[0m\u001B[0;34m\u001B[0m\u001B[0;34m\u001B[0m\u001B[0m\n\u001B[1;32m      3\u001B[0m \u001B[0;34m\u001B[0m\u001B[0m\n\u001B[1;32m      4\u001B[0m \u001B[0md\u001B[0m \u001B[0;34m=\u001B[0m \u001B[0mg1_df\u001B[0m\u001B[0;34m.\u001B[0m\u001B[0mdrop\u001B[0m\u001B[0;34m(\u001B[0m\u001B[0;34m'tick'\u001B[0m\u001B[0;34m,\u001B[0m \u001B[0maxis\u001B[0m\u001B[0;34m=\u001B[0m\u001B[0;36m1\u001B[0m\u001B[0;34m)\u001B[0m\u001B[0;34m\u001B[0m\u001B[0;34m\u001B[0m\u001B[0m\n\u001B[1;32m      5\u001B[0m \u001B[0mdays_df\u001B[0m \u001B[0;34m=\u001B[0m \u001B[0mpd\u001B[0m\u001B[0;34m.\u001B[0m\u001B[0mget_dummies\u001B[0m\u001B[0;34m(\u001B[0m\u001B[0md\u001B[0m\u001B[0;34m,\u001B[0m \u001B[0mcolumns\u001B[0m\u001B[0;34m=\u001B[0m\u001B[0;34m[\u001B[0m\u001B[0;34m'Lifestate'\u001B[0m\u001B[0;34m]\u001B[0m\u001B[0;34m)\u001B[0m\u001B[0;34m\u001B[0m\u001B[0;34m\u001B[0m\u001B[0m\n",
      "\u001B[0;31mNameError\u001B[0m: name 'matplotlib' is not defined"
     ]
    }
   ],
   "source": [
    "# Create the plot\n",
    "# https://stackoverflow.com/questions/5656798/python-matplotlib-is-there-a-way-to-make-a-discontinuous-axis\n",
    "# https://matplotlib.org/devdocs/gallery/subplots_axes_and_figures/broken_axis.html\n",
    "\n",
    "matplotlib.use('Qt5Agg')\n",
    "\n",
    "d = g1_df.drop('tick', axis=1)\n",
    "days_df = pd.get_dummies(d, columns=['Lifestate'])\n",
    "by_day = days_df.groupby('day')\n",
    "\n",
    "fig, (ax1, ax2, ax3) = plt.subplots(1,3,figsize=(12,7), sharey=True)\n",
    "by_day.sum().plot(logy=True, ax=ax1)\n",
    "by_day.sum().plot(logy=True, ax=ax2, legend=False)\n",
    "by_day.sum().plot(logy=True, ax=ax3, legend=False)\n",
    "# by_day.sum().plot(logy=True, ax=ax4, legend=False)\n",
    "min = days_df['day'].max() / 90\n",
    "# ax1.set_xlim(0,90)\n",
    "# ax2.set_xlim(365,)\n",
    "ax1.set_xlim(0,90)\n",
    "ax2.set_xlim(367,456)\n",
    "ax3.set_xlim(732,)\n",
    "# ax4.set_xlim(1095,)\n",
    "# ax5.set_xlim(1185,1275)\n",
    "\n",
    "# Now we want to hide spines and ticks\n",
    "ax1.spines['right'].set_visible(False)\n",
    "ax2.spines['left'].set_visible(False)\n",
    "ax2.spines['right'].set_visible(False)\n",
    "ax3.spines['left'].set_visible(False)\n",
    "# ax3.spines['right'].set_visible(False)\n",
    "# ax4.spines['left'].set_visible(False)\n",
    "\n",
    "ax1.x_label.set_visible(False)\n",
    "ax3.x_label.set_visible(False)\n",
    "\n",
    "ax1.yaxis.tick_left()\n",
    "ax3.yaxis.tick_right()  # TODO hide the ticks on ax2\n",
    "\n",
    "# make the gap between axes smaller\n",
    "plt.subplots_adjust(wspace=0.05)\n",
    "\n",
    "# add cutout lines\n",
    "d = 0.015\n",
    "kwargs = dict(transform=ax1.transAxes, color='k', clip_on=False)\n",
    "ax1.plot((1-d, 1+d), (-d, +d), **kwargs)\n",
    "ax1.plot((1-d, 1+d), (1-d, 1+d), **kwargs)\n",
    "\n",
    "kwargs.update(transform=ax2.transAxes)\n",
    "ax2.plot((-d,d),(-d,+d), **kwargs) # top-right diagonal\n",
    "ax2.plot((-d,d),(1-d,1+d), **kwargs) # bottom-right diagonal\n",
    "\n",
    "plt.show(block=True)  # Another way to get popup to stay (https://stackoverflow.com/questions/33062762/plot-in-pandas-immediately-closes/33062819)\n"
   ],
   "metadata": {
    "collapsed": false,
    "pycharm": {
     "name": "#%%\n"
    }
   }
  },
  {
   "cell_type": "code",
   "execution_count": null,
   "outputs": [],
   "source": [
    "# Handle categoricals by getting dummy variables for them\n",
    "# matplotlib.use('Qt5Agg')  # Force default backend for matplotlib to get plot as a popup\n",
    "d = pd.get_dummies(g1_df, columns=['Lifestate']) # create a new dataframe with dummy variables\n",
    "# d.head()\n",
    "gr = d.groupby('tick')\n",
    "plot = gr.sum().plot(logy=True, title=\"Ixode Survivability\")\n",
    "plot.set_xlabel(\"days\")\n",
    "plot.set_ylabel(\"Lifestate count\")\n"
   ],
   "metadata": {
    "collapsed": false,
    "pycharm": {
     "name": "#%%\n"
    }
   }
  },
  {
   "cell_type": "code",
   "execution_count": null,
   "outputs": [],
   "source": [
    "params = \" Lifestage: {}\\n Host Density: {}\\n Ixode Count: {}\\n Habitat Suitability: {}\".format(\n",
    "                  \"nymph\", 0.5, 4, 0.05)\n",
    "fig,ax = plt.subplots(figsize=(12,7)) # ax is the plot, plt is the figure the plot goes in\n",
    "gr.sum().plot(logy=True, title=\"AAAAAAAAAAASurvivability\", ax=ax)\n",
    "ax.set_title(\"Survivability\", fontsize=16, fontweight='bold')\n",
    "ax.set_xlabel(\"Days\", fontsize=12)\n",
    "ax.set_ylabel(\"Lifestate count\", fontsize=12)\n",
    "# props = dict(boxstyle='round', facecolor='wheat', alpha=0.5)\n",
    "props = dict( facecolor='wheat', alpha=0.5)\n",
    "ax.text(17,1100, params, fontsize=10, bbox=props)\n",
    "postfix = 00\n",
    "fig.savefig('/home/hillari/PycharmProjects/tick-ABMs/data/plots/testplot' + str(postfix) + '.png')\n"
   ],
   "metadata": {
    "collapsed": false,
    "pycharm": {
     "name": "#%%\n"
    }
   }
  },
  {
   "cell_type": "code",
   "execution_count": null,
   "outputs": [],
   "source": [
    "# calculate something like this\n",
    "# tick_nums = [1, 70, 145, 185, 215, 375, 450]\n",
    "# day_nums = [x + ( (x // 90) * 275 ) for x in tick_nums]\n",
    "# print(day_nums)"
   ],
   "metadata": {
    "collapsed": false,
    "pycharm": {
     "name": "#%%\n"
    }
   }
  }
 ],
 "metadata": {
  "kernelspec": {
   "name": "python3",
   "language": "python",
   "display_name": "Python 3"
  },
  "language_info": {
   "codemirror_mode": {
    "name": "ipython",
    "version": 2
   },
   "file_extension": ".py",
   "mimetype": "text/x-python",
   "name": "python",
   "nbconvert_exporter": "python",
   "pygments_lexer": "ipython2",
   "version": "2.7.6"
  }
 },
 "nbformat": 4,
 "nbformat_minor": 0
}