{
 "cells": [
  {
   "cell_type": "code",
   "execution_count": 1,
   "metadata": {
    "collapsed": true
   },
   "outputs": [],
   "source": [
    "import pandas as pd\n",
    "import matplotlib\n",
    "import matplotlib.pyplot as plt"
   ]
  },
  {
   "cell_type": "code",
   "execution_count": 2,
   "outputs": [
    {
     "data": {
      "text/plain": "   run  tick lifestate    name\n0    1   1.0     adult  Tick 5\n1    1   1.0     adult  Tick 2\n2    1   1.0     adult  Tick 0\n3    1   1.0     adult  Tick 3\n4    1   1.0     adult  Tick 1",
      "text/html": "<div>\n<style scoped>\n    .dataframe tbody tr th:only-of-type {\n        vertical-align: middle;\n    }\n\n    .dataframe tbody tr th {\n        vertical-align: top;\n    }\n\n    .dataframe thead th {\n        text-align: right;\n    }\n</style>\n<table border=\"1\" class=\"dataframe\">\n  <thead>\n    <tr style=\"text-align: right;\">\n      <th></th>\n      <th>run</th>\n      <th>tick</th>\n      <th>lifestate</th>\n      <th>name</th>\n    </tr>\n  </thead>\n  <tbody>\n    <tr>\n      <th>0</th>\n      <td>1</td>\n      <td>1.0</td>\n      <td>adult</td>\n      <td>Tick 5</td>\n    </tr>\n    <tr>\n      <th>1</th>\n      <td>1</td>\n      <td>1.0</td>\n      <td>adult</td>\n      <td>Tick 2</td>\n    </tr>\n    <tr>\n      <th>2</th>\n      <td>1</td>\n      <td>1.0</td>\n      <td>adult</td>\n      <td>Tick 0</td>\n    </tr>\n    <tr>\n      <th>3</th>\n      <td>1</td>\n      <td>1.0</td>\n      <td>adult</td>\n      <td>Tick 3</td>\n    </tr>\n    <tr>\n      <th>4</th>\n      <td>1</td>\n      <td>1.0</td>\n      <td>adult</td>\n      <td>Tick 1</td>\n    </tr>\n  </tbody>\n</table>\n</div>"
     },
     "execution_count": 2,
     "metadata": {},
     "output_type": "execute_result"
    }
   ],
   "source": [
    "df = pd.read_csv(\"../data/host-density/adult-runs/instances/data-survival.i1.2020.May.27.03_06_35\")\n",
    "df.head()"
   ],
   "metadata": {
    "collapsed": false,
    "pycharm": {
     "name": "#%%\n"
    }
   }
  },
  {
   "cell_type": "code",
   "execution_count": 4,
   "outputs": [
    {
     "name": "stdout",
     "output_type": "stream",
     "text": [
      "Run 1 went 450.0 days w/ 24474 Ixode\n",
      "Run 9 went 86.0 days w/ 10 Ixode\n",
      "Run 17 went 450.0 days w/ 37591 Ixode\n",
      "Run 25 went 450.0 days w/ 26871 Ixode\n",
      "Run 33 went 86.0 days w/ 10 Ixode\n",
      "Run 41 went 450.0 days w/ 26977 Ixode\n",
      "Run 49 went 450.0 days w/ 81378 Ixode\n",
      "Run 57 went 450.0 days w/ 48122 Ixode\n",
      "Run 65 went 450.0 days w/ 17893 Ixode\n",
      "Run 73 went 450.0 days w/ 29834 Ixode\n",
      "Run 81 went 450.0 days w/ 14736 Ixode\n",
      "Run 89 went 450.0 days w/ 29884 Ixode\n",
      "Run 97 went 450.0 days w/ 40394 Ixode\n"
     ]
    }
   ],
   "source": [
    "# Helper\n",
    "\n",
    "for run in df.groupby('run'):\n",
    "    df = run[1]\n",
    "    print(\"Run {} went {} days w/ {} Ixode\".format(run[0], df['tick'].max(), df['name'].value_counts().count()))"
   ],
   "metadata": {
    "collapsed": false,
    "pycharm": {
     "name": "#%%\n"
    }
   }
  },
  {
   "cell_type": "code",
   "execution_count": 3,
   "outputs": [
    {
     "name": "stdout",
     "output_type": "stream",
     "text": [
      "0.01 [[1, 41, 81], [0.1, 0.5, 0.9]]\n",
      "0.09 [[9, 49, 89], [0.1, 0.5, 0.9]]\n",
      "0.07 [[17, 57, 97], [0.2, 0.6, 1.0]]\n",
      "0.05 [[25, 65], [0.3, 0.7]]\n",
      "0.03 [[33, 73], [0.4, 0.8]]\n"
     ]
    }
   ],
   "source": [
    "#\n",
    "# Parses parameter file and creates a dictionary that maps the habitat_suitability value with the\n",
    "# corresponding run_number and host_density values\n",
    "#\n",
    "# { habitat: [ [run_number], [host_density] ] }\n",
    "#\n",
    "paramfile = \"../data/host-density/adult-runs/instances/param_inputi1.txt\"\n",
    "paramd = {}\n",
    "with open(paramfile, 'r') as file:\n",
    "    for line in file:\n",
    "        result = line.replace(\"\\t\",\",\").split(',')\n",
    "# Try to add the values to an existing key, if that key does not exist, create it\n",
    "        try:\n",
    "            paramd[float(result[8])][0].append(int(result[0])) # add run number\n",
    "            paramd[float(result[8])][1].append(float(result[4])) # add host density\n",
    "        except KeyError:\n",
    "            paramd[float(result[8])] = [[int(result[0])], [float(result[4])]]\n",
    "# Helper\n",
    "for k, v in paramd.items():\n",
    "    print(k,v)\n"
   ],
   "metadata": {
    "collapsed": false,
    "pycharm": {
     "name": "#%%\n"
    }
   }
  },
  {
   "cell_type": "code",
   "execution_count": 4,
   "outputs": [],
   "source": [
    "\n",
    "ixode_count_dict = {}\n",
    "df = pd.read_csv(\"../data/host-density/adult-runs/instances/data-survival.i1.2020.May.27.03_06_35\")\n",
    "for run in df.groupby('run'):\n",
    "    current_df = run[1]\n",
    "    ixode_count_dict[run[0]] = len(current_df['name'].unique())"
   ],
   "metadata": {
    "collapsed": false,
    "pycharm": {
     "name": "#%%\n"
    }
   }
  },
  {
   "cell_type": "code",
   "execution_count": 5,
   "outputs": [
    {
     "data": {
      "text/plain": "run             int64\ntotal_ixode     int64\nhost_density    int64\ndtype: object"
     },
     "execution_count": 5,
     "metadata": {},
     "output_type": "execute_result"
    }
   ],
   "source": [
    "# Creating a data frame from the above generated dictionary\n",
    "df_final = pd.DataFrame(ixode_count_dict.items(), columns=['run', 'total_ixode'])\n",
    "df_final['host_density'] = 0\n",
    "df_final.dtypes"
   ],
   "metadata": {
    "collapsed": false,
    "pycharm": {
     "name": "#%%\n"
    }
   }
  },
  {
   "cell_type": "code",
   "execution_count": 6,
   "outputs": [],
   "source": [
    "# Iterate through parameter dictionary and use loc to find the row with the run number we want. Once we have this, add\n",
    "# the host density value for that associated run\n",
    "for key, value in paramd.items():\n",
    "    for i in range(len(value[0])):\n",
    "        # Both of these techniques work, but loc is preferred over chained indexing\n",
    "        # df_final['host_density'][df_final['run'] == value[0][i]] = value[1][i]\n",
    "        df_final.loc[df_final['run']==value[0][i], 'host_density'] = value[1][i]\n",
    "        df_final.loc[df_final['run']==value[0][i], 'habitat_suitability'] = key"
   ],
   "metadata": {
    "collapsed": false,
    "pycharm": {
     "name": "#%%\n"
    }
   }
  },
  {
   "cell_type": "code",
   "execution_count": 9,
   "outputs": [
    {
     "ename": "AttributeError",
     "evalue": "module 'matplotlib' has no attribute 'pyplot'",
     "output_type": "error",
     "traceback": [
      "\u001B[0;31m---------------------------------------------------------------------------\u001B[0m",
      "\u001B[0;31mAttributeError\u001B[0m                            Traceback (most recent call last)",
      "\u001B[0;32m<ipython-input-9-31e71c032a56>\u001B[0m in \u001B[0;36m<module>\u001B[0;34m\u001B[0m\n\u001B[1;32m      1\u001B[0m \u001B[0mmatplotlib\u001B[0m\u001B[0;34m.\u001B[0m\u001B[0muse\u001B[0m\u001B[0;34m(\u001B[0m\u001B[0;34m'Qt5Agg'\u001B[0m\u001B[0;34m)\u001B[0m\u001B[0;34m\u001B[0m\u001B[0;34m\u001B[0m\u001B[0m\n\u001B[0;32m----> 2\u001B[0;31m \u001B[0mfig\u001B[0m \u001B[0;34m=\u001B[0m \u001B[0mmatplotlib\u001B[0m\u001B[0;34m.\u001B[0m\u001B[0mpyplot\u001B[0m\u001B[0;34m.\u001B[0m\u001B[0mfigure\u001B[0m\u001B[0;34m(\u001B[0m\u001B[0;34m)\u001B[0m\u001B[0;34m\u001B[0m\u001B[0;34m\u001B[0m\u001B[0m\n\u001B[0m\u001B[1;32m      3\u001B[0m \u001B[0;32mfor\u001B[0m \u001B[0mhab\u001B[0m \u001B[0;32min\u001B[0m \u001B[0mdf_final\u001B[0m\u001B[0;34m.\u001B[0m\u001B[0mgroupby\u001B[0m\u001B[0;34m(\u001B[0m\u001B[0;34m'habitat_suitability'\u001B[0m\u001B[0;34m)\u001B[0m\u001B[0;34m:\u001B[0m\u001B[0;34m\u001B[0m\u001B[0;34m\u001B[0m\u001B[0m\n\u001B[1;32m      4\u001B[0m     \u001B[0mdat\u001B[0m \u001B[0;34m=\u001B[0m \u001B[0mhab\u001B[0m\u001B[0;34m[\u001B[0m\u001B[0;36m1\u001B[0m\u001B[0;34m]\u001B[0m\u001B[0;34m\u001B[0m\u001B[0;34m\u001B[0m\u001B[0m\n\u001B[1;32m      5\u001B[0m     \u001B[0mmatplotlib\u001B[0m\u001B[0;34m.\u001B[0m\u001B[0mpyplot\u001B[0m\u001B[0;34m.\u001B[0m\u001B[0mplot\u001B[0m\u001B[0;34m(\u001B[0m\u001B[0;34m'host_density'\u001B[0m\u001B[0;34m,\u001B[0m \u001B[0;34m'total_ixode'\u001B[0m \u001B[0;34m,\u001B[0m \u001B[0mdata\u001B[0m\u001B[0;34m=\u001B[0m\u001B[0mdat\u001B[0m\u001B[0;34m,\u001B[0m \u001B[0mmarker\u001B[0m\u001B[0;34m=\u001B[0m\u001B[0;34m'o'\u001B[0m\u001B[0;34m)\u001B[0m\u001B[0;34m\u001B[0m\u001B[0;34m\u001B[0m\u001B[0m\n",
      "\u001B[0;31mAttributeError\u001B[0m: module 'matplotlib' has no attribute 'pyplot'"
     ]
    }
   ],
   "source": [
    "matplotlib.use('Qt5Agg')\n",
    "fig = plt.figure()\n",
    "for hab in df_final.groupby('habitat_suitability'):\n",
    "    dat = hab[1]\n",
    "    plt.plot('host_density', 'total_ixode' , data=dat, marker='o')\n",
    "    plt.ylabel('Cumulative Ixodes')\n",
    "    plt.xlabel('Large host density')\n",
    "    plt.title(\"Host Density\")\n",
    "    # plt.legend() # FIX to show values not just label\n",
    "# plt.show(block=True)\n",
    "plt.savefig(\"../data/host-density/plots/host-densityi1.png\")\n",
    "\n"
   ],
   "metadata": {
    "collapsed": false,
    "pycharm": {
     "name": "#%%\n"
    }
   }
  }
 ],
 "metadata": {
  "kernelspec": {
   "display_name": "Python 3",
   "language": "python",
   "name": "python3"
  },
  "language_info": {
   "codemirror_mode": {
    "name": "ipython",
    "version": 2
   },
   "file_extension": ".py",
   "mimetype": "text/x-python",
   "name": "python",
   "nbconvert_exporter": "python",
   "pygments_lexer": "ipython2",
   "version": "2.7.6"
  }
 },
 "nbformat": 4,
 "nbformat_minor": 0
}