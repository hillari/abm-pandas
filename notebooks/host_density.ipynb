{
 "cells": [
  {
   "cell_type": "code",
   "execution_count": 1,
   "metadata": {
    "collapsed": true
   },
   "outputs": [],
   "source": [
    "import pandas as pd\n",
    "import matplotlib\n",
    "import matplotlib.pyplot as plt"
   ]
  },
  {
   "cell_type": "code",
   "execution_count": 2,
   "outputs": [
    {
     "name": "stderr",
     "output_type": "stream",
     "text": [
      "b'Skipping line 6263115: expected 4 fields, saw 6\\nSkipping line 6263116: expected 4 fields, saw 6\\nSkipping line 6263117: expected 4 fields, saw 6\\nSkipping line 6263118: expected 4 fields, saw 6\\nSkipping line 6263119: expected 4 fields, saw 6\\nSkipping line 6263120: expected 4 fields, saw 6\\nSkipping line 6263121: expected 4 fields, saw 6\\nSkipping line 6263122: expected 4 fields, saw 6\\nSkipping line 6263123: expected 4 fields, saw 6\\nSkipping line 6263124: expected 4 fields, saw 6\\nSkipping line 6263125: expected 4 fields, saw 6\\nSkipping line 6263126: expected 4 fields, saw 6\\nSkipping line 6263127: expected 4 fields, saw 6\\n'\n",
      "b'Skipping line 17559410: expected 4 fields, saw 6\\nSkipping line 17559411: expected 4 fields, saw 6\\nSkipping line 17559412: expected 4 fields, saw 6\\nSkipping line 17559413: expected 4 fields, saw 6\\nSkipping line 17559414: expected 4 fields, saw 6\\nSkipping line 17559415: expected 4 fields, saw 6\\nSkipping line 17559416: expected 4 fields, saw 6\\nSkipping line 17559417: expected 4 fields, saw 6\\nSkipping line 17559418: expected 4 fields, saw 6\\nSkipping line 17559419: expected 4 fields, saw 6\\nSkipping line 17559420: expected 4 fields, saw 6\\nSkipping line 17559421: expected 4 fields, saw 6\\nSkipping line 17559422: expected 4 fields, saw 6\\n'\n",
      "b'Skipping line 24045792: expected 4 fields, saw 6\\nSkipping line 24045793: expected 4 fields, saw 6\\nSkipping line 24045794: expected 4 fields, saw 6\\nSkipping line 24045795: expected 4 fields, saw 6\\nSkipping line 24045796: expected 4 fields, saw 6\\nSkipping line 24045797: expected 4 fields, saw 6\\nSkipping line 24045798: expected 4 fields, saw 6\\nSkipping line 24045799: expected 4 fields, saw 6\\nSkipping line 24045800: expected 4 fields, saw 6\\nSkipping line 24045801: expected 4 fields, saw 6\\nSkipping line 24045802: expected 4 fields, saw 6\\nSkipping line 24045803: expected 4 fields, saw 6\\nSkipping line 24045804: expected 4 fields, saw 6\\nSkipping line 24045805: expected 4 fields, saw 6\\nSkipping line 24045806: expected 4 fields, saw 6\\nSkipping line 24045807: expected 4 fields, saw 6\\nSkipping line 24045808: expected 4 fields, saw 6\\nSkipping line 24045809: expected 4 fields, saw 6\\nSkipping line 24045810: expected 4 fields, saw 6\\nSkipping line 24045811: expected 4 fields, saw 6\\nSkipping line 24045812: expected 4 fields, saw 6\\nSkipping line 24045813: expected 4 fields, saw 6\\nSkipping line 24045814: expected 4 fields, saw 6\\nSkipping line 24045815: expected 4 fields, saw 6\\nSkipping line 24045816: expected 4 fields, saw 6\\n'\n",
      "b'Skipping line 37898048: expected 4 fields, saw 6\\nSkipping line 37898049: expected 4 fields, saw 6\\nSkipping line 37898050: expected 4 fields, saw 6\\nSkipping line 37898051: expected 4 fields, saw 6\\nSkipping line 37898052: expected 4 fields, saw 6\\nSkipping line 37898053: expected 4 fields, saw 6\\nSkipping line 37898054: expected 4 fields, saw 6\\nSkipping line 37898055: expected 4 fields, saw 6\\nSkipping line 37898056: expected 4 fields, saw 6\\nSkipping line 37898057: expected 4 fields, saw 6\\nSkipping line 37898058: expected 4 fields, saw 6\\nSkipping line 37898059: expected 4 fields, saw 6\\n'\n",
      "b'Skipping line 40579506: expected 4 fields, saw 6\\nSkipping line 40579507: expected 4 fields, saw 6\\nSkipping line 40579508: expected 4 fields, saw 6\\nSkipping line 40579509: expected 4 fields, saw 6\\nSkipping line 40579510: expected 4 fields, saw 6\\nSkipping line 40579511: expected 4 fields, saw 6\\nSkipping line 40579512: expected 4 fields, saw 6\\nSkipping line 40579513: expected 4 fields, saw 6\\nSkipping line 40579514: expected 4 fields, saw 6\\nSkipping line 40579515: expected 4 fields, saw 6\\nSkipping line 40579516: expected 4 fields, saw 6\\nSkipping line 40579517: expected 4 fields, saw 6\\nSkipping line 40579518: expected 4 fields, saw 6\\nSkipping line 40579519: expected 4 fields, saw 6\\nSkipping line 40579520: expected 4 fields, saw 6\\nSkipping line 40579521: expected 4 fields, saw 6\\nSkipping line 40579522: expected 4 fields, saw 6\\nSkipping line 40579523: expected 4 fields, saw 6\\nSkipping line 40579524: expected 4 fields, saw 6\\nSkipping line 40579525: expected 4 fields, saw 6\\nSkipping line 40579526: expected 4 fields, saw 6\\nSkipping line 40579527: expected 4 fields, saw 6\\nSkipping line 40579528: expected 4 fields, saw 6\\nSkipping line 40579529: expected 4 fields, saw 6\\n'\n",
      "b'Skipping line 48533745: expected 4 fields, saw 6\\nSkipping line 48533746: expected 4 fields, saw 6\\nSkipping line 48533747: expected 4 fields, saw 6\\nSkipping line 48533748: expected 4 fields, saw 6\\nSkipping line 48533749: expected 4 fields, saw 6\\nSkipping line 48533750: expected 4 fields, saw 6\\nSkipping line 48533751: expected 4 fields, saw 6\\nSkipping line 48533752: expected 4 fields, saw 6\\nSkipping line 48533753: expected 4 fields, saw 6\\nSkipping line 48533754: expected 4 fields, saw 6\\nSkipping line 48533755: expected 4 fields, saw 6\\nSkipping line 48533756: expected 4 fields, saw 6\\nSkipping line 48533757: expected 4 fields, saw 6\\n'\n"
     ]
    },
    {
     "data": {
      "text/plain": "   run  tick lifestate    name\n0    1   1.0     adult  Tick 5\n1    1   1.0     adult  Tick 2\n2    1   1.0     adult  Tick 0\n3    1   1.0     adult  Tick 3\n4    1   1.0     adult  Tick 1",
      "text/html": "<div>\n<style scoped>\n    .dataframe tbody tr th:only-of-type {\n        vertical-align: middle;\n    }\n\n    .dataframe tbody tr th {\n        vertical-align: top;\n    }\n\n    .dataframe thead th {\n        text-align: right;\n    }\n</style>\n<table border=\"1\" class=\"dataframe\">\n  <thead>\n    <tr style=\"text-align: right;\">\n      <th></th>\n      <th>run</th>\n      <th>tick</th>\n      <th>lifestate</th>\n      <th>name</th>\n    </tr>\n  </thead>\n  <tbody>\n    <tr>\n      <th>0</th>\n      <td>1</td>\n      <td>1.0</td>\n      <td>adult</td>\n      <td>Tick 5</td>\n    </tr>\n    <tr>\n      <th>1</th>\n      <td>1</td>\n      <td>1.0</td>\n      <td>adult</td>\n      <td>Tick 2</td>\n    </tr>\n    <tr>\n      <th>2</th>\n      <td>1</td>\n      <td>1.0</td>\n      <td>adult</td>\n      <td>Tick 0</td>\n    </tr>\n    <tr>\n      <th>3</th>\n      <td>1</td>\n      <td>1.0</td>\n      <td>adult</td>\n      <td>Tick 3</td>\n    </tr>\n    <tr>\n      <th>4</th>\n      <td>1</td>\n      <td>1.0</td>\n      <td>adult</td>\n      <td>Tick 1</td>\n    </tr>\n  </tbody>\n</table>\n</div>"
     },
     "execution_count": 2,
     "metadata": {},
     "output_type": "execute_result"
    }
   ],
   "source": [
    "# Helper\n",
    "df = pd.read_csv(\"\", error_bad_lines=False)\n",
    "df.head()"
   ],
   "metadata": {
    "collapsed": false,
    "pycharm": {
     "name": "#%%\n"
    }
   }
  },
  {
   "cell_type": "code",
   "execution_count": 4,
   "outputs": [
    {
     "name": "stdout",
     "output_type": "stream",
     "text": [
      "Run 1 went 450.0 days w/ 24474 Ixode\n",
      "Run 9 went 86.0 days w/ 10 Ixode\n",
      "Run 17 went 450.0 days w/ 37591 Ixode\n",
      "Run 25 went 450.0 days w/ 26871 Ixode\n",
      "Run 33 went 86.0 days w/ 10 Ixode\n",
      "Run 41 went 450.0 days w/ 26977 Ixode\n",
      "Run 49 went 450.0 days w/ 81378 Ixode\n",
      "Run 57 went 450.0 days w/ 48122 Ixode\n",
      "Run 65 went 450.0 days w/ 17893 Ixode\n",
      "Run 73 went 450.0 days w/ 29834 Ixode\n",
      "Run 81 went 450.0 days w/ 14736 Ixode\n",
      "Run 89 went 450.0 days w/ 29884 Ixode\n",
      "Run 97 went 450.0 days w/ 40394 Ixode\n"
     ]
    }
   ],
   "source": [
    "# Helper\n",
    "for run in df.groupby('run'):\n",
    "    df = run[1]\n",
    "    print(\"Run {} went {} days w/ {} Ixodes\".format(run[0], df['tick'].max(), df['name'].value_counts().count()))"
   ],
   "metadata": {
    "collapsed": false,
    "pycharm": {
     "name": "#%%\n"
    }
   }
  },
  {
   "cell_type": "code",
   "execution_count": 7,
   "outputs": [
    {
     "name": "stdout",
     "output_type": "stream",
     "text": [
      "0.01 [[1, 11, 21, 31, 41, 51, 61, 71, 81, 91], [0.1, 0.2, 0.3, 0.4, 0.5, 0.6, 0.7, 0.8, 0.9, 1.0]]\n",
      "0.02 [[2, 12, 22, 32, 42, 52, 62, 72, 82, 92], [0.1, 0.2, 0.3, 0.4, 0.5, 0.6, 0.7, 0.8, 0.9, 1.0]]\n",
      "0.03 [[3, 13, 23, 33, 43, 53, 63, 73, 83, 93], [0.1, 0.2, 0.3, 0.4, 0.5, 0.6, 0.7, 0.8, 0.9, 1.0]]\n",
      "0.04 [[4, 14, 24, 34, 44, 54, 64, 74, 84, 94], [0.1, 0.2, 0.3, 0.4, 0.5, 0.6, 0.7, 0.8, 0.9, 1.0]]\n",
      "0.05 [[5, 15, 25, 35, 45, 55, 65, 75, 85, 95], [0.1, 0.2, 0.3, 0.4, 0.5, 0.6, 0.7, 0.8, 0.9, 1.0]]\n",
      "0.06 [[6, 16, 26, 36, 46, 56, 66, 76, 86, 96], [0.1, 0.2, 0.3, 0.4, 0.5, 0.6, 0.7, 0.8, 0.9, 1.0]]\n",
      "0.07 [[7, 17, 27, 37, 47, 57, 67, 77, 87, 97], [0.1, 0.2, 0.3, 0.4, 0.5, 0.6, 0.7, 0.8, 0.9, 1.0]]\n",
      "0.08 [[8, 18, 28, 38, 48, 58, 68, 78, 88, 98], [0.1, 0.2, 0.3, 0.4, 0.5, 0.6, 0.7, 0.8, 0.9, 1.0]]\n",
      "0.09 [[9, 19, 29, 39, 49, 59, 69, 79, 89, 99], [0.1, 0.2, 0.3, 0.4, 0.5, 0.6, 0.7, 0.8, 0.9, 1.0]]\n",
      "0.1 [[10, 20, 30, 40, 50, 60, 70, 80, 90, 100], [0.1, 0.2, 0.3, 0.4, 0.5, 0.6, 0.7, 0.8, 0.9, 1.0]]\n"
     ]
    }
   ],
   "source": [
    "#\n",
    "# Parses parameter file and creates a dictionary that maps the habitat_suitability value with the\n",
    "# corresponding run_number and host_density values\n",
    "#\n",
    "# { habitat: [ [run_number], [host_density] ] }\n",
    "#\n",
    "paramfile = \"\"\n",
    "paramd = {}\n",
    "with open(paramfile, 'r') as file:\n",
    "    for line in file:\n",
    "        result = line.replace(\"\\t\",\",\").split(',')\n",
    "# Try to add the values to an existing key, if that key does not exist, create it\n",
    "        try:\n",
    "            paramd[float(result[8])][0].append(int(result[0])) # add run number\n",
    "            paramd[float(result[8])][1].append(float(result[4])) # add host density\n",
    "        except KeyError:\n",
    "            paramd[float(result[8])] = [[int(result[0])], [float(result[4])]]\n",
    "# Helper\n",
    "for k, v in paramd.items():\n",
    "    print(k,v)\n"
   ],
   "metadata": {
    "collapsed": false,
    "pycharm": {
     "name": "#%%\n"
    }
   }
  },
  {
   "cell_type": "code",
   "execution_count": 8,
   "outputs": [
    {
     "name": "stderr",
     "output_type": "stream",
     "text": [
      "b'Skipping line 6391: expected 4 fields, saw 6\\nSkipping line 6392: expected 4 fields, saw 6\\nSkipping line 6393: expected 4 fields, saw 6\\nSkipping line 6394: expected 4 fields, saw 6\\nSkipping line 6395: expected 4 fields, saw 6\\nSkipping line 6396: expected 4 fields, saw 6\\nSkipping line 6397: expected 4 fields, saw 6\\nSkipping line 6398: expected 4 fields, saw 6\\nSkipping line 6399: expected 4 fields, saw 6\\nSkipping line 6400: expected 4 fields, saw 6\\nSkipping line 6401: expected 4 fields, saw 6\\nSkipping line 6402: expected 4 fields, saw 6\\nSkipping line 6403: expected 4 fields, saw 6\\nSkipping line 13022: expected 4 fields, saw 6\\nSkipping line 13023: expected 4 fields, saw 6\\nSkipping line 13024: expected 4 fields, saw 6\\nSkipping line 13025: expected 4 fields, saw 6\\nSkipping line 13026: expected 4 fields, saw 6\\nSkipping line 13027: expected 4 fields, saw 6\\nSkipping line 13028: expected 4 fields, saw 6\\nSkipping line 13029: expected 4 fields, saw 6\\nSkipping line 13030: expected 4 fields, saw 6\\nSkipping line 13031: expected 4 fields, saw 6\\nSkipping line 13032: expected 4 fields, saw 6\\nSkipping line 13033: expected 4 fields, saw 6\\nSkipping line 13034: expected 4 fields, saw 6\\nSkipping line 18834: expected 4 fields, saw 6\\nSkipping line 18835: expected 4 fields, saw 6\\nSkipping line 18836: expected 4 fields, saw 6\\nSkipping line 18837: expected 4 fields, saw 6\\nSkipping line 18838: expected 4 fields, saw 6\\nSkipping line 18839: expected 4 fields, saw 6\\nSkipping line 18840: expected 4 fields, saw 6\\nSkipping line 18841: expected 4 fields, saw 6\\nSkipping line 18842: expected 4 fields, saw 6\\nSkipping line 18843: expected 4 fields, saw 6\\nSkipping line 18844: expected 4 fields, saw 6\\nSkipping line 18845: expected 4 fields, saw 6\\nSkipping line 25094: expected 4 fields, saw 6\\nSkipping line 25095: expected 4 fields, saw 6\\nSkipping line 25096: expected 4 fields, saw 6\\nSkipping line 25097: expected 4 fields, saw 6\\nSkipping line 25098: expected 4 fields, saw 6\\nSkipping line 25099: expected 4 fields, saw 6\\nSkipping line 25100: expected 4 fields, saw 6\\nSkipping line 25101: expected 4 fields, saw 6\\nSkipping line 25102: expected 4 fields, saw 6\\nSkipping line 25103: expected 4 fields, saw 6\\nSkipping line 25104: expected 4 fields, saw 6\\nSkipping line 25105: expected 4 fields, saw 6\\nSkipping line 25106: expected 4 fields, saw 6\\nSkipping line 52586: expected 4 fields, saw 6\\nSkipping line 52587: expected 4 fields, saw 6\\nSkipping line 52588: expected 4 fields, saw 6\\nSkipping line 52589: expected 4 fields, saw 6\\nSkipping line 52590: expected 4 fields, saw 6\\nSkipping line 52591: expected 4 fields, saw 6\\nSkipping line 52592: expected 4 fields, saw 6\\nSkipping line 52593: expected 4 fields, saw 6\\nSkipping line 52594: expected 4 fields, saw 6\\nSkipping line 52595: expected 4 fields, saw 6\\nSkipping line 52596: expected 4 fields, saw 6\\nSkipping line 52597: expected 4 fields, saw 6\\nSkipping line 58562: expected 4 fields, saw 6\\nSkipping line 58563: expected 4 fields, saw 6\\nSkipping line 58564: expected 4 fields, saw 6\\nSkipping line 58565: expected 4 fields, saw 6\\nSkipping line 58566: expected 4 fields, saw 6\\nSkipping line 58567: expected 4 fields, saw 6\\nSkipping line 58568: expected 4 fields, saw 6\\nSkipping line 58569: expected 4 fields, saw 6\\nSkipping line 58570: expected 4 fields, saw 6\\nSkipping line 58571: expected 4 fields, saw 6\\nSkipping line 58572: expected 4 fields, saw 6\\nSkipping line 58573: expected 4 fields, saw 6\\nSkipping line 64470: expected 4 fields, saw 6\\nSkipping line 64471: expected 4 fields, saw 6\\nSkipping line 64472: expected 4 fields, saw 6\\nSkipping line 64473: expected 4 fields, saw 6\\nSkipping line 64474: expected 4 fields, saw 6\\nSkipping line 64475: expected 4 fields, saw 6\\nSkipping line 64476: expected 4 fields, saw 6\\nSkipping line 64477: expected 4 fields, saw 6\\nSkipping line 64478: expected 4 fields, saw 6\\nSkipping line 64479: expected 4 fields, saw 6\\nSkipping line 64480: expected 4 fields, saw 6\\nSkipping line 64481: expected 4 fields, saw 6\\nSkipping line 71220: expected 4 fields, saw 6\\nSkipping line 71221: expected 4 fields, saw 6\\nSkipping line 71222: expected 4 fields, saw 6\\nSkipping line 71223: expected 4 fields, saw 6\\nSkipping line 71224: expected 4 fields, saw 6\\nSkipping line 71225: expected 4 fields, saw 6\\nSkipping line 71226: expected 4 fields, saw 6\\nSkipping line 71227: expected 4 fields, saw 6\\nSkipping line 71228: expected 4 fields, saw 6\\nSkipping line 71229: expected 4 fields, saw 6\\nSkipping line 71230: expected 4 fields, saw 6\\nSkipping line 71231: expected 4 fields, saw 6\\nSkipping line 71232: expected 4 fields, saw 6\\n'\n"
     ]
    }
   ],
   "source": [
    "ixode_count_dict = {}\n",
    "df = pd.read_csv(\"\", error_bad_lines=False)\n",
    "for run in df.groupby('run'):\n",
    "    current_df = run[1]\n",
    "    ixode_count_dict[run[0]] = len(current_df['name'].unique())"
   ],
   "metadata": {
    "collapsed": false,
    "pycharm": {
     "name": "#%%\n"
    }
   }
  },
  {
   "cell_type": "code",
   "execution_count": 9,
   "outputs": [
    {
     "data": {
      "text/plain": "run             int64\ntotal_ixode     int64\nhost_density    int64\ndtype: object"
     },
     "execution_count": 9,
     "metadata": {},
     "output_type": "execute_result"
    }
   ],
   "source": [
    "# Creating a data frame from the above generated dictionary\n",
    "df_final = pd.DataFrame(ixode_count_dict.items(), columns=['run', 'total_ixode'])\n",
    "df_final['host_density'] = 0\n",
    "df_final.dtypes"
   ],
   "metadata": {
    "collapsed": false,
    "pycharm": {
     "name": "#%%\n"
    }
   }
  },
  {
   "cell_type": "code",
   "execution_count": 10,
   "outputs": [],
   "source": [
    "# Iterate through parameter dictionary and use loc to find the row with the run number we want. Once we have this, add\n",
    "# the host density value for that associated run\n",
    "for key, value in paramd.items():\n",
    "    for i in range(len(value[0])):\n",
    "        # Both of these techniques work, but loc is preferred over chained indexing\n",
    "        # df_final['host_density'][df_final['run'] == value[0][i]] = value[1][i]\n",
    "        df_final.loc[df_final['run']==value[0][i], 'host_density'] = value[1][i]\n",
    "        df_final.loc[df_final['run']==value[0][i], 'habitat_suitability'] = key"
   ],
   "metadata": {
    "collapsed": false,
    "pycharm": {
     "name": "#%%\n"
    }
   }
  },
  {
   "cell_type": "code",
   "execution_count": 14,
   "outputs": [],
   "source": [
    "matplotlib.use('Qt5Agg')\n",
    "# fig = plt.figure()\n",
    "for hab in df_final.groupby('habitat_suitability'):\n",
    "    dat = hab[1]\n",
    "    plt.plot('host_density', 'total_ixode' , data=dat, marker='o', markersize=7, linewidth=2, label=hab[0])\n",
    "    plt.ylabel('Cumulative Ixodes')\n",
    "    plt.xlabel('Large host density')\n",
    "    plt.title(\"Host Density\")\n",
    "    plt.legend() # FIX to show values not just label\n",
    "plt.show(block=True)\n",
    "# plt.savefig(\"../data/host-density/plots/newmodel-density-adult-10ixodes-labeled.png\")\n",
    "\n"
   ],
   "metadata": {
    "collapsed": false,
    "pycharm": {
     "name": "#%%\n"
    }
   }
  }
 ],
 "metadata": {
  "kernelspec": {
   "display_name": "Python 3",
   "language": "python",
   "name": "python3"
  },
  "language_info": {
   "codemirror_mode": {
    "name": "ipython",
    "version": 2
   },
   "file_extension": ".py",
   "mimetype": "text/x-python",
   "name": "python",
   "nbconvert_exporter": "python",
   "pygments_lexer": "ipython2",
   "version": "2.7.6"
  }
 },
 "nbformat": 4,
 "nbformat_minor": 0
}