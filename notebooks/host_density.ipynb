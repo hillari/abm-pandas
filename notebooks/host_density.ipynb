{
 "cells": [
  {
   "cell_type": "code",
   "execution_count": 1,
   "metadata": {
    "collapsed": true
   },
   "outputs": [],
   "source": [
    "import pandas as pd\n",
    "import matplotlib.pyplot as plt\n",
    "import os"
   ]
  },
  {
   "cell_type": "code",
   "execution_count": 4,
   "outputs": [
    {
     "data": {
      "text/plain": "   run  tick lifestate    name\n0    1   1.0     adult  Tick 5\n1    1   1.0     adult  Tick 2\n2    1   1.0     adult  Tick 0\n3    1   1.0     adult  Tick 3\n4    1   1.0     adult  Tick 1",
      "text/html": "<div>\n<style scoped>\n    .dataframe tbody tr th:only-of-type {\n        vertical-align: middle;\n    }\n\n    .dataframe tbody tr th {\n        vertical-align: top;\n    }\n\n    .dataframe thead th {\n        text-align: right;\n    }\n</style>\n<table border=\"1\" class=\"dataframe\">\n  <thead>\n    <tr style=\"text-align: right;\">\n      <th></th>\n      <th>run</th>\n      <th>tick</th>\n      <th>lifestate</th>\n      <th>name</th>\n    </tr>\n  </thead>\n  <tbody>\n    <tr>\n      <th>0</th>\n      <td>1</td>\n      <td>1.0</td>\n      <td>adult</td>\n      <td>Tick 5</td>\n    </tr>\n    <tr>\n      <th>1</th>\n      <td>1</td>\n      <td>1.0</td>\n      <td>adult</td>\n      <td>Tick 2</td>\n    </tr>\n    <tr>\n      <th>2</th>\n      <td>1</td>\n      <td>1.0</td>\n      <td>adult</td>\n      <td>Tick 0</td>\n    </tr>\n    <tr>\n      <th>3</th>\n      <td>1</td>\n      <td>1.0</td>\n      <td>adult</td>\n      <td>Tick 3</td>\n    </tr>\n    <tr>\n      <th>4</th>\n      <td>1</td>\n      <td>1.0</td>\n      <td>adult</td>\n      <td>Tick 1</td>\n    </tr>\n  </tbody>\n</table>\n</div>"
     },
     "execution_count": 4,
     "metadata": {},
     "output_type": "execute_result"
    }
   ],
   "source": [
    "data = pd.read_csv(\"../data/host-density/adult-runs/instance_1/data-survival.2020.May.27.03_06_35\")\n",
    "data.head()"
   ],
   "metadata": {
    "collapsed": false,
    "pycharm": {
     "name": "#%%\n"
    }
   }
  },
  {
   "cell_type": "code",
   "execution_count": 57,
   "outputs": [
    {
     "data": {
      "text/plain": "39904"
     },
     "execution_count": 57,
     "metadata": {},
     "output_type": "execute_result"
    }
   ],
   "source": [
    "# -- TODO write the logic to get max num of ticks -- #\n",
    "  # Changing Name to string, don't think we actually have to do this?\n",
    "data['Name'] = data['Name'].astype(str) # Name is an object\n",
    "# type(data.iloc[1,4]) # checking it works\n",
    "\n",
    "# Gets the number of unique Ixodes, but for entire file not by run\n",
    "data['Name'].value_counts().count()\n"
   ],
   "metadata": {
    "collapsed": false,
    "pycharm": {
     "name": "#%%\n"
    }
   }
  },
  {
   "cell_type": "code",
   "execution_count": 60,
   "outputs": [
    {
     "name": "stdout",
     "output_type": "stream",
     "text": [
      "Run 1 made it 450.0 days with 5963 Ixodes\n",
      "Run 9 made it 86.0 days with 5 Ixodes\n",
      "Run 17 made it 86.0 days with 5 Ixodes\n",
      "Run 25 made it 450.0 days with 5973 Ixodes\n",
      "Run 33 made it 86.0 days with 5 Ixodes\n",
      "Run 41 made it 450.0 days with 8957 Ixodes\n",
      "Run 49 made it 391.0 days with 24952 Ixodes\n"
     ]
    }
   ],
   "source": [
    "for run in data.groupby('run'):\n",
    "    df = run[1]\n",
    "    print(\"Run {} went {} days w/ {} Ixode\".format(run[0], df['tick'].max(), df['Name'].value_counts().count()))"
   ],
   "metadata": {
    "collapsed": false,
    "pycharm": {
     "name": "#%%\n"
    }
   }
  },
  {
   "cell_type": "code",
   "execution_count": 61,
   "outputs": [],
   "source": [],
   "metadata": {
    "collapsed": false,
    "pycharm": {
     "name": "#%%\n"
    }
   }
  }
 ],
 "metadata": {
  "kernelspec": {
   "display_name": "Python 3",
   "language": "python",
   "name": "python3"
  },
  "language_info": {
   "codemirror_mode": {
    "name": "ipython",
    "version": 2
   },
   "file_extension": ".py",
   "mimetype": "text/x-python",
   "name": "python",
   "nbconvert_exporter": "python",
   "pygments_lexer": "ipython2",
   "version": "2.7.6"
  }
 },
 "nbformat": 4,
 "nbformat_minor": 0
}