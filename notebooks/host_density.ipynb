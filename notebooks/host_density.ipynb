{
 "cells": [
  {
   "cell_type": "code",
   "execution_count": null,
   "metadata": {
    "collapsed": true
   },
   "outputs": [],
   "source": [
    "import pandas as pd\n",
    "import matplotlib\n",
    "import matplotlib.pyplot as plt"
   ]
  },
  {
   "cell_type": "code",
   "execution_count": null,
   "outputs": [],
   "source": [
    "# Helper\n",
    "df = pd.read_csv(\"\", error_bad_lines=False)\n",
    "df.head()"
   ],
   "metadata": {
    "collapsed": false,
    "pycharm": {
     "name": "#%%\n"
    }
   }
  },
  {
   "cell_type": "code",
   "execution_count": null,
   "outputs": [],
   "source": [
    "# Helper\n",
    "for run in df.groupby('run'):\n",
    "    df = run[1]\n",
    "    print(\"Run {} went {} days w/ {} Ixodes\".format(run[0], df['tick'].max(), df['name'].value_counts().count()))"
   ],
   "metadata": {
    "collapsed": false,
    "pycharm": {
     "name": "#%%\n"
    }
   }
  },
  {
   "cell_type": "code",
   "execution_count": null,
   "outputs": [],
   "source": [
    "#\n",
    "# Parses parameter file and creates a dictionary that maps the habitat_suitability value with the\n",
    "# corresponding run_number and host_density values\n",
    "#\n",
    "# { habitat: [ [run_number], [host_density] ] }\n",
    "#\n",
    "paramfile = \"\"\n",
    "paramd = {}\n",
    "with open(paramfile, 'r') as file:\n",
    "    for line in file:\n",
    "        result = line.replace(\"\\t\",\",\").split(',')\n",
    "# Try to add the values to an existing key, if that key does not exist, create it\n",
    "        try:\n",
    "            paramd[float(result[8])][0].append(int(result[0])) # add run number\n",
    "            paramd[float(result[8])][1].append(float(result[4])) # add host density\n",
    "        except KeyError:\n",
    "            paramd[float(result[8])] = [[int(result[0])], [float(result[4])]]\n",
    "# Helper\n",
    "for k, v in paramd.items():\n",
    "    print(k,v)\n"
   ],
   "metadata": {
    "collapsed": false,
    "pycharm": {
     "name": "#%%\n"
    }
   }
  },
  {
   "cell_type": "code",
   "execution_count": null,
   "outputs": [],
   "source": [
    "ixode_count_dict = {}\n",
    "df = pd.read_csv(\"\", error_bad_lines=False)\n",
    "for run in df.groupby('run'):\n",
    "    current_df = run[1]\n",
    "    ixode_count_dict[run[0]] = len(current_df['name'].unique())"
   ],
   "metadata": {
    "collapsed": false,
    "pycharm": {
     "name": "#%%\n"
    }
   }
  },
  {
   "cell_type": "code",
   "execution_count": null,
   "outputs": [],
   "source": [
    "# Creating a data frame from the above generated dictionary\n",
    "df_final = pd.DataFrame(ixode_count_dict.items(), columns=['run', 'total_ixode'])\n",
    "df_final['host_density'] = 0\n",
    "df_final.dtypes"
   ],
   "metadata": {
    "collapsed": false,
    "pycharm": {
     "name": "#%%\n"
    }
   }
  },
  {
   "cell_type": "code",
   "execution_count": null,
   "outputs": [],
   "source": [
    "# Iterate through parameter dictionary and use loc to find the row with the run number we want. Once we have this, add\n",
    "# the host density value for that associated run\n",
    "for key, value in paramd.items():\n",
    "    for i in range(len(value[0])):\n",
    "        # Both of these techniques work, but loc is preferred over chained indexing\n",
    "        # df_final['host_density'][df_final['run'] == value[0][i]] = value[1][i]\n",
    "        df_final.loc[df_final['run']==value[0][i], 'host_density'] = value[1][i]\n",
    "        df_final.loc[df_final['run']==value[0][i], 'habitat_suitability'] = key"
   ],
   "metadata": {
    "collapsed": false,
    "pycharm": {
     "name": "#%%\n"
    }
   }
  },
  {
   "cell_type": "code",
   "execution_count": null,
   "outputs": [],
   "source": [
    "matplotlib.use('Qt5Agg')\n",
    "# fig = plt.figure()\n",
    "for hab in df_final.groupby('habitat_suitability'):\n",
    "    dat = hab[1]\n",
    "    plt.plot('host_density', 'total_ixode' , data=dat, marker='o', markersize=7, linewidth=2, label=hab[0])\n",
    "    plt.ylabel('Cumulative Ixodes')\n",
    "    plt.xlabel('Large host density')\n",
    "    plt.title(\"Host Density\")\n",
    "    plt.legend() # FIX to show values not just label\n",
    "plt.show(block=True)\n",
    "# plt.savefig(\"../data/host-density/plots/newmodel-density-adult-10ixodes-labeled.png\")\n",
    "\n"
   ],
   "metadata": {
    "collapsed": false,
    "pycharm": {
     "name": "#%%\n"
    }
   }
  }
 ],
 "metadata": {
  "kernelspec": {
   "name": "pycharm-3e4626b3",
   "language": "python",
   "display_name": "PyCharm (abm-pandas)"
  },
  "language_info": {
   "codemirror_mode": {
    "name": "ipython",
    "version": 2
   },
   "file_extension": ".py",
   "mimetype": "text/x-python",
   "name": "python",
   "nbconvert_exporter": "python",
   "pygments_lexer": "ipython2",
   "version": "2.7.6"
  }
 },
 "nbformat": 4,
 "nbformat_minor": 0
}