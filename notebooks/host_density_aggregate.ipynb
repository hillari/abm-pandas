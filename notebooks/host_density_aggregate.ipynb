{
 "cells": [
  {
   "cell_type": "code",
   "execution_count": null,
   "metadata": {
    "collapsed": true
   },
   "outputs": [],
   "source": [
    "import pandas as pd\n",
    "import matplotlib\n",
    "matplotlib.use('Qt5Agg')\n",
    "import matplotlib.pyplot as plt\n",
    "import csv\n",
    "from datetime import datetime\n",
    "import numpy as np"
   ]
  },
  {
   "cell_type": "code",
   "execution_count": null,
   "outputs": [],
   "source": [
    "# --- get df we wrote to plot multiple curves ---\n",
    "\n",
    "data = pd.read_csv('/media/hill/DATA-LINUX/abm-data/host-density-olderruns/new-model/aggregate-runs/adddf')\n",
    "data.head(20)\n",
    "# data.vals"
   ],
   "metadata": {
    "collapsed": false,
    "pycharm": {
     "name": "#%%\n"
    }
   }
  },
  {
   "cell_type": "code",
   "execution_count": null,
   "outputs": [],
   "source": [
    "fig, ax = plt.subplots()\n",
    "for label, df in data.groupby('habitat_suitability'):\n",
    "    df.plot('host_density', 'mean', ax=ax, label=label)\n",
    "plt.legend(title=\"Habitat Suitability\")\n",
    "plt.show(block=True)\n",
    "\n",
    "# --- get df we wrote to plot multiple curves ---"
   ],
   "metadata": {
    "collapsed": false,
    "pycharm": {
     "name": "#%%\n",
     "is_executing": true
    }
   }
  },
  {
   "cell_type": "code",
   "execution_count": null,
   "outputs": [],
   "source": [
    "# ------------------ process Repast file sinks ------------------\n",
    "# step 1\n",
    "# Create a dictionary that maps the run# to host_density { run#: host_density }\n",
    "\n",
    "# paramfile = \"/media/hill/DATA-LINUX/abm-data/host-density/testparams1hab7\"\n",
    "paramfile = \"/media/hill/DATA-LINUX/abm-data/host-density-olderruns/new-model/aggregate-runs/params_05habitat\"\n",
    "paramd = {}\n",
    "with open(paramfile, 'r') as file:\n",
    "    for line in file:\n",
    "        result = line.replace(\"\\t\",\",\").replace('\\n','').split(',')\n",
    "\n",
    "        # attempt to add the density value to run, if it doesn't exist, create it\n",
    "        try:\n",
    "            paramd[int(result[0])].append(float(result[4]), float(result[8]))\n",
    "        except KeyError:\n",
    "            paramd[int(result[0])] = (float(result[4]), float(result[8]))  # { run#: host_density }\n",
    "\n",
    "for k, v in paramd.items():\n",
    "    print(k,v)\n"
   ],
   "metadata": {
    "collapsed": false,
    "pycharm": {
     "name": "#%%\n"
    }
   }
  },
  {
   "cell_type": "code",
   "execution_count": null,
   "outputs": [],
   "source": [
    "# NEW CODE - dont build so many data structures\n",
    "# step 2: read csv, build df\n",
    "\n",
    "colnames = ['run', 'tick', 'lifestate', 'total_ixodes']\n",
    "# csv_file = \"/media/hill/DATA-LINUX/abm-data/host-density/testdf3-badlines\"\n",
    "csv_file = \"/media/hill/DATA-LINUX/abm-data/host-density-olderruns/new-model/aggregate-runs/density-new.2020.Jul.11_hab05\"\n",
    "before = datetime.now()\n",
    "# df = pd.read_csv(csv_file, names=colnames, error_bad_lines=False, dtype={'run':np.int32, 'tick':np.float, 'lifestate':str, 'total_ixodes':str})\n",
    "df = pd.read_csv(csv_file,skiprows=8, names=colnames, error_bad_lines=False)\n",
    "after = datetime.now()\n",
    "print(\"Run time: \", after-before)\n",
    "# Reading csv takes ~15-30s\n",
    "df.head(10)"
   ],
   "metadata": {
    "collapsed": false,
    "pycharm": {
     "name": "#%%\n"
    }
   }
  },
  {
   "cell_type": "code",
   "execution_count": null,
   "outputs": [],
   "source": [
    "# step 2.b filter df\n",
    "\n",
    "# print(\"Dropping columns...\")\n",
    "# before = datetime.now()\n",
    "# df.drop(['lifestate', 'tick'], axis=1, inplace=True)\n",
    "# after = datetime.now()\n",
    "# print(\"Dropping runtime: \", after-before)\n",
    "\n",
    "print(\"Filtering database...\")\n",
    "before = datetime.now()\n",
    "print(\"Max before filtering...\", df['tick'].max())\n",
    "df = df[df['tick'] < 451] # vectorize & remove rows with bad lines\n",
    "after = datetime.now()\n",
    "print(\"Filtering runtime: \", after-before)\n",
    "print(\"Max after filtering...\", df['tick'].max())\n",
    "\n",
    "df.head()\n"
   ],
   "metadata": {
    "collapsed": false,
    "pycharm": {
     "name": "#%%\n"
    }
   }
  },
  {
   "cell_type": "code",
   "execution_count": null,
   "outputs": [],
   "source": [
    "# 9/15 removing outliers. test code to find out how many outliers we have\n",
    "\n",
    "for run, data in df.groupby('run'):\n",
    "    days = data['tick'].max()\n",
    "    print((run,days) if days < 450 else '')\n"
   ],
   "metadata": {
    "collapsed": false,
    "pycharm": {
     "name": "#%%\n"
    }
   }
  },
  {
   "cell_type": "code",
   "execution_count": null,
   "outputs": [],
   "source": [
    "# Doesn't seem to be much performance from dropping. Test on larger files\n",
    "# df.drop(['tick', 'lifestate'], axis=1, inplace=True)\n",
    "# df.head(10)"
   ],
   "metadata": {
    "collapsed": false,
    "pycharm": {
     "name": "#%%\n"
    }
   }
  },
  {
   "cell_type": "code",
   "execution_count": null,
   "outputs": [],
   "source": [
    "print(\"Groupby and agg...\")\n",
    "before = datetime.now()\n",
    "n_ticks_df = df.groupby(['run'], as_index=False)\n",
    "# n_ticks = n_ticks.agg(total_ixodes=pd.NamedAgg(column='name', aggfunc='nunique')) # namedAgg example\n",
    "n_ticks_df = n_ticks_df.agg({'total_ixodes': 'nunique', 'tick': 'max'}) # TEST THIS FOR OUTLIERS\n",
    "after = datetime.now()\n",
    "print(\"Groupby runtime: \", after-before)\n",
    "# takes ~14s\n",
    "n_ticks_df.head()"
   ],
   "metadata": {
    "collapsed": false,
    "pycharm": {
     "name": "#%%\n"
    }
   }
  },
  {
   "cell_type": "code",
   "execution_count": null,
   "outputs": [],
   "source": [
    "# Filter outliers - working\n",
    "n_ticks_df = n_ticks_df[n_ticks_df['tick'] > 90]"
   ],
   "metadata": {
    "collapsed": false,
    "pycharm": {
     "name": "#%%\n"
    }
   }
  },
  {
   "cell_type": "code",
   "execution_count": null,
   "outputs": [],
   "source": [
    "# step 3\n",
    "# Iterate through param dictionary and add the host density value to the associated run\n",
    "for key, value in paramd.items():\n",
    "    n_ticks_df.loc[n_ticks_df['run']==key, 'host_density' ] = float(value) #FIXME? check theres no off by 1\n",
    "n_ticks_df.head()\n"
   ],
   "metadata": {
    "collapsed": false,
    "pycharm": {
     "name": "#%%\n"
    }
   }
  },
  {
   "cell_type": "code",
   "execution_count": null,
   "outputs": [],
   "source": [
    "# Step 4 make final df\n",
    "#\n",
    "\n",
    "final_df = n_ticks_df.groupby('host_density')['total_ixodes'].agg({'mean', 'std'})\n",
    "final_df.head()\n"
   ],
   "metadata": {
    "collapsed": false,
    "pycharm": {
     "name": "#%%\n"
    }
   }
  },
  {
   "cell_type": "code",
   "execution_count": null,
   "outputs": [],
   "source": [
    "# Step 5 - write to csv\n",
    "# could add some kind of 'first file' flag to change mode between write and append\n",
    "final_df.to_csv('/media/hill/DATA-LINUX/abm-data/host-density-olderruns/new-model/aggregate-runs/dfagg', mode='w')"
   ],
   "metadata": {
    "collapsed": false,
    "pycharm": {
     "name": "#%%\n"
    }
   }
  },
  {
   "cell_type": "code",
   "execution_count": null,
   "outputs": [],
   "source": [
    "# example of how to plot\n",
    "plt.errorbar(final_df.index, final_df['mean'], yerr=2*final_df['std'])\n",
    "plt.plot(marker='o')\n",
    "plt.show()"
   ],
   "metadata": {
    "collapsed": false,
    "pycharm": {
     "name": "#%%\n"
    }
   }
  },
  {
   "cell_type": "code",
   "execution_count": null,
   "outputs": [],
   "source": [
    "# # OLD step 4 make the final df\n",
    "# n_ticks = n_ticks.groupby('host_density', )\n",
    "# n_ticks = n_ticks.agg({'total_ixodes': 'mean'})\n",
    "# n_ticks.head()"
   ],
   "metadata": {
    "collapsed": false,
    "pycharm": {
     "name": "#%%\n"
    }
   }
  },
  {
   "cell_type": "code",
   "execution_count": null,
   "outputs": [],
   "source": [
    "# mean = n_ticks.groupby('host_density')['total_ixodes'].mean()\n",
    "# std = n_ticks.groupby('host_density')['total_ixodes'].std()\n",
    "# mean"
   ],
   "metadata": {
    "collapsed": false,
    "pycharm": {
     "name": "#%%\n"
    }
   }
  },
  {
   "cell_type": "code",
   "execution_count": null,
   "outputs": [],
   "source": [
    "# How to get rid of the bad lines ------------\n",
    "print(df['tick'].max())\n",
    "before = datetime.now()\n",
    "new_df = df[df['tick'] < 451 ]\n",
    "after = datetime.now()\n",
    "print(\"Run time: \", after-before)\n",
    "print(new_df['tick'].max())\n",
    "print(new_df.head())"
   ],
   "metadata": {
    "collapsed": false,
    "pycharm": {
     "name": "#%%\n"
    }
   }
  },
  {
   "cell_type": "code",
   "execution_count": null,
   "outputs": [],
   "source": [
    "# Note, as of yet there is no notable performance benefit from dropping these\n",
    "df.drop(['tick','lifestate'], axis=1, inplace=True)\n",
    "df.head()"
   ],
   "metadata": {
    "collapsed": false,
    "pycharm": {
     "name": "#%%\n"
    }
   }
  },
  {
   "cell_type": "code",
   "execution_count": null,
   "outputs": [],
   "source": [
    "# -- OLD way\n",
    "# Create a dictionary that maps the run# to total ixode { run#: cumulative_ixode }\n",
    "ixode_count_dict = {}\n",
    "colnames = ['run', 'tick', 'lifestate', 'name']\n",
    "csv_file = \"/media/hill/DATA-LINUX/abm-data/host-density/testdf1hab\"\n",
    "df = pd.read_csv(csv_file, names=colnames, header=None, error_bad_lines=False)\n",
    "for run in df.groupby('run'):\n",
    "    current_df = run[1]\n",
    "    ixode_count_dict[run[0]] = len(current_df['name'].unique())\n"
   ],
   "metadata": {
    "collapsed": false,
    "pycharm": {
     "name": "#%%\n"
    }
   }
  },
  {
   "cell_type": "code",
   "execution_count": null,
   "outputs": [],
   "source": [
    "# Creating a data frame from the cumulative_ixodes dict generated above\n",
    "df_final = pd.DataFrame(ixode_count_dict.items(), columns=['run', 'total_ixodes'])\n",
    "df_final['host_density'] = 0\n",
    "df_final.dtypes"
   ],
   "metadata": {
    "collapsed": false,
    "pycharm": {
     "name": "#%%\n"
    }
   }
  },
  {
   "cell_type": "code",
   "execution_count": null,
   "outputs": [],
   "source": [
    "# Iterate through param dictionary and add the host density value to the associated run\n",
    "for key, value in paramd.items():\n",
    "    for i in range(len(paramd)):\n",
    "        # print(type(value))\n",
    "        df_final.loc[df_final['run']==key, 'host_density'] = value\n",
    "\n",
    "df_final.dtypes"
   ],
   "metadata": {
    "collapsed": false,
    "pycharm": {
     "name": "#%%\n"
    }
   }
  },
  {
   "cell_type": "code",
   "execution_count": null,
   "outputs": [],
   "source": [
    "# Now we have a df with | 'run' | 'total_ixode' | 'host_density' |\n",
    "# Create a dictionary with { host_density: agg_ixodes }\n",
    "agg_ixodes_dict = {}\n",
    "for density in df_final.groupby('host_density'):\n",
    "    tmp_df = density[1] # density is a tuple, so density[1] is the df we want\n",
    "    # print(density[0])\n",
    "    agg_ixodes_dict[density[0]] = tmp_df['total_ixodes'].agg('mean')\n",
    "\n",
    "\n",
    "# in test file - should get 1880.75 for 0.4, 7898.5 for 0.7, and 24917 for 1.0"
   ],
   "metadata": {
    "collapsed": false,
    "pycharm": {
     "name": "#%%\n"
    }
   }
  },
  {
   "cell_type": "code",
   "execution_count": null,
   "outputs": [],
   "source": [
    "# Create a dataframe from the agg_ixodes_dict that we can then plot\n",
    "df_agg_final = pd.DataFrame(agg_ixodes_dict.items(), columns=['host_density', 'agg_ixodes'])\n",
    "df_agg_final.head()"
   ],
   "metadata": {
    "collapsed": false,
    "pycharm": {
     "name": "#%%\n"
    }
   }
  },
  {
   "cell_type": "code",
   "execution_count": null,
   "outputs": [],
   "source": [
    "# testing plotting visuals\n",
    "matplotlib.use('Qt5Agg')\n",
    "plt.plot(df_agg_final['host_density'], df_agg_final['agg_ixodes'])\n",
    "plt.show(block=True)"
   ],
   "metadata": {
    "collapsed": false,
    "pycharm": {
     "name": "#%%\n"
    }
   }
  },
  {
   "cell_type": "code",
   "execution_count": null,
   "outputs": [],
   "source": [
    "with open(paramfile, 'r') as file:\n",
    "    reader = csv.reader(file)\n",
    "    param_str = {rows[0]: \"Lifestage: {}\\nStarting Ixodes: {}\\nHabitat Suitability: {}\".format(\n",
    "        rows[1], rows[2], rows[3]) for rows in reader}\n",
    "    print(param_str)"
   ],
   "metadata": {
    "collapsed": false,
    "pycharm": {
     "name": "#%%\n"
    }
   }
  },
  {
   "cell_type": "code",
   "execution_count": null,
   "outputs": [],
   "source": [
    "fig, ax = plt.subplots()\n",
    "ax.set_title(\"Test Agg Host Density\")\n",
    "ax.set_ylabel(\"Total Ixodes\")\n",
    "ax.set_xlabel(\"Host Density\")\n",
    "props = dict(facecolor='wheat', alpha=0.5)\n",
    "ax.plot(df_agg_final['host_density'], df_agg_final['agg_ixodes'])\n",
    "plt.figtext(0.5,0.5, 'Lifestage: adult\\nStarting Ixodes: 10\\nHabitat Suitability: 0.05', bbox=props)\n",
    "plt.show(block=True)"
   ],
   "metadata": {
    "collapsed": false,
    "pycharm": {
     "name": "#%%\n"
    }
   }
  },
  {
   "cell_type": "code",
   "execution_count": null,
   "outputs": [],
   "source": [
    "df2 = df_agg_final.copy()\n",
    "ax=df2.plot()\n",
    "df_agg_final.plot(ax=ax)\n",
    "plt.show(block=True)"
   ],
   "metadata": {
    "collapsed": false,
    "pycharm": {
     "name": "#%%\n"
    }
   }
  },
  {
   "cell_type": "code",
   "execution_count": null,
   "outputs": [],
   "source": [
    "# -- OLD way\n",
    "# Create a dictionary that maps the run# to total ixode { run#: cumulative_ixode }\n",
    "ixode_count_dict = {}\n",
    "colnames = ['run', 'tick', 'lifestate', 'name']\n",
    "csv_file = \"/media/hill/DATA-LINUX/abm-data/host-density/testdf1hab\"\n",
    "df = pd.read_csv(csv_file, names=colnames, header=None, error_bad_lines=False)\n",
    "for run in df.groupby('run'):\n",
    "    current_df = run[1]\n",
    "    ixode_count_dict[run[0]] = len(current_df['name'].unique())\n"
   ],
   "metadata": {
    "collapsed": false,
    "pycharm": {
     "name": "#%%\n"
    }
   }
  },
  {
   "cell_type": "code",
   "execution_count": null,
   "outputs": [],
   "source": [
    "# Creating a data frame from the cumulative_ixodes dict generated above\n",
    "df_final = pd.DataFrame(ixode_count_dict.items(), columns=['run', 'total_ixodes'])\n",
    "df_final['host_density'] = 0\n",
    "df_final.dtypes"
   ],
   "metadata": {
    "collapsed": false,
    "pycharm": {
     "name": "#%%\n"
    }
   }
  },
  {
   "cell_type": "code",
   "execution_count": null,
   "outputs": [],
   "source": [
    "# Iterate through param dictionary and add the host density value to the associated run\n",
    "for key, value in paramd.items():\n",
    "    for i in range(len(paramd)):\n",
    "        # print(type(value))\n",
    "        df_final.loc[df_final['run']==key, 'host_density'] = value\n",
    "\n",
    "df_final.dtypes"
   ],
   "metadata": {
    "collapsed": false,
    "pycharm": {
     "name": "#%%\n"
    }
   }
  },
  {
   "cell_type": "code",
   "execution_count": null,
   "outputs": [],
   "source": [
    "# Now we have a df with | 'run' | 'total_ixode' | 'host_density' |\n",
    "# Create a dictionary with { host_density: agg_ixodes }\n",
    "agg_ixodes_dict = {}\n",
    "for density in df_final.groupby('host_density'):\n",
    "    tmp_df = density[1] # density is a tuple, so density[1] is the df we want\n",
    "    # print(density[0])\n",
    "    agg_ixodes_dict[density[0]] = tmp_df['total_ixodes'].agg('mean')\n",
    "\n",
    "\n",
    "# in test file - should get 1880.75 for 0.4, 7898.5 for 0.7, and 24917 for 1.0\n"
   ],
   "metadata": {
    "collapsed": false,
    "pycharm": {
     "name": "#%%\n"
    }
   }
  },
  {
   "cell_type": "code",
   "execution_count": null,
   "outputs": [],
   "source": [
    "# Create a dataframe from the agg_ixodes_dict that we can then plot\n",
    "df_agg_final = pd.DataFrame(agg_ixodes_dict.items(), columns=['host_density', 'agg_ixodes'])\n",
    "df_agg_final.head()"
   ],
   "metadata": {
    "collapsed": false,
    "pycharm": {
     "name": "#%%\n"
    }
   }
  },
  {
   "cell_type": "code",
   "execution_count": null,
   "outputs": [],
   "source": [
    "matplotlib.use('Qt5Agg')\n",
    "plt.plot(df_agg_final['host_density'], df_agg_final['agg_ixodes'])\n",
    "plt.show(block=True)\n"
   ],
   "metadata": {
    "collapsed": false,
    "pycharm": {
     "name": "#%%\n"
    }
   }
  }
 ],
 "metadata": {
  "kernelspec": {
   "display_name": "Python 3",
   "language": "python",
   "name": "python3"
  },
  "language_info": {
   "codemirror_mode": {
    "name": "ipython",
    "version": 2
   },
   "file_extension": ".py",
   "mimetype": "text/x-python",
   "name": "python",
   "nbconvert_exporter": "python",
   "pygments_lexer": "ipython2",
   "version": "2.7.6"
  }
 },
 "nbformat": 4,
 "nbformat_minor": 0
}