{
 "cells": [
  {
   "cell_type": "code",
   "execution_count": 1,
   "metadata": {
    "collapsed": true
   },
   "outputs": [],
   "source": [
    "import pandas as pd\n",
    "import matplotlib\n",
    "import matplotlib.pyplot as plt"
   ]
  },
  {
   "cell_type": "code",
   "execution_count": 3,
   "outputs": [
    {
     "name": "stdout",
     "output_type": "stream",
     "text": [
      "1 0.1\n",
      "2 0.1\n",
      "3 0.1\n",
      "4 0.1\n",
      "5 0.1\n",
      "6 0.1\n",
      "7 0.1\n",
      "8 0.1\n",
      "9 0.1\n",
      "10 0.1\n",
      "11 0.4\n",
      "12 0.4\n",
      "13 0.4\n",
      "14 0.4\n",
      "15 0.4\n",
      "16 0.4\n",
      "17 0.4\n",
      "18 0.4\n",
      "19 0.4\n",
      "20 0.4\n",
      "21 0.7\n",
      "22 0.7\n",
      "23 0.7\n",
      "24 0.7\n",
      "25 0.7\n",
      "26 0.7\n",
      "27 0.7\n",
      "28 0.7\n",
      "29 0.7\n",
      "30 0.7\n",
      "31 1.0\n",
      "32 1.0\n",
      "33 1.0\n",
      "34 1.0\n",
      "35 1.0\n",
      "36 1.0\n",
      "37 1.0\n",
      "38 1.0\n",
      "39 1.0\n",
      "40 1.0\n",
      "41 3.0\n",
      "42 3.0\n",
      "43 3.0\n",
      "44 3.0\n",
      "45 3.0\n",
      "46 3.0\n",
      "47 3.0\n",
      "48 3.0\n",
      "49 3.0\n",
      "50 3.0\n"
     ]
    }
   ],
   "source": [
    "# Create a dictionary that maps the run# to host_density { run#: host_density }\n",
    "\n",
    "paramfile = \"/home/hill/PyCharmProjects/tickABM/data/host-density/new-model-agg/density-new.2020.Jul.11.18_24_35\"\n",
    "paramd = {}\n",
    "with open(paramfile, 'r') as file:\n",
    "    for line in file:\n",
    "        result = line.replace(\"\\t\",\",\").split(',')\n",
    "        # attempt to add the density value to run, if it doesn't exist, create it\n",
    "        try:\n",
    "            paramd[int(result[0])].append(float(result[4]))\n",
    "        except KeyError:\n",
    "            paramd[int(result[0])] = float(result[4])  # { run#: host_density }\n",
    "\n",
    "for k, v in paramd.items():\n",
    "    print(k,v)"
   ],
   "metadata": {
    "collapsed": false,
    "pycharm": {
     "name": "#%%\n"
    }
   }
  },
  {
   "cell_type": "code",
   "execution_count": 4,
   "outputs": [
    {
     "name": "stderr",
     "output_type": "stream",
     "text": [
      "b'Skipping line 4520553: expected 4 fields, saw 6\\nSkipping line 4520554: expected 4 fields, saw 6\\nSkipping line 4520555: expected 4 fields, saw 6\\nSkipping line 4520556: expected 4 fields, saw 6\\nSkipping line 4520557: expected 4 fields, saw 6\\nSkipping line 4520558: expected 4 fields, saw 6\\nSkipping line 4520559: expected 4 fields, saw 6\\nSkipping line 4520560: expected 4 fields, saw 6\\nSkipping line 4520561: expected 4 fields, saw 6\\nSkipping line 4520562: expected 4 fields, saw 6\\nSkipping line 4520563: expected 4 fields, saw 6\\nSkipping line 4520564: expected 4 fields, saw 6\\nSkipping line 4520565: expected 4 fields, saw 6\\n'\n",
      "b'Skipping line 13516221: expected 4 fields, saw 6\\nSkipping line 13516222: expected 4 fields, saw 6\\nSkipping line 13516223: expected 4 fields, saw 6\\nSkipping line 13516224: expected 4 fields, saw 6\\nSkipping line 13516225: expected 4 fields, saw 6\\nSkipping line 13516226: expected 4 fields, saw 6\\nSkipping line 13516227: expected 4 fields, saw 6\\nSkipping line 13516228: expected 4 fields, saw 6\\nSkipping line 13516229: expected 4 fields, saw 6\\nSkipping line 13516230: expected 4 fields, saw 6\\nSkipping line 13516231: expected 4 fields, saw 6\\nSkipping line 13516232: expected 4 fields, saw 6\\n'\n",
      "b'Skipping line 16742307: expected 4 fields, saw 6\\nSkipping line 16742308: expected 4 fields, saw 6\\nSkipping line 16742309: expected 4 fields, saw 6\\nSkipping line 16742310: expected 4 fields, saw 6\\nSkipping line 16742311: expected 4 fields, saw 6\\nSkipping line 16742312: expected 4 fields, saw 6\\n'\n",
      "b'Skipping line 23532250: expected 4 fields, saw 6\\nSkipping line 23532251: expected 4 fields, saw 6\\nSkipping line 23532252: expected 4 fields, saw 6\\nSkipping line 23532253: expected 4 fields, saw 6\\nSkipping line 23532254: expected 4 fields, saw 6\\nSkipping line 23532255: expected 4 fields, saw 6\\nSkipping line 23532256: expected 4 fields, saw 6\\nSkipping line 23532257: expected 4 fields, saw 6\\nSkipping line 23532258: expected 4 fields, saw 6\\nSkipping line 23532259: expected 4 fields, saw 6\\nSkipping line 23532260: expected 4 fields, saw 6\\nSkipping line 23532261: expected 4 fields, saw 6\\n'\n",
      "b'Skipping line 26558700: expected 4 fields, saw 6\\nSkipping line 26558701: expected 4 fields, saw 6\\nSkipping line 26558702: expected 4 fields, saw 6\\nSkipping line 26558703: expected 4 fields, saw 6\\nSkipping line 26558704: expected 4 fields, saw 6\\nSkipping line 26558705: expected 4 fields, saw 6\\nSkipping line 26558706: expected 4 fields, saw 6\\n'\n"
     ]
    }
   ],
   "source": [
    "# Create a dictionary that maps the run# to total ixode { run#: cumulative_ixode }\n",
    "ixode_count_dict = {}\n",
    "csv_file = \"/media/hill/DATA-LINUX/abm-data/host-density/new-model/aggregate-runs/density-new.2020.Jul.11hab_09\"\n",
    "df = pd.read_csv(csv_file, error_bad_lines=False)\n",
    "for run in df.groupby('run'):\n",
    "    current_df = run[1]\n",
    "    ixode_count_dict[run[0]] = len(current_df['name'].unique())"
   ],
   "metadata": {
    "collapsed": false,
    "pycharm": {
     "name": "#%%\n"
    }
   }
  },
  {
   "cell_type": "code",
   "execution_count": 5,
   "outputs": [
    {
     "data": {
      "text/plain": "run             int64\ntotal_ixodes    int64\nhost_density    int64\ndtype: object"
     },
     "execution_count": 5,
     "metadata": {},
     "output_type": "execute_result"
    }
   ],
   "source": [
    "# Creating a data frame from the cumulative_ixodes dict generated above\n",
    "df_final = pd.DataFrame(ixode_count_dict.items(), columns=['run', 'total_ixodes'])\n",
    "df_final['host_density'] = 0\n",
    "df_final.dtypes"
   ],
   "metadata": {
    "collapsed": false,
    "pycharm": {
     "name": "#%%\n"
    }
   }
  },
  {
   "cell_type": "code",
   "execution_count": 6,
   "outputs": [],
   "source": [
    "# Iterate through param dictionary and add the host density value to the associated run\n",
    "for key, value in paramd.items():\n",
    "    for i in range(len(paramd)):\n",
    "        df_final.loc[df_final['run']==key, 'host_density'] = value"
   ],
   "metadata": {
    "collapsed": false,
    "pycharm": {
     "name": "#%%\n"
    }
   }
  },
  {
   "cell_type": "code",
   "execution_count": 20,
   "outputs": [
    {
     "data": {
      "text/plain": "run               int64\nhost_density    float64\ntotal_ixodes      int64\ndtype: object"
     },
     "execution_count": 20,
     "metadata": {},
     "output_type": "execute_result"
    }
   ],
   "source": [
    "df_test = pd.read_csv(\"../data/test\")\n",
    "df_test.dtypes"
   ],
   "metadata": {
    "collapsed": false,
    "pycharm": {
     "name": "#%%\n"
    }
   }
  },
  {
   "cell_type": "code",
   "execution_count": 7,
   "outputs": [
    {
     "name": "stdout",
     "output_type": "stream",
     "text": [
      "0.1\n",
      "0.4\n",
      "0.7\n",
      "1.0\n",
      "3.0\n"
     ]
    }
   ],
   "source": [
    "# Now we have a df with | 'run' | 'total_ixode' | 'host_density' |\n",
    "# Create a dictionary with { host_density: agg_ixodes }\n",
    "agg_ixodes_dict = {}\n",
    "for density in df_final.groupby('host_density'):\n",
    "    tmp_df = density[1] # density is a tuple, so density[1] is the df we want\n",
    "    print(density[0])\n",
    "    agg_ixodes_dict[density[0]] = tmp_df['total_ixodes'].agg('mean')\n",
    "\n",
    "\n",
    "# in test file - should get 1880.75 for 0.4, 7898.5 for 0.7, and 24917 for 1.0\n"
   ],
   "metadata": {
    "collapsed": false,
    "pycharm": {
     "name": "#%%\n"
    }
   }
  },
  {
   "cell_type": "code",
   "execution_count": 8,
   "outputs": [
    {
     "data": {
      "text/plain": "   host_density  agg_ixodes\n0           0.1      9029.9\n1           0.4     10171.2\n2           0.7      7152.9\n3           1.0      8363.9\n4           3.0      6565.2",
      "text/html": "<div>\n<style scoped>\n    .dataframe tbody tr th:only-of-type {\n        vertical-align: middle;\n    }\n\n    .dataframe tbody tr th {\n        vertical-align: top;\n    }\n\n    .dataframe thead th {\n        text-align: right;\n    }\n</style>\n<table border=\"1\" class=\"dataframe\">\n  <thead>\n    <tr style=\"text-align: right;\">\n      <th></th>\n      <th>host_density</th>\n      <th>agg_ixodes</th>\n    </tr>\n  </thead>\n  <tbody>\n    <tr>\n      <th>0</th>\n      <td>0.1</td>\n      <td>9029.9</td>\n    </tr>\n    <tr>\n      <th>1</th>\n      <td>0.4</td>\n      <td>10171.2</td>\n    </tr>\n    <tr>\n      <th>2</th>\n      <td>0.7</td>\n      <td>7152.9</td>\n    </tr>\n    <tr>\n      <th>3</th>\n      <td>1.0</td>\n      <td>8363.9</td>\n    </tr>\n    <tr>\n      <th>4</th>\n      <td>3.0</td>\n      <td>6565.2</td>\n    </tr>\n  </tbody>\n</table>\n</div>"
     },
     "execution_count": 8,
     "metadata": {},
     "output_type": "execute_result"
    }
   ],
   "source": [
    "# Create a dataframe from the agg_ixodes_dict that we can then plot\n",
    "df_agg_final = pd.DataFrame(agg_ixodes_dict.items(), columns=['host_density', 'agg_ixodes'])\n",
    "df_agg_final.head()"
   ],
   "metadata": {
    "collapsed": false,
    "pycharm": {
     "name": "#%%\n"
    }
   }
  },
  {
   "cell_type": "code",
   "execution_count": 9,
   "outputs": [],
   "source": [
    "matplotlib.use('Qt5Agg')\n",
    "plt.plot(df_agg_final['host_density'], df_agg_final['agg_ixodes'])\n",
    "plt.show(block=True)\n"
   ],
   "metadata": {
    "collapsed": false,
    "pycharm": {
     "name": "#%%\n"
    }
   }
  }
 ],
 "metadata": {
  "kernelspec": {
   "display_name": "Python 3",
   "language": "python",
   "name": "python3"
  },
  "language_info": {
   "codemirror_mode": {
    "name": "ipython",
    "version": 2
   },
   "file_extension": ".py",
   "mimetype": "text/x-python",
   "name": "python",
   "nbconvert_exporter": "python",
   "pygments_lexer": "ipython2",
   "version": "2.7.6"
  }
 },
 "nbformat": 4,
 "nbformat_minor": 0
}