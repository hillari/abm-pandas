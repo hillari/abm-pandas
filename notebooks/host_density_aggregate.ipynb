{
 "cells": [
  {
   "cell_type": "code",
   "execution_count": 1,
   "metadata": {
    "collapsed": true
   },
   "outputs": [],
   "source": [
    "import pandas as pd\n",
    "import matplotlib\n",
    "matplotlib.use('Qt5Agg')\n",
    "import matplotlib.pyplot as plt\n",
    "import csv\n",
    "from datetime import datetime\n",
    "import numpy as np"
   ]
  },
  {
   "cell_type": "code",
   "execution_count": 9,
   "outputs": [
    {
     "data": {
      "text/plain": "   host_density           std     mean  habitat_suitability\n0           0.1   8054.140694   9029.9                 0.05\n1           0.4   8769.819823  10171.2                 0.05\n2           0.7   5440.695390   7152.9                 0.05\n3           1.0   5116.821658   8363.9                 0.05\n4           3.0   6236.417380   6565.2                 0.05\n5           0.1   5876.396114  12273.2                 0.09\n6           0.4  18182.576838  22510.3                 0.09\n7           0.7   9321.956269  11406.3                 0.09\n8           1.0   4135.963261   9954.9                 0.09\n9           3.0  10009.144961   9459.2                 0.09",
      "text/html": "<div>\n<style scoped>\n    .dataframe tbody tr th:only-of-type {\n        vertical-align: middle;\n    }\n\n    .dataframe tbody tr th {\n        vertical-align: top;\n    }\n\n    .dataframe thead th {\n        text-align: right;\n    }\n</style>\n<table border=\"1\" class=\"dataframe\">\n  <thead>\n    <tr style=\"text-align: right;\">\n      <th></th>\n      <th>host_density</th>\n      <th>std</th>\n      <th>mean</th>\n      <th>habitat_suitability</th>\n    </tr>\n  </thead>\n  <tbody>\n    <tr>\n      <th>0</th>\n      <td>0.1</td>\n      <td>8054.140694</td>\n      <td>9029.9</td>\n      <td>0.05</td>\n    </tr>\n    <tr>\n      <th>1</th>\n      <td>0.4</td>\n      <td>8769.819823</td>\n      <td>10171.2</td>\n      <td>0.05</td>\n    </tr>\n    <tr>\n      <th>2</th>\n      <td>0.7</td>\n      <td>5440.695390</td>\n      <td>7152.9</td>\n      <td>0.05</td>\n    </tr>\n    <tr>\n      <th>3</th>\n      <td>1.0</td>\n      <td>5116.821658</td>\n      <td>8363.9</td>\n      <td>0.05</td>\n    </tr>\n    <tr>\n      <th>4</th>\n      <td>3.0</td>\n      <td>6236.417380</td>\n      <td>6565.2</td>\n      <td>0.05</td>\n    </tr>\n    <tr>\n      <th>5</th>\n      <td>0.1</td>\n      <td>5876.396114</td>\n      <td>12273.2</td>\n      <td>0.09</td>\n    </tr>\n    <tr>\n      <th>6</th>\n      <td>0.4</td>\n      <td>18182.576838</td>\n      <td>22510.3</td>\n      <td>0.09</td>\n    </tr>\n    <tr>\n      <th>7</th>\n      <td>0.7</td>\n      <td>9321.956269</td>\n      <td>11406.3</td>\n      <td>0.09</td>\n    </tr>\n    <tr>\n      <th>8</th>\n      <td>1.0</td>\n      <td>4135.963261</td>\n      <td>9954.9</td>\n      <td>0.09</td>\n    </tr>\n    <tr>\n      <th>9</th>\n      <td>3.0</td>\n      <td>10009.144961</td>\n      <td>9459.2</td>\n      <td>0.09</td>\n    </tr>\n  </tbody>\n</table>\n</div>"
     },
     "execution_count": 9,
     "metadata": {},
     "output_type": "execute_result"
    }
   ],
   "source": [
    "# --- get df we wrote to plot multiple curves ---\n",
    "\n",
    "data = pd.read_csv('/media/hill/DATA-LINUX/abm-data/host-density-olderruns/new-model/aggregate-runs/adddf')\n",
    "data.head(20)\n",
    "# data.vals"
   ],
   "metadata": {
    "collapsed": false,
    "pycharm": {
     "name": "#%%\n"
    }
   }
  },
  {
   "cell_type": "code",
   "execution_count": null,
   "outputs": [],
   "source": [
    "fig, ax = plt.subplots()\n",
    "for label, df in data.groupby('habitat_suitability'):\n",
    "    df.plot('host_density', 'mean', ax=ax, label=label)\n",
    "plt.legend()\n",
    "plt.show(block=True)\n",
    "\n",
    "# --- get df we wrote to plot multiple curves ---"
   ],
   "metadata": {
    "collapsed": false,
    "pycharm": {
     "name": "#%%\n",
     "is_executing": true
    }
   }
  },
  {
   "cell_type": "code",
   "execution_count": 2,
   "outputs": [
    {
     "name": "stdout",
     "output_type": "stream",
     "text": [
      "1 (0.1, 0.05)\n",
      "2 (0.1, 0.05)\n",
      "3 (0.1, 0.05)\n",
      "4 (0.1, 0.05)\n",
      "5 (0.1, 0.05)\n",
      "6 (0.1, 0.05)\n",
      "7 (0.1, 0.05)\n",
      "8 (0.1, 0.05)\n",
      "9 (0.1, 0.05)\n",
      "10 (0.1, 0.05)\n",
      "11 (0.4, 0.05)\n",
      "12 (0.4, 0.05)\n",
      "13 (0.4, 0.05)\n",
      "14 (0.4, 0.05)\n",
      "15 (0.4, 0.05)\n",
      "16 (0.4, 0.05)\n",
      "17 (0.4, 0.05)\n",
      "18 (0.4, 0.05)\n",
      "19 (0.4, 0.05)\n",
      "20 (0.4, 0.05)\n",
      "21 (0.7, 0.05)\n",
      "22 (0.7, 0.05)\n",
      "23 (0.7, 0.05)\n",
      "24 (0.7, 0.05)\n",
      "25 (0.7, 0.05)\n",
      "26 (0.7, 0.05)\n",
      "27 (0.7, 0.05)\n",
      "28 (0.7, 0.05)\n",
      "29 (0.7, 0.05)\n",
      "30 (0.7, 0.05)\n",
      "31 (1.0, 0.05)\n",
      "32 (1.0, 0.05)\n",
      "33 (1.0, 0.05)\n",
      "34 (1.0, 0.05)\n",
      "35 (1.0, 0.05)\n",
      "36 (1.0, 0.05)\n",
      "37 (1.0, 0.05)\n",
      "38 (1.0, 0.05)\n",
      "39 (1.0, 0.05)\n",
      "40 (1.0, 0.05)\n",
      "41 (3.0, 0.05)\n",
      "42 (3.0, 0.05)\n",
      "43 (3.0, 0.05)\n",
      "44 (3.0, 0.05)\n",
      "45 (3.0, 0.05)\n",
      "46 (3.0, 0.05)\n",
      "47 (3.0, 0.05)\n",
      "48 (3.0, 0.05)\n",
      "49 (3.0, 0.05)\n",
      "50 (3.0, 0.05)\n"
     ]
    }
   ],
   "source": [
    "# ------------------ process Repast file sinks ------------------\n",
    "# step 1\n",
    "# Create a dictionary that maps the run# to host_density { run#: host_density }\n",
    "\n",
    "# paramfile = \"/media/hill/DATA-LINUX/abm-data/host-density/testparams1hab7\"\n",
    "paramfile = \"/media/hill/DATA-LINUX/abm-data/host-density-olderruns/new-model/aggregate-runs/params_05habitat\"\n",
    "paramd = {}\n",
    "with open(paramfile, 'r') as file:\n",
    "    for line in file:\n",
    "        result = line.replace(\"\\t\",\",\").replace('\\n','').split(',')\n",
    "\n",
    "        # attempt to add the density value to run, if it doesn't exist, create it\n",
    "        try:\n",
    "            paramd[int(result[0])].append(float(result[4]), float(result[8]))\n",
    "        except KeyError:\n",
    "            paramd[int(result[0])] = (float(result[4]), float(result[8]))  # { run#: host_density }\n",
    "\n",
    "for k, v in paramd.items():\n",
    "    print(k,v)\n"
   ],
   "metadata": {
    "collapsed": false,
    "pycharm": {
     "name": "#%%\n"
    }
   }
  },
  {
   "cell_type": "code",
   "execution_count": 3,
   "outputs": [
    {
     "name": "stdout",
     "output_type": "stream",
     "text": [
      "Run time:  0:00:10.583374\n"
     ]
    },
    {
     "data": {
      "text/plain": "   run  tick lifestate        total_ixodes\n0    1   1.0       egg   Child 7 of Tick 7\n1    1   1.0       egg  Child 95 of Tick 7\n2    1   1.0       egg  Child 23 of Tick 7\n3    1   1.0       egg  Child 82 of Tick 7\n4    1   1.0       egg  Child 70 of Tick 7\n5    1   1.0       egg  Child 29 of Tick 7\n6    1   1.0       egg  Child 50 of Tick 7\n7    1   1.0       egg  Child 41 of Tick 7\n8    1   1.0       egg  Child 45 of Tick 7\n9    1   1.0       egg   Child 3 of Tick 7",
      "text/html": "<div>\n<style scoped>\n    .dataframe tbody tr th:only-of-type {\n        vertical-align: middle;\n    }\n\n    .dataframe tbody tr th {\n        vertical-align: top;\n    }\n\n    .dataframe thead th {\n        text-align: right;\n    }\n</style>\n<table border=\"1\" class=\"dataframe\">\n  <thead>\n    <tr style=\"text-align: right;\">\n      <th></th>\n      <th>run</th>\n      <th>tick</th>\n      <th>lifestate</th>\n      <th>total_ixodes</th>\n    </tr>\n  </thead>\n  <tbody>\n    <tr>\n      <th>0</th>\n      <td>1</td>\n      <td>1.0</td>\n      <td>egg</td>\n      <td>Child 7 of Tick 7</td>\n    </tr>\n    <tr>\n      <th>1</th>\n      <td>1</td>\n      <td>1.0</td>\n      <td>egg</td>\n      <td>Child 95 of Tick 7</td>\n    </tr>\n    <tr>\n      <th>2</th>\n      <td>1</td>\n      <td>1.0</td>\n      <td>egg</td>\n      <td>Child 23 of Tick 7</td>\n    </tr>\n    <tr>\n      <th>3</th>\n      <td>1</td>\n      <td>1.0</td>\n      <td>egg</td>\n      <td>Child 82 of Tick 7</td>\n    </tr>\n    <tr>\n      <th>4</th>\n      <td>1</td>\n      <td>1.0</td>\n      <td>egg</td>\n      <td>Child 70 of Tick 7</td>\n    </tr>\n    <tr>\n      <th>5</th>\n      <td>1</td>\n      <td>1.0</td>\n      <td>egg</td>\n      <td>Child 29 of Tick 7</td>\n    </tr>\n    <tr>\n      <th>6</th>\n      <td>1</td>\n      <td>1.0</td>\n      <td>egg</td>\n      <td>Child 50 of Tick 7</td>\n    </tr>\n    <tr>\n      <th>7</th>\n      <td>1</td>\n      <td>1.0</td>\n      <td>egg</td>\n      <td>Child 41 of Tick 7</td>\n    </tr>\n    <tr>\n      <th>8</th>\n      <td>1</td>\n      <td>1.0</td>\n      <td>egg</td>\n      <td>Child 45 of Tick 7</td>\n    </tr>\n    <tr>\n      <th>9</th>\n      <td>1</td>\n      <td>1.0</td>\n      <td>egg</td>\n      <td>Child 3 of Tick 7</td>\n    </tr>\n  </tbody>\n</table>\n</div>"
     },
     "execution_count": 3,
     "metadata": {},
     "output_type": "execute_result"
    }
   ],
   "source": [
    "# NEW CODE - dont build so many data structures\n",
    "# step 2: read csv, build df\n",
    "\n",
    "colnames = ['run', 'tick', 'lifestate', 'total_ixodes']\n",
    "# csv_file = \"/media/hill/DATA-LINUX/abm-data/host-density/testdf3-badlines\"\n",
    "csv_file = \"/media/hill/DATA-LINUX/abm-data/host-density-olderruns/new-model/aggregate-runs/density-new.2020.Jul.11_hab05\"\n",
    "before = datetime.now()\n",
    "# df = pd.read_csv(csv_file, names=colnames, error_bad_lines=False, dtype={'run':np.int32, 'tick':np.float, 'lifestate':str, 'total_ixodes':str})\n",
    "df = pd.read_csv(csv_file,skiprows=8, names=colnames, error_bad_lines=False)\n",
    "after = datetime.now()\n",
    "print(\"Run time: \", after-before)\n",
    "# Reading csv takes ~15-30s\n",
    "df.head(10)"
   ],
   "metadata": {
    "collapsed": false,
    "pycharm": {
     "name": "#%%\n"
    }
   }
  },
  {
   "cell_type": "code",
   "execution_count": 4,
   "outputs": [
    {
     "name": "stdout",
     "output_type": "stream",
     "text": [
      "Filtering database...\n",
      "Max before filtering... 1083644425.0\n",
      "Filtering runtime:  0:00:00.814624\n",
      "Max after filtering... 450.0\n"
     ]
    },
    {
     "data": {
      "text/plain": "    run  tick lifestate        total_ixodes\n0     1   1.0       egg   Child 7 of Tick 7\n1     1   1.0       egg  Child 95 of Tick 7\n2     1   1.0       egg  Child 23 of Tick 7\n3     1   1.0       egg  Child 82 of Tick 7\n4     1   1.0       egg  Child 70 of Tick 7\n5     1   1.0       egg  Child 29 of Tick 7\n6     1   1.0       egg  Child 50 of Tick 7\n7     1   1.0       egg  Child 41 of Tick 7\n8     1   1.0       egg  Child 45 of Tick 7\n9     1   1.0       egg   Child 3 of Tick 7\n10    1   1.0       egg   Child 5 of Tick 7\n11    1   1.0       egg  Child 13 of Tick 7\n12    1   1.0       egg  Child 17 of Tick 7\n13    1   1.0       egg  Child 72 of Tick 7\n14    1   1.0       egg  Child 16 of Tick 7\n15    1   1.0       egg  Child 24 of Tick 7\n16    1   1.0       egg  Child 76 of Tick 7\n17    1   1.0       egg  Child 30 of Tick 7\n18    1   1.0     adult              Tick 6\n19    1   1.0       egg  Child 27 of Tick 7",
      "text/html": "<div>\n<style scoped>\n    .dataframe tbody tr th:only-of-type {\n        vertical-align: middle;\n    }\n\n    .dataframe tbody tr th {\n        vertical-align: top;\n    }\n\n    .dataframe thead th {\n        text-align: right;\n    }\n</style>\n<table border=\"1\" class=\"dataframe\">\n  <thead>\n    <tr style=\"text-align: right;\">\n      <th></th>\n      <th>run</th>\n      <th>tick</th>\n      <th>lifestate</th>\n      <th>total_ixodes</th>\n    </tr>\n  </thead>\n  <tbody>\n    <tr>\n      <th>0</th>\n      <td>1</td>\n      <td>1.0</td>\n      <td>egg</td>\n      <td>Child 7 of Tick 7</td>\n    </tr>\n    <tr>\n      <th>1</th>\n      <td>1</td>\n      <td>1.0</td>\n      <td>egg</td>\n      <td>Child 95 of Tick 7</td>\n    </tr>\n    <tr>\n      <th>2</th>\n      <td>1</td>\n      <td>1.0</td>\n      <td>egg</td>\n      <td>Child 23 of Tick 7</td>\n    </tr>\n    <tr>\n      <th>3</th>\n      <td>1</td>\n      <td>1.0</td>\n      <td>egg</td>\n      <td>Child 82 of Tick 7</td>\n    </tr>\n    <tr>\n      <th>4</th>\n      <td>1</td>\n      <td>1.0</td>\n      <td>egg</td>\n      <td>Child 70 of Tick 7</td>\n    </tr>\n    <tr>\n      <th>5</th>\n      <td>1</td>\n      <td>1.0</td>\n      <td>egg</td>\n      <td>Child 29 of Tick 7</td>\n    </tr>\n    <tr>\n      <th>6</th>\n      <td>1</td>\n      <td>1.0</td>\n      <td>egg</td>\n      <td>Child 50 of Tick 7</td>\n    </tr>\n    <tr>\n      <th>7</th>\n      <td>1</td>\n      <td>1.0</td>\n      <td>egg</td>\n      <td>Child 41 of Tick 7</td>\n    </tr>\n    <tr>\n      <th>8</th>\n      <td>1</td>\n      <td>1.0</td>\n      <td>egg</td>\n      <td>Child 45 of Tick 7</td>\n    </tr>\n    <tr>\n      <th>9</th>\n      <td>1</td>\n      <td>1.0</td>\n      <td>egg</td>\n      <td>Child 3 of Tick 7</td>\n    </tr>\n    <tr>\n      <th>10</th>\n      <td>1</td>\n      <td>1.0</td>\n      <td>egg</td>\n      <td>Child 5 of Tick 7</td>\n    </tr>\n    <tr>\n      <th>11</th>\n      <td>1</td>\n      <td>1.0</td>\n      <td>egg</td>\n      <td>Child 13 of Tick 7</td>\n    </tr>\n    <tr>\n      <th>12</th>\n      <td>1</td>\n      <td>1.0</td>\n      <td>egg</td>\n      <td>Child 17 of Tick 7</td>\n    </tr>\n    <tr>\n      <th>13</th>\n      <td>1</td>\n      <td>1.0</td>\n      <td>egg</td>\n      <td>Child 72 of Tick 7</td>\n    </tr>\n    <tr>\n      <th>14</th>\n      <td>1</td>\n      <td>1.0</td>\n      <td>egg</td>\n      <td>Child 16 of Tick 7</td>\n    </tr>\n    <tr>\n      <th>15</th>\n      <td>1</td>\n      <td>1.0</td>\n      <td>egg</td>\n      <td>Child 24 of Tick 7</td>\n    </tr>\n    <tr>\n      <th>16</th>\n      <td>1</td>\n      <td>1.0</td>\n      <td>egg</td>\n      <td>Child 76 of Tick 7</td>\n    </tr>\n    <tr>\n      <th>17</th>\n      <td>1</td>\n      <td>1.0</td>\n      <td>egg</td>\n      <td>Child 30 of Tick 7</td>\n    </tr>\n    <tr>\n      <th>18</th>\n      <td>1</td>\n      <td>1.0</td>\n      <td>adult</td>\n      <td>Tick 6</td>\n    </tr>\n    <tr>\n      <th>19</th>\n      <td>1</td>\n      <td>1.0</td>\n      <td>egg</td>\n      <td>Child 27 of Tick 7</td>\n    </tr>\n  </tbody>\n</table>\n</div>"
     },
     "execution_count": 4,
     "metadata": {},
     "output_type": "execute_result"
    }
   ],
   "source": [
    "# step 2.b filter df\n",
    "# TODO Drop ?\n",
    "\n",
    "# print(\"Dropping columns...\")\n",
    "# before = datetime.now()\n",
    "# df.drop(['lifestate', 'tick'], axis=1, inplace=True)\n",
    "# after = datetime.now()\n",
    "# print(\"Dropping runtime: \", after-before)\n",
    "\n",
    "print(\"Filtering database...\")\n",
    "before = datetime.now()\n",
    "print(\"Max before filtering...\", df['tick'].max())\n",
    "df = df[df['tick'] < 451] # vectorize & remove rows with bad lines\n",
    "after = datetime.now()\n",
    "print(\"Filtering runtime: \", after-before)\n",
    "print(\"Max after filtering...\", df['tick'].max())\n",
    "\n",
    "df.head(20)\n"
   ],
   "metadata": {
    "collapsed": false,
    "pycharm": {
     "name": "#%%\n"
    }
   }
  },
  {
   "cell_type": "code",
   "execution_count": 8,
   "outputs": [
    {
     "name": "stdout",
     "output_type": "stream",
     "text": [
      "1 \n",
      "2 \n",
      "3 \n",
      "4 \n",
      "5 \n",
      "6 \n",
      "7 \n",
      "8 438.0\n",
      "9 89.0\n",
      "10 446.0\n",
      "11 \n",
      "12 \n",
      "13 82.0\n",
      "14 \n",
      "15 \n",
      "16 \n",
      "17 \n",
      "18 89.0\n",
      "19 \n",
      "20 90.0\n",
      "21 89.0\n",
      "22 \n",
      "23 388.0\n",
      "24 \n",
      "25 \n",
      "26 \n",
      "27 \n",
      "28 \n",
      "29 \n",
      "30 \n",
      "31 57.0\n",
      "32 \n",
      "33 \n",
      "34 \n",
      "35 \n",
      "36 \n",
      "37 \n",
      "38 \n",
      "39 \n",
      "40 88.0\n",
      "41 \n",
      "42 \n",
      "43 \n",
      "44 \n",
      "45 \n",
      "46 89.0\n",
      "47 \n",
      "48 \n",
      "49 \n",
      "50 68.0\n"
     ]
    }
   ],
   "source": [
    "# 9/15 TODO remove outliers. Build df for runs with days > 100\n",
    "# Maybe groupby run, get days, store in some data structure, then filter/add to df on conditional\n",
    "\n",
    "for run, data in df.groupby('run'):\n",
    "    days = data['tick'].max()\n",
    "    print((run,days) if days < 450 else '')"
   ],
   "metadata": {
    "collapsed": false,
    "pycharm": {
     "name": "#%%\n"
    }
   }
  },
  {
   "cell_type": "code",
   "execution_count": 17,
   "outputs": [
    {
     "name": "stdout",
     "output_type": "stream",
     "text": [
      "tick\n",
      "1.0    1.0\n",
      "2.0    2.0\n",
      "3.0    3.0\n",
      "Name: tick, dtype: float64\n"
     ]
    },
    {
     "ename": "AttributeError",
     "evalue": "'numpy.float64' object has no attribute 'value'",
     "output_type": "error",
     "traceback": [
      "\u001B[0;31m---------------------------------------------------------------------------\u001B[0m",
      "\u001B[0;31mAttributeError\u001B[0m                            Traceback (most recent call last)",
      "\u001B[0;32m<ipython-input-17-338c75dd5455>\u001B[0m in \u001B[0;36m<module>\u001B[0;34m\u001B[0m\n\u001B[1;32m      1\u001B[0m \u001B[0mgroupby_tick\u001B[0m \u001B[0;34m=\u001B[0m \u001B[0mdf\u001B[0m\u001B[0;34m.\u001B[0m\u001B[0mgroupby\u001B[0m\u001B[0;34m(\u001B[0m\u001B[0;34m'tick'\u001B[0m\u001B[0;34m)\u001B[0m\u001B[0;34m[\u001B[0m\u001B[0;34m'tick'\u001B[0m\u001B[0;34m]\u001B[0m\u001B[0;34m.\u001B[0m\u001B[0mmax\u001B[0m\u001B[0;34m(\u001B[0m\u001B[0;34m)\u001B[0m\u001B[0;34m\u001B[0m\u001B[0;34m\u001B[0m\u001B[0m\n\u001B[1;32m      2\u001B[0m \u001B[0mprint\u001B[0m\u001B[0;34m(\u001B[0m\u001B[0mgroupby_tick\u001B[0m\u001B[0;34m.\u001B[0m\u001B[0mhead\u001B[0m\u001B[0;34m(\u001B[0m\u001B[0;34m)\u001B[0m\u001B[0;34m)\u001B[0m\u001B[0;34m\u001B[0m\u001B[0;34m\u001B[0m\u001B[0m\n\u001B[0;32m----> 3\u001B[0;31m \u001B[0mbar\u001B[0m \u001B[0;34m=\u001B[0m \u001B[0mgroupby_tick\u001B[0m\u001B[0;34m[\u001B[0m\u001B[0mgroupby_tick\u001B[0m\u001B[0;34m.\u001B[0m\u001B[0mmax\u001B[0m\u001B[0;34m(\u001B[0m\u001B[0;34m)\u001B[0m\u001B[0;34m.\u001B[0m\u001B[0mvalue\u001B[0m\u001B[0;34m(\u001B[0m\u001B[0;34m)\u001B[0m \u001B[0;34m>\u001B[0m \u001B[0;36m1\u001B[0m\u001B[0;34m]\u001B[0m\u001B[0;34m\u001B[0m\u001B[0;34m\u001B[0m\u001B[0m\n\u001B[0m\u001B[1;32m      4\u001B[0m \u001B[0mbar\u001B[0m\u001B[0;34m.\u001B[0m\u001B[0mhead\u001B[0m\u001B[0;34m(\u001B[0m\u001B[0;34m)\u001B[0m\u001B[0;34m\u001B[0m\u001B[0;34m\u001B[0m\u001B[0m\n\u001B[1;32m      5\u001B[0m \u001B[0;34m\u001B[0m\u001B[0m\n",
      "\u001B[0;31mAttributeError\u001B[0m: 'numpy.float64' object has no attribute 'value'"
     ]
    }
   ],
   "source": [
    "# groupby_tick = df.groupby('tick')['tick'].max()\n",
    "# print(groupby_tick.head())\n",
    "# bar = groupby_tick[groupby_tick.max() > 1]\n",
    "# bar.head()\n",
    "\n"
   ],
   "metadata": {
    "collapsed": false,
    "pycharm": {
     "name": "#%%\n"
    }
   }
  },
  {
   "cell_type": "code",
   "execution_count": null,
   "outputs": [],
   "source": [
    "# Doesn't seem to be much performance from dropping benefit in this case. Test on larger files\n",
    "# df.drop(['tick', 'lifestate'], axis=1, inplace=True)\n",
    "# df.head(10)"
   ],
   "metadata": {
    "collapsed": false,
    "pycharm": {
     "name": "#%%\n"
    }
   }
  },
  {
   "cell_type": "code",
   "execution_count": 5,
   "outputs": [
    {
     "name": "stdout",
     "output_type": "stream",
     "text": [
      "Groupby and agg...\n",
      "Groupby runtime:  0:00:05.943230\n"
     ]
    },
    {
     "data": {
      "text/plain": "   run  total_ixodes   tick\n0    1          5709  450.0\n1    2          3010  450.0\n2    3         18010  450.0\n3    4          6010  450.0\n4    5         24010  450.0",
      "text/html": "<div>\n<style scoped>\n    .dataframe tbody tr th:only-of-type {\n        vertical-align: middle;\n    }\n\n    .dataframe tbody tr th {\n        vertical-align: top;\n    }\n\n    .dataframe thead th {\n        text-align: right;\n    }\n</style>\n<table border=\"1\" class=\"dataframe\">\n  <thead>\n    <tr style=\"text-align: right;\">\n      <th></th>\n      <th>run</th>\n      <th>total_ixodes</th>\n      <th>tick</th>\n    </tr>\n  </thead>\n  <tbody>\n    <tr>\n      <th>0</th>\n      <td>1</td>\n      <td>5709</td>\n      <td>450.0</td>\n    </tr>\n    <tr>\n      <th>1</th>\n      <td>2</td>\n      <td>3010</td>\n      <td>450.0</td>\n    </tr>\n    <tr>\n      <th>2</th>\n      <td>3</td>\n      <td>18010</td>\n      <td>450.0</td>\n    </tr>\n    <tr>\n      <th>3</th>\n      <td>4</td>\n      <td>6010</td>\n      <td>450.0</td>\n    </tr>\n    <tr>\n      <th>4</th>\n      <td>5</td>\n      <td>24010</td>\n      <td>450.0</td>\n    </tr>\n  </tbody>\n</table>\n</div>"
     },
     "execution_count": 5,
     "metadata": {},
     "output_type": "execute_result"
    }
   ],
   "source": [
    "print(\"Groupby and agg...\")\n",
    "before = datetime.now()\n",
    "n_ticks_df = df.groupby(['run'], as_index=False)\n",
    "# n_ticks = n_ticks.agg(total_ixodes=pd.NamedAgg(column='name', aggfunc='nunique')) # namedAgg example\n",
    "n_ticks_df = n_ticks_df.agg({'total_ixodes': 'nunique', 'days': 'max'}) # TEST THIS FOR OUTLIERS\n",
    "after = datetime.now()\n",
    "print(\"Groupby runtime: \", after-before)\n",
    "# takes ~14s\n",
    "n_ticks_df.head()"
   ],
   "metadata": {
    "collapsed": false,
    "pycharm": {
     "name": "#%%\n"
    }
   }
  },
  {
   "cell_type": "code",
   "execution_count": 7,
   "outputs": [],
   "source": [
    "# Filter outliers - working\n",
    "n_ticks_df = n_ticks_df[n_ticks_df['tick'] > 90]"
   ],
   "metadata": {
    "collapsed": false,
    "pycharm": {
     "name": "#%%\n"
    }
   }
  },
  {
   "cell_type": "code",
   "execution_count": 10,
   "outputs": [
    {
     "data": {
      "text/plain": "   run  total_ixodes  tick\n0    1            10   3.0\n1    2            10   3.0",
      "text/html": "<div>\n<style scoped>\n    .dataframe tbody tr th:only-of-type {\n        vertical-align: middle;\n    }\n\n    .dataframe tbody tr th {\n        vertical-align: top;\n    }\n\n    .dataframe thead th {\n        text-align: right;\n    }\n</style>\n<table border=\"1\" class=\"dataframe\">\n  <thead>\n    <tr style=\"text-align: right;\">\n      <th></th>\n      <th>run</th>\n      <th>total_ixodes</th>\n      <th>tick</th>\n    </tr>\n  </thead>\n  <tbody>\n    <tr>\n      <th>0</th>\n      <td>1</td>\n      <td>10</td>\n      <td>3.0</td>\n    </tr>\n    <tr>\n      <th>1</th>\n      <td>2</td>\n      <td>10</td>\n      <td>3.0</td>\n    </tr>\n  </tbody>\n</table>\n</div>"
     },
     "execution_count": 10,
     "metadata": {},
     "output_type": "execute_result"
    }
   ],
   "source": [
    "n_ticks_df.head(12)"
   ],
   "metadata": {
    "collapsed": false,
    "pycharm": {
     "name": "#%%\n"
    }
   }
  },
  {
   "cell_type": "code",
   "execution_count": null,
   "outputs": [],
   "source": [
    "# TODO get\n",
    "# step 3\n",
    "# Iterate through param dictionary and add the host density value to the associated run\n",
    "for key, value in paramd.items():\n",
    "    n_ticks_df.loc[n_ticks_df['run']==key, 'host_density' ] = float(value) #FIXME? check theres no off by 1\n",
    "n_ticks_df.head()\n"
   ],
   "metadata": {
    "collapsed": false,
    "pycharm": {
     "name": "#%%\n"
    }
   }
  },
  {
   "cell_type": "code",
   "execution_count": null,
   "outputs": [],
   "source": [
    "# Step 4 make final df\n",
    "# Works, BUT it's giving me sample and I want population (even with np.std ?)\n",
    "\n",
    "final_df = n_ticks_df.groupby('host_density')['total_ixodes'].agg({'mean', 'std'})\n",
    "final_df.head()\n"
   ],
   "metadata": {
    "collapsed": false,
    "pycharm": {
     "name": "#%%\n"
    }
   }
  },
  {
   "cell_type": "code",
   "execution_count": null,
   "outputs": [],
   "source": [
    "# Step 5 - write to csv\n",
    "# could add some kind of 'first file' flag to change mode between write and append\n",
    "final_df.to_csv('/media/hill/DATA-LINUX/abm-data/host-density-olderruns/new-model/aggregate-runs/dfagg', mode='w')"
   ],
   "metadata": {
    "collapsed": false,
    "pycharm": {
     "name": "#%%\n"
    }
   }
  },
  {
   "cell_type": "code",
   "execution_count": null,
   "outputs": [],
   "source": [
    "# example of how to plot\n",
    "plt.errorbar(final_df.index, final_df['mean'], yerr=2*final_df['std'])\n",
    "plt.plot(marker='o')\n",
    "plt.show()"
   ],
   "metadata": {
    "collapsed": false,
    "pycharm": {
     "name": "#%%\n"
    }
   }
  },
  {
   "cell_type": "code",
   "execution_count": null,
   "outputs": [],
   "source": [
    "# # OLD step 4 make the final df\n",
    "# n_ticks = n_ticks.groupby('host_density', )\n",
    "# n_ticks = n_ticks.agg({'total_ixodes': 'mean'})\n",
    "# n_ticks.head()"
   ],
   "metadata": {
    "collapsed": false,
    "pycharm": {
     "name": "#%%\n"
    }
   }
  },
  {
   "cell_type": "code",
   "execution_count": null,
   "outputs": [],
   "source": [
    "# mean = n_ticks.groupby('host_density')['total_ixodes'].mean()\n",
    "# std = n_ticks.groupby('host_density')['total_ixodes'].std()\n",
    "# mean"
   ],
   "metadata": {
    "collapsed": false,
    "pycharm": {
     "name": "#%%\n"
    }
   }
  },
  {
   "cell_type": "code",
   "execution_count": null,
   "outputs": [],
   "source": [
    "# How to get rid of the bad lines ------------\n",
    "print(df['tick'].max())\n",
    "before = datetime.now()\n",
    "new_df = df[df['tick'] < 451 ]\n",
    "after = datetime.now()\n",
    "print(\"Run time: \", after-before)\n",
    "print(new_df['tick'].max())\n",
    "print(new_df.head())"
   ],
   "metadata": {
    "collapsed": false,
    "pycharm": {
     "name": "#%%\n"
    }
   }
  },
  {
   "cell_type": "code",
   "execution_count": null,
   "outputs": [],
   "source": [
    "df.drop(['tick','lifestate'], axis=1, inplace=True)\n",
    "df.head()\n",
    "# How to get rid of the bad lines ------------"
   ],
   "metadata": {
    "collapsed": false,
    "pycharm": {
     "name": "#%%\n"
    }
   }
  },
  {
   "cell_type": "code",
   "execution_count": null,
   "outputs": [],
   "source": [
    "# -- OLD way\n",
    "# Create a dictionary that maps the run# to total ixode { run#: cumulative_ixode }\n",
    "ixode_count_dict = {}\n",
    "colnames = ['run', 'tick', 'lifestate', 'name']\n",
    "csv_file = \"/media/hill/DATA-LINUX/abm-data/host-density/testdf1hab\"\n",
    "df = pd.read_csv(csv_file, names=colnames, header=None, error_bad_lines=False)\n",
    "for run in df.groupby('run'):\n",
    "    current_df = run[1]\n",
    "    ixode_count_dict[run[0]] = len(current_df['name'].unique())\n"
   ],
   "metadata": {
    "collapsed": false,
    "pycharm": {
     "name": "#%%\n"
    }
   }
  },
  {
   "cell_type": "code",
   "execution_count": null,
   "outputs": [],
   "source": [
    "# Creating a data frame from the cumulative_ixodes dict generated above\n",
    "df_final = pd.DataFrame(ixode_count_dict.items(), columns=['run', 'total_ixodes'])\n",
    "df_final['host_density'] = 0\n",
    "df_final.dtypes"
   ],
   "metadata": {
    "collapsed": false,
    "pycharm": {
     "name": "#%%\n"
    }
   }
  },
  {
   "cell_type": "code",
   "execution_count": null,
   "outputs": [],
   "source": [
    "# Iterate through param dictionary and add the host density value to the associated run\n",
    "for key, value in paramd.items():\n",
    "    for i in range(len(paramd)):\n",
    "        # print(type(value))\n",
    "        df_final.loc[df_final['run']==key, 'host_density'] = value\n",
    "\n",
    "df_final.dtypes"
   ],
   "metadata": {
    "collapsed": false,
    "pycharm": {
     "name": "#%%\n"
    }
   }
  },
  {
   "cell_type": "code",
   "execution_count": null,
   "outputs": [],
   "source": [
    "# Now we have a df with | 'run' | 'total_ixode' | 'host_density' |\n",
    "# Create a dictionary with { host_density: agg_ixodes }\n",
    "agg_ixodes_dict = {}\n",
    "for density in df_final.groupby('host_density'):\n",
    "    tmp_df = density[1] # density is a tuple, so density[1] is the df we want\n",
    "    # print(density[0])\n",
    "    agg_ixodes_dict[density[0]] = tmp_df['total_ixodes'].agg('mean')\n",
    "\n",
    "\n",
    "# in test file - should get 1880.75 for 0.4, 7898.5 for 0.7, and 24917 for 1.0\n"
   ],
   "metadata": {
    "collapsed": false,
    "pycharm": {
     "name": "#%%\n"
    }
   }
  },
  {
   "cell_type": "code",
   "execution_count": null,
   "outputs": [],
   "source": [
    "# Create a dataframe from the agg_ixodes_dict that we can then plot\n",
    "df_agg_final = pd.DataFrame(agg_ixodes_dict.items(), columns=['host_density', 'agg_ixodes'])\n",
    "df_agg_final.head()"
   ],
   "metadata": {
    "collapsed": false,
    "pycharm": {
     "name": "#%%\n"
    }
   }
  },
  {
   "cell_type": "code",
   "execution_count": null,
   "outputs": [],
   "source": [],
   "metadata": {
    "collapsed": false,
    "pycharm": {
     "name": "#%%\n"
    }
   }
  },
  {
   "cell_type": "code",
   "execution_count": null,
   "outputs": [],
   "source": [
    "matplotlib.use('Qt5Agg')\n",
    "plt.plot(df_agg_final['host_density'], df_agg_final['agg_ixodes'])\n",
    "plt.show(block=True)"
   ],
   "metadata": {
    "collapsed": false,
    "pycharm": {
     "name": "#%%\n"
    }
   }
  },
  {
   "cell_type": "code",
   "execution_count": null,
   "outputs": [],
   "source": [
    "with open(paramfile, 'r') as file:\n",
    "    reader = csv.reader(file)\n",
    "    param_str = {rows[0]: \"Lifestage: {}\\nStarting Ixodes: {}\\nHabitat Suitability: {}\".format(\n",
    "        rows[1], rows[2], rows[3]) for rows in reader}\n",
    "    print(param_str)"
   ],
   "metadata": {
    "collapsed": false,
    "pycharm": {
     "name": "#%%\n"
    }
   }
  },
  {
   "cell_type": "code",
   "execution_count": null,
   "outputs": [],
   "source": [
    "fig, ax = plt.subplots()\n",
    "ax.set_title(\"Test Agg Host Density\")\n",
    "ax.set_ylabel(\"Total Ixodes\")\n",
    "ax.set_xlabel(\"Host Density\")\n",
    "props = dict(facecolor='wheat', alpha=0.5)\n",
    "ax.plot(df_agg_final['host_density'], df_agg_final['agg_ixodes'])\n",
    "plt.figtext(0.5,0.5, 'Lifestage: adult\\nStarting Ixodes: 10\\nHabitat Suitability: 0.05', bbox=props)\n",
    "plt.show(block=True)"
   ],
   "metadata": {
    "collapsed": false,
    "pycharm": {
     "name": "#%%\n"
    }
   }
  },
  {
   "cell_type": "code",
   "execution_count": null,
   "outputs": [],
   "source": [
    "df2 = df_agg_final.copy()\n",
    "ax=df2.plot()\n",
    "df_agg_final.plot(ax=ax)\n",
    "plt.show(block=True)\n",
    "\n"
   ],
   "metadata": {
    "collapsed": false,
    "pycharm": {
     "name": "#%%\n"
    }
   }
  },
  {
   "cell_type": "code",
   "execution_count": null,
   "outputs": [],
   "source": [
    "df2 = df_agg_final.copy()\n",
    "ax=df2.plot()\n",
    "df_agg_final.plot(ax=ax)\n",
    "plt.show(block=True)\n",
    "\n"
   ],
   "metadata": {
    "collapsed": false,
    "pycharm": {
     "name": "#%%\n"
    }
   }
  },
  {
   "cell_type": "code",
   "execution_count": null,
   "outputs": [],
   "source": [
    "df.drop(['tick','lifestate'], axis=1, inplace=True)\n",
    "df.head()\n",
    "# How to get rid of the bad lines ------------"
   ],
   "metadata": {
    "collapsed": false,
    "pycharm": {
     "name": "#%%\n"
    }
   }
  },
  {
   "cell_type": "code",
   "execution_count": null,
   "outputs": [],
   "source": [
    "# -- OLD way\n",
    "# Create a dictionary that maps the run# to total ixode { run#: cumulative_ixode }\n",
    "ixode_count_dict = {}\n",
    "colnames = ['run', 'tick', 'lifestate', 'name']\n",
    "csv_file = \"/media/hill/DATA-LINUX/abm-data/host-density/testdf1hab\"\n",
    "df = pd.read_csv(csv_file, names=colnames, header=None, error_bad_lines=False)\n",
    "for run in df.groupby('run'):\n",
    "    current_df = run[1]\n",
    "    ixode_count_dict[run[0]] = len(current_df['name'].unique())\n"
   ],
   "metadata": {
    "collapsed": false,
    "pycharm": {
     "name": "#%%\n"
    }
   }
  },
  {
   "cell_type": "code",
   "execution_count": null,
   "outputs": [],
   "source": [
    "# Creating a data frame from the cumulative_ixodes dict generated above\n",
    "df_final = pd.DataFrame(ixode_count_dict.items(), columns=['run', 'total_ixodes'])\n",
    "df_final['host_density'] = 0\n",
    "df_final.dtypes"
   ],
   "metadata": {
    "collapsed": false,
    "pycharm": {
     "name": "#%%\n"
    }
   }
  },
  {
   "cell_type": "code",
   "execution_count": null,
   "outputs": [],
   "source": [
    "# Iterate through param dictionary and add the host density value to the associated run\n",
    "for key, value in paramd.items():\n",
    "    for i in range(len(paramd)):\n",
    "        # print(type(value))\n",
    "        df_final.loc[df_final['run']==key, 'host_density'] = value\n",
    "\n",
    "df_final.dtypes"
   ],
   "metadata": {
    "collapsed": false,
    "pycharm": {
     "name": "#%%\n"
    }
   }
  },
  {
   "cell_type": "code",
   "execution_count": null,
   "outputs": [],
   "source": [
    "# Now we have a df with | 'run' | 'total_ixode' | 'host_density' |\n",
    "# Create a dictionary with { host_density: agg_ixodes }\n",
    "agg_ixodes_dict = {}\n",
    "for density in df_final.groupby('host_density'):\n",
    "    tmp_df = density[1] # density is a tuple, so density[1] is the df we want\n",
    "    # print(density[0])\n",
    "    agg_ixodes_dict[density[0]] = tmp_df['total_ixodes'].agg('mean')\n",
    "\n",
    "\n",
    "# in test file - should get 1880.75 for 0.4, 7898.5 for 0.7, and 24917 for 1.0\n"
   ],
   "metadata": {
    "collapsed": false,
    "pycharm": {
     "name": "#%%\n"
    }
   }
  },
  {
   "cell_type": "code",
   "execution_count": null,
   "outputs": [],
   "source": [
    "# Create a dataframe from the agg_ixodes_dict that we can then plot\n",
    "df_agg_final = pd.DataFrame(agg_ixodes_dict.items(), columns=['host_density', 'agg_ixodes'])\n",
    "df_agg_final.head()"
   ],
   "metadata": {
    "collapsed": false,
    "pycharm": {
     "name": "#%%\n"
    }
   }
  },
  {
   "cell_type": "code",
   "execution_count": null,
   "outputs": [],
   "source": [],
   "metadata": {
    "collapsed": false,
    "pycharm": {
     "name": "#%%\n"
    }
   }
  },
  {
   "cell_type": "code",
   "execution_count": null,
   "outputs": [],
   "source": [
    "matplotlib.use('Qt5Agg')\n",
    "plt.plot(df_agg_final['host_density'], df_agg_final['agg_ixodes'])\n",
    "plt.show(block=True)"
   ],
   "metadata": {
    "collapsed": false,
    "pycharm": {
     "name": "#%%\n"
    }
   }
  },
  {
   "cell_type": "code",
   "execution_count": null,
   "outputs": [],
   "source": [
    "with open(paramfile, 'r') as file:\n",
    "    reader = csv.reader(file)\n",
    "    param_str = {rows[0]: \"Lifestage: {}\\nStarting Ixodes: {}\\nHabitat Suitability: {}\".format(\n",
    "        rows[1], rows[2], rows[3]) for rows in reader}\n",
    "    print(param_str)"
   ],
   "metadata": {
    "collapsed": false,
    "pycharm": {
     "name": "#%%\n"
    }
   }
  },
  {
   "cell_type": "code",
   "execution_count": null,
   "outputs": [],
   "source": [
    "fig, ax = plt.subplots()\n",
    "ax.set_title(\"Test Agg Host Density\")\n",
    "ax.set_ylabel(\"Total Ixodes\")\n",
    "ax.set_xlabel(\"Host Density\")\n",
    "props = dict(facecolor='wheat', alpha=0.5)\n",
    "ax.plot(df_agg_final['host_density'], df_agg_final['agg_ixodes'])\n",
    "plt.figtext(0.5,0.5, 'Lifestage: adult\\nStarting Ixodes: 10\\nHabitat Suitability: 0.05', bbox=props)\n",
    "plt.show(block=True)"
   ],
   "metadata": {
    "collapsed": false,
    "pycharm": {
     "name": "#%%\n"
    }
   }
  },
  {
   "cell_type": "code",
   "execution_count": null,
   "outputs": [],
   "source": [
    "df2 = df_agg_final.copy()\n",
    "ax=df2.plot()\n",
    "df_agg_final.plot(ax=ax)\n",
    "plt.show(block=True)\n",
    "\n"
   ],
   "metadata": {
    "collapsed": false,
    "pycharm": {
     "name": "#%%\n"
    }
   }
  }
 ],
 "metadata": {
  "kernelspec": {
   "display_name": "Python 3",
   "language": "python",
   "name": "python3"
  },
  "language_info": {
   "codemirror_mode": {
    "name": "ipython",
    "version": 2
   },
   "file_extension": ".py",
   "mimetype": "text/x-python",
   "name": "python",
   "nbconvert_exporter": "python",
   "pygments_lexer": "ipython2",
   "version": "2.7.6"
  }
 },
 "nbformat": 4,
 "nbformat_minor": 0
}