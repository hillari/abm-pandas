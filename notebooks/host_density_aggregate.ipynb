{
 "cells": [
  {
   "cell_type": "code",
   "execution_count": 1,
   "metadata": {
    "collapsed": true
   },
   "outputs": [],
   "source": [
    "import pandas as pd\n",
    "import matplotlib\n",
    "matplotlib.use('Qt5Agg')\n",
    "import matplotlib.pyplot as plt\n",
    "import csv\n",
    "from datetime import datetime"
   ]
  },
  {
   "cell_type": "code",
   "execution_count": 10,
   "outputs": [
    {
     "name": "stdout",
     "output_type": "stream",
     "text": [
      "0 0.1\n",
      "1 0.1\n",
      "2 0.1\n",
      "3 0.1\n",
      "4 0.1\n",
      "5 0.1\n",
      "6 0.1\n",
      "7 0.1\n",
      "8 0.1\n",
      "9 0.1\n",
      "10 0.3\n",
      "11 0.3\n",
      "12 0.3\n",
      "13 0.3\n",
      "14 0.3\n",
      "15 0.3\n",
      "16 0.3\n",
      "17 0.3\n",
      "18 0.3\n",
      "19 0.3\n",
      "20 0.5\n",
      "21 0.5\n",
      "22 0.5\n",
      "23 0.5\n",
      "24 0.5\n",
      "25 0.5\n",
      "26 0.5\n",
      "27 0.5\n",
      "28 0.5\n",
      "29 0.5\n",
      "30 0.7\n",
      "31 0.7\n",
      "32 0.7\n",
      "33 0.7\n",
      "34 0.7\n",
      "35 0.7\n",
      "36 0.7\n",
      "37 0.7\n",
      "38 0.7\n",
      "39 0.7\n",
      "40 0.9\n",
      "41 0.9\n",
      "42 0.9\n",
      "43 0.9\n",
      "44 0.9\n",
      "45 0.9\n",
      "46 0.9\n",
      "47 0.9\n",
      "48 0.9\n",
      "49 0.9\n"
     ]
    }
   ],
   "source": [
    "# Create a dictionary that maps the run# to host_density { run#: host_density }\n",
    "\n",
    "# paramfile = \"/media/hill/DATA-LINUX/abm-data/host-density/testparams2hab5\"\n",
    "paramfile = \"/media/hill/DATA-LINUX/abm-data/host-density/params-Sept2-hab05\"\n",
    "paramd = {}\n",
    "with open(paramfile, 'r') as file:\n",
    "    for line in file:\n",
    "        result = line.replace(\"\\t\",\",\").replace('\\n','').split(',')\n",
    "\n",
    "        # attempt to add the density value to run, if it doesn't exist, create it\n",
    "        try:\n",
    "            paramd[int(result[0]) - 1].append((float(result[4])))\n",
    "        except KeyError:\n",
    "            paramd[int(result[0]) - 1] = (float(result[4]))  # { run#: host_density }\n",
    "\n",
    "for k, v in paramd.items():\n",
    "    print(k,v)"
   ],
   "metadata": {
    "collapsed": false,
    "pycharm": {
     "name": "#%%\n"
    }
   }
  },
  {
   "cell_type": "code",
   "execution_count": 25,
   "outputs": [
    {
     "name": "stderr",
     "output_type": "stream",
     "text": [
      "/home/hill/anaconda3/envs/abm/lib/python3.7/site-packages/IPython/core/interactiveshell.py:3063: DtypeWarning: Columns (0,1) have mixed types.Specify dtype option on import or set low_memory=False.\n",
      "  interactivity=interactivity, compiler=compiler, result=result)\n"
     ]
    },
    {
     "name": "stdout",
     "output_type": "stream",
     "text": [
      "Run time:  0:00:18.998129\n"
     ]
    }
   ],
   "source": [
    "# NEW CODE - dont build so many data structures\n",
    "# step 2: read csv, create df\n",
    "\n",
    "colnames = ['run', 'tick', 'lifestate', 'total_ixodes']\n",
    "csv_file = \"/media/hill/DATA-LINUX/abm-data/host-density/host-density.2020.Sep.02.hab05\"\n",
    "before = datetime.now()\n",
    "df = pd.read_csv(csv_file, names=colnames, header=None)\n",
    "after = datetime.now()\n",
    "\n",
    "print(\"Run time: \", after-before)\n",
    "# Reading csv takes ~20s\n",
    "#\n",
    "\n",
    "\n",
    "\n"
   ],
   "metadata": {
    "collapsed": false,
    "pycharm": {
     "name": "#%%\n"
    }
   }
  },
  {
   "cell_type": "code",
   "execution_count": null,
   "outputs": [],
   "source": [
    "n_ticks = df.groupby(['run'], as_index=False)\n",
    "# # n_ticks = n_ticks.agg(total_ixodes=pd.NamedAgg(column='name', aggfunc='nunique'))\n",
    "n_ticks = n_ticks.agg({'total_ixodes': 'nunique'})\n",
    "# takes ~14s"
   ],
   "metadata": {
    "collapsed": false,
    "pycharm": {
     "name": "#%%\n",
     "is_executing": true
    }
   }
  },
  {
   "cell_type": "code",
   "execution_count": 19,
   "outputs": [
    {
     "data": {
      "text/plain": "  run  total_ixodes  host_density\n0   1         26984           0.1\n1   2         39789           0.1\n2   3          4111           0.1\n3   4         15009           0.1\n4   5         10619           0.1",
      "text/html": "<div>\n<style scoped>\n    .dataframe tbody tr th:only-of-type {\n        vertical-align: middle;\n    }\n\n    .dataframe tbody tr th {\n        vertical-align: top;\n    }\n\n    .dataframe thead th {\n        text-align: right;\n    }\n</style>\n<table border=\"1\" class=\"dataframe\">\n  <thead>\n    <tr style=\"text-align: right;\">\n      <th></th>\n      <th>run</th>\n      <th>total_ixodes</th>\n      <th>host_density</th>\n    </tr>\n  </thead>\n  <tbody>\n    <tr>\n      <th>0</th>\n      <td>1</td>\n      <td>26984</td>\n      <td>0.1</td>\n    </tr>\n    <tr>\n      <th>1</th>\n      <td>2</td>\n      <td>39789</td>\n      <td>0.1</td>\n    </tr>\n    <tr>\n      <th>2</th>\n      <td>3</td>\n      <td>4111</td>\n      <td>0.1</td>\n    </tr>\n    <tr>\n      <th>3</th>\n      <td>4</td>\n      <td>15009</td>\n      <td>0.1</td>\n    </tr>\n    <tr>\n      <th>4</th>\n      <td>5</td>\n      <td>10619</td>\n      <td>0.1</td>\n    </tr>\n  </tbody>\n</table>\n</div>"
     },
     "execution_count": 19,
     "metadata": {},
     "output_type": "execute_result"
    }
   ],
   "source": [
    "n_ticks.head()"
   ],
   "metadata": {
    "collapsed": false,
    "pycharm": {
     "name": "#%%\n"
    }
   }
  },
  {
   "cell_type": "code",
   "execution_count": 20,
   "outputs": [
    {
     "data": {
      "text/plain": "  run  total_ixodes  host_density\n0   1         26984           0.1\n1   2         39789           0.1\n2   3          4111           0.1\n3   4         15009           0.1\n4   5         10619           0.1",
      "text/html": "<div>\n<style scoped>\n    .dataframe tbody tr th:only-of-type {\n        vertical-align: middle;\n    }\n\n    .dataframe tbody tr th {\n        vertical-align: top;\n    }\n\n    .dataframe thead th {\n        text-align: right;\n    }\n</style>\n<table border=\"1\" class=\"dataframe\">\n  <thead>\n    <tr style=\"text-align: right;\">\n      <th></th>\n      <th>run</th>\n      <th>total_ixodes</th>\n      <th>host_density</th>\n    </tr>\n  </thead>\n  <tbody>\n    <tr>\n      <th>0</th>\n      <td>1</td>\n      <td>26984</td>\n      <td>0.1</td>\n    </tr>\n    <tr>\n      <th>1</th>\n      <td>2</td>\n      <td>39789</td>\n      <td>0.1</td>\n    </tr>\n    <tr>\n      <th>2</th>\n      <td>3</td>\n      <td>4111</td>\n      <td>0.1</td>\n    </tr>\n    <tr>\n      <th>3</th>\n      <td>4</td>\n      <td>15009</td>\n      <td>0.1</td>\n    </tr>\n    <tr>\n      <th>4</th>\n      <td>5</td>\n      <td>10619</td>\n      <td>0.1</td>\n    </tr>\n  </tbody>\n</table>\n</div>"
     },
     "execution_count": 20,
     "metadata": {},
     "output_type": "execute_result"
    }
   ],
   "source": [
    "# step 3\n",
    "# Iterate through param dictionary and add the host density value to the associated run\n",
    "for key, value in paramd.items():\n",
    "    n_ticks.loc[n_ticks['run']==key, 'host_density' ] = float(value) #FIXME off by 1 with new method?\n",
    "n_ticks.head()\n"
   ],
   "metadata": {
    "collapsed": false,
    "pycharm": {
     "name": "#%%\n"
    }
   }
  },
  {
   "cell_type": "code",
   "execution_count": 23,
   "outputs": [
    {
     "data": {
      "text/plain": "              std          mean\nhost_density                   \n0.1           NaN  23294.888889\n0.3           NaN  23173.200000\n0.5           NaN  16029.600000\n0.7           NaN  14612.100000\n0.9           NaN  22640.700000",
      "text/html": "<div>\n<style scoped>\n    .dataframe tbody tr th:only-of-type {\n        vertical-align: middle;\n    }\n\n    .dataframe tbody tr th {\n        vertical-align: top;\n    }\n\n    .dataframe thead th {\n        text-align: right;\n    }\n</style>\n<table border=\"1\" class=\"dataframe\">\n  <thead>\n    <tr style=\"text-align: right;\">\n      <th></th>\n      <th>std</th>\n      <th>mean</th>\n    </tr>\n    <tr>\n      <th>host_density</th>\n      <th></th>\n      <th></th>\n    </tr>\n  </thead>\n  <tbody>\n    <tr>\n      <th>0.1</th>\n      <td>NaN</td>\n      <td>23294.888889</td>\n    </tr>\n    <tr>\n      <th>0.3</th>\n      <td>NaN</td>\n      <td>23173.200000</td>\n    </tr>\n    <tr>\n      <th>0.5</th>\n      <td>NaN</td>\n      <td>16029.600000</td>\n    </tr>\n    <tr>\n      <th>0.7</th>\n      <td>NaN</td>\n      <td>14612.100000</td>\n    </tr>\n    <tr>\n      <th>0.9</th>\n      <td>NaN</td>\n      <td>22640.700000</td>\n    </tr>\n  </tbody>\n</table>\n</div>"
     },
     "execution_count": 23,
     "metadata": {},
     "output_type": "execute_result"
    }
   ],
   "source": [
    "newdf = n_ticks.groupby('host_density')['total_ixodes'].agg({'mean', 'std'})\n",
    "newdf.head()\n"
   ],
   "metadata": {
    "collapsed": false,
    "pycharm": {
     "name": "#%%\n"
    }
   }
  },
  {
   "cell_type": "code",
   "execution_count": 24,
   "outputs": [
    {
     "data": {
      "text/plain": "              total_ixodes\nhost_density              \n0.1           23294.888889\n0.3           23173.200000\n0.5           16029.600000\n0.7           14612.100000\n0.9           22640.700000",
      "text/html": "<div>\n<style scoped>\n    .dataframe tbody tr th:only-of-type {\n        vertical-align: middle;\n    }\n\n    .dataframe tbody tr th {\n        vertical-align: top;\n    }\n\n    .dataframe thead th {\n        text-align: right;\n    }\n</style>\n<table border=\"1\" class=\"dataframe\">\n  <thead>\n    <tr style=\"text-align: right;\">\n      <th></th>\n      <th>total_ixodes</th>\n    </tr>\n    <tr>\n      <th>host_density</th>\n      <th></th>\n    </tr>\n  </thead>\n  <tbody>\n    <tr>\n      <th>0.1</th>\n      <td>23294.888889</td>\n    </tr>\n    <tr>\n      <th>0.3</th>\n      <td>23173.200000</td>\n    </tr>\n    <tr>\n      <th>0.5</th>\n      <td>16029.600000</td>\n    </tr>\n    <tr>\n      <th>0.7</th>\n      <td>14612.100000</td>\n    </tr>\n    <tr>\n      <th>0.9</th>\n      <td>22640.700000</td>\n    </tr>\n  </tbody>\n</table>\n</div>"
     },
     "execution_count": 24,
     "metadata": {},
     "output_type": "execute_result"
    }
   ],
   "source": [
    "# step 4 make the final df\n",
    "n_ticks = n_ticks.groupby('host_density', )\n",
    "n_ticks = n_ticks.agg({'total_ixodes': 'mean'})\n",
    "n_ticks.head()"
   ],
   "metadata": {
    "collapsed": false,
    "pycharm": {
     "name": "#%%\n"
    }
   }
  },
  {
   "cell_type": "code",
   "execution_count": 114,
   "outputs": [
    {
     "data": {
      "text/plain": "host_density\n0.01    11.0\n0.03    13.5\n0.05    16.0\nName: total_ixodes, dtype: float64"
     },
     "execution_count": 114,
     "metadata": {},
     "output_type": "execute_result"
    }
   ],
   "source": [
    "mean = n_ticks.groupby('host_density')['total_ixodes'].mean()\n",
    "std = n_ticks.groupby('host_density')['total_ixodes'].std()\n",
    "mean"
   ],
   "metadata": {
    "collapsed": false,
    "pycharm": {
     "name": "#%%\n"
    }
   }
  },
  {
   "cell_type": "code",
   "execution_count": 61,
   "outputs": [],
   "source": [
    "# -- OLD way\n",
    "# Create a dictionary that maps the run# to total ixode { run#: cumulative_ixode }\n",
    "ixode_count_dict = {}\n",
    "colnames = ['run', 'tick', 'lifestate', 'name']\n",
    "csv_file = \"/media/hill/DATA-LINUX/abm-data/host-density/testdf1hab\"\n",
    "df = pd.read_csv(csv_file, names=colnames, header=None, error_bad_lines=False)\n",
    "for run in df.groupby('run'):\n",
    "    current_df = run[1]\n",
    "    ixode_count_dict[run[0]] = len(current_df['name'].unique())\n"
   ],
   "metadata": {
    "collapsed": false,
    "pycharm": {
     "name": "#%%\n"
    }
   }
  },
  {
   "cell_type": "code",
   "execution_count": 97,
   "outputs": [
    {
     "ename": "NameError",
     "evalue": "name 'ixode_count_dict' is not defined",
     "output_type": "error",
     "traceback": [
      "\u001B[0;31m---------------------------------------------------------------------------\u001B[0m",
      "\u001B[0;31mNameError\u001B[0m                                 Traceback (most recent call last)",
      "\u001B[0;32m<ipython-input-97-4e69e659ff5c>\u001B[0m in \u001B[0;36m<module>\u001B[0;34m\u001B[0m\n\u001B[1;32m      1\u001B[0m \u001B[0;31m# Creating a data frame from the cumulative_ixodes dict generated above\u001B[0m\u001B[0;34m\u001B[0m\u001B[0;34m\u001B[0m\u001B[0;34m\u001B[0m\u001B[0m\n\u001B[0;32m----> 2\u001B[0;31m \u001B[0mdf_final\u001B[0m \u001B[0;34m=\u001B[0m \u001B[0mpd\u001B[0m\u001B[0;34m.\u001B[0m\u001B[0mDataFrame\u001B[0m\u001B[0;34m(\u001B[0m\u001B[0mixode_count_dict\u001B[0m\u001B[0;34m.\u001B[0m\u001B[0mitems\u001B[0m\u001B[0;34m(\u001B[0m\u001B[0;34m)\u001B[0m\u001B[0;34m,\u001B[0m \u001B[0mcolumns\u001B[0m\u001B[0;34m=\u001B[0m\u001B[0;34m[\u001B[0m\u001B[0;34m'run'\u001B[0m\u001B[0;34m,\u001B[0m \u001B[0;34m'total_ixodes'\u001B[0m\u001B[0;34m]\u001B[0m\u001B[0;34m)\u001B[0m\u001B[0;34m\u001B[0m\u001B[0;34m\u001B[0m\u001B[0m\n\u001B[0m\u001B[1;32m      3\u001B[0m \u001B[0;31m# df_final['host_density'] = 0\u001B[0m\u001B[0;34m\u001B[0m\u001B[0;34m\u001B[0m\u001B[0;34m\u001B[0m\u001B[0m\n\u001B[1;32m      4\u001B[0m \u001B[0mdf_final\u001B[0m\u001B[0;34m.\u001B[0m\u001B[0mdtypes\u001B[0m\u001B[0;34m\u001B[0m\u001B[0;34m\u001B[0m\u001B[0m\n\u001B[1;32m      5\u001B[0m \u001B[0;34m\u001B[0m\u001B[0m\n",
      "\u001B[0;31mNameError\u001B[0m: name 'ixode_count_dict' is not defined"
     ]
    }
   ],
   "source": [
    "# Creating a data frame from the cumulative_ixodes dict generated above\n",
    "df_final = pd.DataFrame(ixode_count_dict.items(), columns=['run', 'total_ixodes'])\n",
    "df_final['host_density'] = 0\n",
    "df_final.dtypes"
   ],
   "metadata": {
    "collapsed": false,
    "pycharm": {
     "name": "#%%\n"
    }
   }
  },
  {
   "cell_type": "code",
   "execution_count": 100,
   "outputs": [
    {
     "ename": "NameError",
     "evalue": "name 'df_final' is not defined",
     "output_type": "error",
     "traceback": [
      "\u001B[0;31m---------------------------------------------------------------------------\u001B[0m",
      "\u001B[0;31mNameError\u001B[0m                                 Traceback (most recent call last)",
      "\u001B[0;32m<ipython-input-100-3db0299bb396>\u001B[0m in \u001B[0;36m<module>\u001B[0;34m\u001B[0m\n\u001B[1;32m      3\u001B[0m     \u001B[0;32mfor\u001B[0m \u001B[0mi\u001B[0m \u001B[0;32min\u001B[0m \u001B[0mrange\u001B[0m\u001B[0;34m(\u001B[0m\u001B[0mlen\u001B[0m\u001B[0;34m(\u001B[0m\u001B[0mparamd\u001B[0m\u001B[0;34m)\u001B[0m\u001B[0;34m)\u001B[0m\u001B[0;34m:\u001B[0m\u001B[0;34m\u001B[0m\u001B[0;34m\u001B[0m\u001B[0m\n\u001B[1;32m      4\u001B[0m         \u001B[0;31m# print(type(value))\u001B[0m\u001B[0;34m\u001B[0m\u001B[0;34m\u001B[0m\u001B[0;34m\u001B[0m\u001B[0m\n\u001B[0;32m----> 5\u001B[0;31m         \u001B[0mdf_final\u001B[0m\u001B[0;34m.\u001B[0m\u001B[0mloc\u001B[0m\u001B[0;34m[\u001B[0m\u001B[0mdf_final\u001B[0m\u001B[0;34m[\u001B[0m\u001B[0;34m'run'\u001B[0m\u001B[0;34m]\u001B[0m\u001B[0;34m==\u001B[0m\u001B[0mkey\u001B[0m\u001B[0;34m,\u001B[0m \u001B[0;34m'host_density'\u001B[0m\u001B[0;34m]\u001B[0m \u001B[0;34m=\u001B[0m \u001B[0mvalue\u001B[0m\u001B[0;34m\u001B[0m\u001B[0;34m\u001B[0m\u001B[0m\n\u001B[0m\u001B[1;32m      6\u001B[0m \u001B[0;34m\u001B[0m\u001B[0m\n\u001B[1;32m      7\u001B[0m \u001B[0mdf_final\u001B[0m\u001B[0;34m.\u001B[0m\u001B[0mdtypes\u001B[0m\u001B[0;34m\u001B[0m\u001B[0;34m\u001B[0m\u001B[0m\n",
      "\u001B[0;31mNameError\u001B[0m: name 'df_final' is not defined"
     ]
    }
   ],
   "source": [
    "# Iterate through param dictionary and add the host density value to the associated run\n",
    "for key, value in paramd.items():\n",
    "    for i in range(len(paramd)):\n",
    "        # print(type(value))\n",
    "        df_final.loc[df_final['run']==key, 'host_density'] = value\n",
    "\n",
    "df_final.dtypes"
   ],
   "metadata": {
    "collapsed": false,
    "pycharm": {
     "name": "#%%\n"
    }
   }
  },
  {
   "cell_type": "code",
   "execution_count": 58,
   "outputs": [
    {
     "name": "stdout",
     "output_type": "stream",
     "text": [
      "0.7\n"
     ]
    }
   ],
   "source": [
    "# Now we have a df with | 'run' | 'total_ixode' | 'host_density' |\n",
    "# Create a dictionary with { host_density: agg_ixodes }\n",
    "agg_ixodes_dict = {}\n",
    "for density in df_final.groupby('host_density'):\n",
    "    tmp_df = density[1] # density is a tuple, so density[1] is the df we want\n",
    "    # print(density[0])\n",
    "    agg_ixodes_dict[density[0]] = tmp_df['total_ixodes'].agg('mean')\n",
    "\n",
    "\n",
    "# in test file - should get 1880.75 for 0.4, 7898.5 for 0.7, and 24917 for 1.0\n"
   ],
   "metadata": {
    "collapsed": false,
    "pycharm": {
     "name": "#%%\n"
    }
   }
  },
  {
   "cell_type": "code",
   "execution_count": 52,
   "outputs": [
    {
     "data": {
      "text/plain": "  host_density  agg_ixodes\n0          0.7        13.8",
      "text/html": "<div>\n<style scoped>\n    .dataframe tbody tr th:only-of-type {\n        vertical-align: middle;\n    }\n\n    .dataframe tbody tr th {\n        vertical-align: top;\n    }\n\n    .dataframe thead th {\n        text-align: right;\n    }\n</style>\n<table border=\"1\" class=\"dataframe\">\n  <thead>\n    <tr style=\"text-align: right;\">\n      <th></th>\n      <th>host_density</th>\n      <th>agg_ixodes</th>\n    </tr>\n  </thead>\n  <tbody>\n    <tr>\n      <th>0</th>\n      <td>0.7</td>\n      <td>13.8</td>\n    </tr>\n  </tbody>\n</table>\n</div>"
     },
     "execution_count": 52,
     "metadata": {},
     "output_type": "execute_result"
    }
   ],
   "source": [
    "# Create a dataframe from the agg_ixodes_dict that we can then plot\n",
    "df_agg_final = pd.DataFrame(agg_ixodes_dict.items(), columns=['host_density', 'agg_ixodes'])\n",
    "df_agg_final.head()"
   ],
   "metadata": {
    "collapsed": false,
    "pycharm": {
     "name": "#%%\n"
    }
   }
  },
  {
   "cell_type": "code",
   "execution_count": null,
   "outputs": [],
   "source": [],
   "metadata": {
    "collapsed": false,
    "pycharm": {
     "name": "#%%\n"
    }
   }
  },
  {
   "cell_type": "code",
   "execution_count": 9,
   "outputs": [],
   "source": [
    "matplotlib.use('Qt5Agg')\n",
    "plt.plot(df_agg_final['host_density'], df_agg_final['agg_ixodes'])\n",
    "plt.show(block=True)"
   ],
   "metadata": {
    "collapsed": false,
    "pycharm": {
     "name": "#%%\n"
    }
   }
  },
  {
   "cell_type": "code",
   "execution_count": 33,
   "outputs": [
    {
     "name": "stdout",
     "output_type": "stream",
     "text": [
      "{'1\\ttick_lifestage\\tadult': 'Lifestage: large_host_density\\t0.7\\nStarting Ixodes: tick_count\\t10\\nHabitat Suitability: habitat_suitability\\t0.01', '2\\ttick_lifestage\\tadult': 'Lifestage: large_host_density\\t0.7\\nStarting Ixodes: tick_count\\t10\\nHabitat Suitability: habitat_suitability\\t0.03', '3\\ttick_lifestage\\tadult': 'Lifestage: large_host_density\\t0.7\\nStarting Ixodes: tick_count\\t10\\nHabitat Suitability: habitat_suitability\\t0.05', '4\\ttick_lifestage\\tadult': 'Lifestage: large_host_density\\t0.7\\nStarting Ixodes: tick_count\\t10\\nHabitat Suitability: habitat_suitability\\t0.07', '5\\ttick_lifestage\\tadult': 'Lifestage: large_host_density\\t0.7\\nStarting Ixodes: tick_count\\t10\\nHabitat Suitability: habitat_suitability\\t0.1'}\n"
     ]
    }
   ],
   "source": [
    "with open(paramfile, 'r') as file:\n",
    "    reader = csv.reader(file)\n",
    "    param_str = {rows[0]: \"Lifestage: {}\\nStarting Ixodes: {}\\nHabitat Suitability: {}\".format(\n",
    "        rows[1], rows[2], rows[3]) for rows in reader}\n",
    "    print(param_str)"
   ],
   "metadata": {
    "collapsed": false,
    "pycharm": {
     "name": "#%%\n"
    }
   }
  },
  {
   "cell_type": "code",
   "execution_count": 40,
   "outputs": [],
   "source": [
    "fig, ax = plt.subplots()\n",
    "ax.set_title(\"Test Agg Host Density\")\n",
    "ax.set_ylabel(\"Total Ixodes\")\n",
    "ax.set_xlabel(\"Host Density\")\n",
    "props = dict(facecolor='wheat', alpha=0.5)\n",
    "ax.plot(df_agg_final['host_density'], df_agg_final['agg_ixodes'])\n",
    "plt.figtext(0.5,0.5, 'Lifestage: adult\\nStarting Ixodes: 10\\nHabitat Suitability: 0.05', bbox=props)\n",
    "plt.show(block=True)"
   ],
   "metadata": {
    "collapsed": false,
    "pycharm": {
     "name": "#%%\n"
    }
   }
  },
  {
   "cell_type": "code",
   "execution_count": 49,
   "outputs": [],
   "source": [
    "df2 = df_agg_final.copy()\n",
    "ax=df2.plot()\n",
    "df_agg_final.plot(ax=ax)\n",
    "plt.show(block=True)\n",
    "\n"
   ],
   "metadata": {
    "collapsed": false,
    "pycharm": {
     "name": "#%%\n"
    }
   }
  }
 ],
 "metadata": {
  "kernelspec": {
   "display_name": "Python 3",
   "language": "python",
   "name": "python3"
  },
  "language_info": {
   "codemirror_mode": {
    "name": "ipython",
    "version": 2
   },
   "file_extension": ".py",
   "mimetype": "text/x-python",
   "name": "python",
   "nbconvert_exporter": "python",
   "pygments_lexer": "ipython2",
   "version": "2.7.6"
  }
 },
 "nbformat": 4,
 "nbformat_minor": 0
}